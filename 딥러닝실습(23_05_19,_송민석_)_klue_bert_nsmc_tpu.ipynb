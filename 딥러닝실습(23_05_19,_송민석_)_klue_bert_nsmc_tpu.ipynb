{
  "nbformat": 4,
  "nbformat_minor": 0,
  "metadata": {
    "accelerator": "TPU",
    "colab": {
      "provenance": [],
      "machine_shape": "hm",
      "gpuType": "T4"
    },
    "kernelspec": {
      "display_name": "Python 3",
      "name": "python3"
    },
    "language_info": {
      "name": "python"
    },
    "gpuClass": "standard"
  },
  "cells": [
    {
      "cell_type": "markdown",
      "source": [
        "# KLUE BERT를 이용한 네이버 영화 리뷰 감성분석\n",
        "\n",
        "런타임 유형을 **TPU**로 설정하세요.\n",
        "\n",
        "원본 링크 : https://github.com/ukairia777/tensorflow-nlp-tutorial (<a href=https://creativecommons.org/licenses/by-nc-sa/2.0/kr/>CC BY-NC-SA 2.0 KR</a>)<br>\n",
        "Modified by uramoon@kw.ac.kr"
      ],
      "metadata": {
        "id": "NdB6WMpxKo_U"
      }
    },
    {
      "cell_type": "markdown",
      "source": [
        "KLUE BERT는 한국어에 대해 학습된 BERT 모델입니다.\n",
        "KLUE는 Korean Language Understanding Evaluation의 약어로 한국어 이해능력을 평가하는 벤치마크이며, BERT는 Bidirectional Encoder Representations from Transfomerers의 약어로 구글에서 개발한 자연어처리 모델입니다.\n",
        "\n",
        "\n",
        "![](https://encrypted-tbn0.gstatic.com/images?q=tbn:ANd9GcQc4oeBEEOISwWxlXG2X7XViY-2GAmHea9kUQ&usqp=CAU)\n",
        "\n",
        "본 노트북에서는 KLUE BERT를 불러와서 전이학습으로 네이버 영화 리뷰에 대해 감성분석을 수행합니다.<br>\n",
        "KLUE BERT는 모두의 말뭉치, 나무위키, 뉴스기사, 청와대 국민청원 등 62GB의 데이터로 훈련한 모델입니다."
      ],
      "metadata": {
        "id": "dGlqVF6kPc7m"
      }
    },
    {
      "cell_type": "markdown",
      "source": [
        "## 패키지 설치\n",
        "런타임 유형을 **TPU**로 설정하세요."
      ],
      "metadata": {
        "id": "NGLWn1UpQkOB"
      }
    },
    {
      "cell_type": "code",
      "metadata": {
        "id": "h7TPztkdcdLO",
        "colab": {
          "base_uri": "https://localhost:8080/"
        },
        "outputId": "c356b2f2-44fe-4fb2-c3f6-31ec41b04006"
      },
      "source": [
        "# KLUE BERT를사용하기 위한 패키지 설치\n",
        "!pip install transformers"
      ],
      "execution_count": 55,
      "outputs": [
        {
          "output_type": "stream",
          "name": "stdout",
          "text": [
            "Looking in indexes: https://pypi.org/simple, https://us-python.pkg.dev/colab-wheels/public/simple/\n",
            "Requirement already satisfied: transformers in /usr/local/lib/python3.10/dist-packages (4.29.2)\n",
            "Requirement already satisfied: filelock in /usr/local/lib/python3.10/dist-packages (from transformers) (3.12.0)\n",
            "Requirement already satisfied: huggingface-hub<1.0,>=0.14.1 in /usr/local/lib/python3.10/dist-packages (from transformers) (0.14.1)\n",
            "Requirement already satisfied: numpy>=1.17 in /usr/local/lib/python3.10/dist-packages (from transformers) (1.24.3)\n",
            "Requirement already satisfied: packaging>=20.0 in /usr/local/lib/python3.10/dist-packages (from transformers) (23.1)\n",
            "Requirement already satisfied: pyyaml>=5.1 in /usr/local/lib/python3.10/dist-packages (from transformers) (6.0)\n",
            "Requirement already satisfied: regex!=2019.12.17 in /usr/local/lib/python3.10/dist-packages (from transformers) (2022.10.31)\n",
            "Requirement already satisfied: requests in /usr/local/lib/python3.10/dist-packages (from transformers) (2.27.1)\n",
            "Requirement already satisfied: tokenizers!=0.11.3,<0.14,>=0.11.1 in /usr/local/lib/python3.10/dist-packages (from transformers) (0.13.3)\n",
            "Requirement already satisfied: tqdm>=4.27 in /usr/local/lib/python3.10/dist-packages (from transformers) (4.65.0)\n",
            "Requirement already satisfied: fsspec in /usr/local/lib/python3.10/dist-packages (from huggingface-hub<1.0,>=0.14.1->transformers) (2023.4.0)\n",
            "Requirement already satisfied: typing-extensions>=3.7.4.3 in /usr/local/lib/python3.10/dist-packages (from huggingface-hub<1.0,>=0.14.1->transformers) (4.5.0)\n",
            "Requirement already satisfied: urllib3<1.27,>=1.21.1 in /usr/local/lib/python3.10/dist-packages (from requests->transformers) (1.26.15)\n",
            "Requirement already satisfied: certifi>=2017.4.17 in /usr/local/lib/python3.10/dist-packages (from requests->transformers) (2022.12.7)\n",
            "Requirement already satisfied: charset-normalizer~=2.0.0 in /usr/local/lib/python3.10/dist-packages (from requests->transformers) (2.0.12)\n",
            "Requirement already satisfied: idna<4,>=2.5 in /usr/local/lib/python3.10/dist-packages (from requests->transformers) (3.4)\n"
          ]
        }
      ]
    },
    {
      "cell_type": "code",
      "metadata": {
        "id": "HPC7cPCrnF0q"
      },
      "source": [
        "import pandas as pd\n",
        "import numpy as np\n",
        "import urllib.request\n",
        "import os\n",
        "from tqdm import tqdm\n",
        "import tensorflow as tf\n",
        "import transformers\n",
        "from transformers import BertTokenizer, TFBertModel"
      ],
      "execution_count": 56,
      "outputs": []
    },
    {
      "cell_type": "markdown",
      "source": [
        "## 데이터 준비하기"
      ],
      "metadata": {
        "id": "btnLJKRnQqBP"
      }
    },
    {
      "cell_type": "code",
      "metadata": {
        "id": "QYbuNR1tdJca",
        "colab": {
          "base_uri": "https://localhost:8080/"
        },
        "outputId": "34b21303-8c77-4cfb-c0ba-360ac3273eff"
      },
      "source": [
        "# 훈련 데이터와 테스트 데이터 다운로드\n",
        "urllib.request.urlretrieve(\"https://raw.githubusercontent.com/e9t/nsmc/master/ratings_train.txt\", filename=\"ratings_train.txt\")\n",
        "urllib.request.urlretrieve(\"https://raw.githubusercontent.com/e9t/nsmc/master/ratings_test.txt\", filename=\"ratings_test.txt\")"
      ],
      "execution_count": 57,
      "outputs": [
        {
          "output_type": "execute_result",
          "data": {
            "text/plain": [
              "('ratings_test.txt', <http.client.HTTPMessage at 0x7f047e418430>)"
            ]
          },
          "metadata": {},
          "execution_count": 57
        }
      ]
    },
    {
      "cell_type": "code",
      "metadata": {
        "id": "opGrZfOseqRi"
      },
      "source": [
        "# TODO: DataFrame으로 읽기\n",
        "train_data = pd.read_table('ratings_train.txt')\n",
        "test_data = pd.read_table('ratings_test.txt')"
      ],
      "execution_count": 58,
      "outputs": []
    },
    {
      "cell_type": "code",
      "metadata": {
        "id": "aiF5GOyxelOY",
        "colab": {
          "base_uri": "https://localhost:8080/"
        },
        "outputId": "ae86ca70-51f2-4f27-9ef9-f3512b1df316"
      },
      "source": [
        "# TODO: 데이터 크기 확인하기\n",
        "print('훈련용 리뷰 개수 :', len(train_data)) # 훈련용 리뷰 개수 출력\n",
        "print('테스트용 리뷰 개수 :', len(test_data)) # 테스트용 리뷰 개수 출력"
      ],
      "execution_count": 59,
      "outputs": [
        {
          "output_type": "stream",
          "name": "stdout",
          "text": [
            "훈련용 리뷰 개수 : 150000\n",
            "테스트용 리뷰 개수 : 50000\n"
          ]
        }
      ]
    },
    {
      "cell_type": "code",
      "metadata": {
        "id": "vvzQl1j7eqhS",
        "colab": {
          "base_uri": "https://localhost:8080/",
          "height": 206
        },
        "outputId": "9ba6992d-143b-451c-f077-5d9b9b809be1"
      },
      "source": [
        "# TODO: 훈련 데이터에서 처음 5개 출력하기\n",
        "train_data[:5] # 상위 5개 출력"
      ],
      "execution_count": 60,
      "outputs": [
        {
          "output_type": "execute_result",
          "data": {
            "text/plain": [
              "         id                                           document  label\n",
              "0   9976970                                아 더빙.. 진짜 짜증나네요 목소리      0\n",
              "1   3819312                  흠...포스터보고 초딩영화줄....오버연기조차 가볍지 않구나      1\n",
              "2  10265843                                  너무재밓었다그래서보는것을추천한다      0\n",
              "3   9045019                      교도소 이야기구먼 ..솔직히 재미는 없다..평점 조정      0\n",
              "4   6483659  사이몬페그의 익살스런 연기가 돋보였던 영화!스파이더맨에서 늙어보이기만 했던 커스틴 ...      1"
            ],
            "text/html": [
              "\n",
              "  <div id=\"df-0899efd1-a242-4fd3-bd10-1b63710280d3\">\n",
              "    <div class=\"colab-df-container\">\n",
              "      <div>\n",
              "<style scoped>\n",
              "    .dataframe tbody tr th:only-of-type {\n",
              "        vertical-align: middle;\n",
              "    }\n",
              "\n",
              "    .dataframe tbody tr th {\n",
              "        vertical-align: top;\n",
              "    }\n",
              "\n",
              "    .dataframe thead th {\n",
              "        text-align: right;\n",
              "    }\n",
              "</style>\n",
              "<table border=\"1\" class=\"dataframe\">\n",
              "  <thead>\n",
              "    <tr style=\"text-align: right;\">\n",
              "      <th></th>\n",
              "      <th>id</th>\n",
              "      <th>document</th>\n",
              "      <th>label</th>\n",
              "    </tr>\n",
              "  </thead>\n",
              "  <tbody>\n",
              "    <tr>\n",
              "      <th>0</th>\n",
              "      <td>9976970</td>\n",
              "      <td>아 더빙.. 진짜 짜증나네요 목소리</td>\n",
              "      <td>0</td>\n",
              "    </tr>\n",
              "    <tr>\n",
              "      <th>1</th>\n",
              "      <td>3819312</td>\n",
              "      <td>흠...포스터보고 초딩영화줄....오버연기조차 가볍지 않구나</td>\n",
              "      <td>1</td>\n",
              "    </tr>\n",
              "    <tr>\n",
              "      <th>2</th>\n",
              "      <td>10265843</td>\n",
              "      <td>너무재밓었다그래서보는것을추천한다</td>\n",
              "      <td>0</td>\n",
              "    </tr>\n",
              "    <tr>\n",
              "      <th>3</th>\n",
              "      <td>9045019</td>\n",
              "      <td>교도소 이야기구먼 ..솔직히 재미는 없다..평점 조정</td>\n",
              "      <td>0</td>\n",
              "    </tr>\n",
              "    <tr>\n",
              "      <th>4</th>\n",
              "      <td>6483659</td>\n",
              "      <td>사이몬페그의 익살스런 연기가 돋보였던 영화!스파이더맨에서 늙어보이기만 했던 커스틴 ...</td>\n",
              "      <td>1</td>\n",
              "    </tr>\n",
              "  </tbody>\n",
              "</table>\n",
              "</div>\n",
              "      <button class=\"colab-df-convert\" onclick=\"convertToInteractive('df-0899efd1-a242-4fd3-bd10-1b63710280d3')\"\n",
              "              title=\"Convert this dataframe to an interactive table.\"\n",
              "              style=\"display:none;\">\n",
              "        \n",
              "  <svg xmlns=\"http://www.w3.org/2000/svg\" height=\"24px\"viewBox=\"0 0 24 24\"\n",
              "       width=\"24px\">\n",
              "    <path d=\"M0 0h24v24H0V0z\" fill=\"none\"/>\n",
              "    <path d=\"M18.56 5.44l.94 2.06.94-2.06 2.06-.94-2.06-.94-.94-2.06-.94 2.06-2.06.94zm-11 1L8.5 8.5l.94-2.06 2.06-.94-2.06-.94L8.5 2.5l-.94 2.06-2.06.94zm10 10l.94 2.06.94-2.06 2.06-.94-2.06-.94-.94-2.06-.94 2.06-2.06.94z\"/><path d=\"M17.41 7.96l-1.37-1.37c-.4-.4-.92-.59-1.43-.59-.52 0-1.04.2-1.43.59L10.3 9.45l-7.72 7.72c-.78.78-.78 2.05 0 2.83L4 21.41c.39.39.9.59 1.41.59.51 0 1.02-.2 1.41-.59l7.78-7.78 2.81-2.81c.8-.78.8-2.07 0-2.86zM5.41 20L4 18.59l7.72-7.72 1.47 1.35L5.41 20z\"/>\n",
              "  </svg>\n",
              "      </button>\n",
              "      \n",
              "  <style>\n",
              "    .colab-df-container {\n",
              "      display:flex;\n",
              "      flex-wrap:wrap;\n",
              "      gap: 12px;\n",
              "    }\n",
              "\n",
              "    .colab-df-convert {\n",
              "      background-color: #E8F0FE;\n",
              "      border: none;\n",
              "      border-radius: 50%;\n",
              "      cursor: pointer;\n",
              "      display: none;\n",
              "      fill: #1967D2;\n",
              "      height: 32px;\n",
              "      padding: 0 0 0 0;\n",
              "      width: 32px;\n",
              "    }\n",
              "\n",
              "    .colab-df-convert:hover {\n",
              "      background-color: #E2EBFA;\n",
              "      box-shadow: 0px 1px 2px rgba(60, 64, 67, 0.3), 0px 1px 3px 1px rgba(60, 64, 67, 0.15);\n",
              "      fill: #174EA6;\n",
              "    }\n",
              "\n",
              "    [theme=dark] .colab-df-convert {\n",
              "      background-color: #3B4455;\n",
              "      fill: #D2E3FC;\n",
              "    }\n",
              "\n",
              "    [theme=dark] .colab-df-convert:hover {\n",
              "      background-color: #434B5C;\n",
              "      box-shadow: 0px 1px 3px 1px rgba(0, 0, 0, 0.15);\n",
              "      filter: drop-shadow(0px 1px 2px rgba(0, 0, 0, 0.3));\n",
              "      fill: #FFFFFF;\n",
              "    }\n",
              "  </style>\n",
              "\n",
              "      <script>\n",
              "        const buttonEl =\n",
              "          document.querySelector('#df-0899efd1-a242-4fd3-bd10-1b63710280d3 button.colab-df-convert');\n",
              "        buttonEl.style.display =\n",
              "          google.colab.kernel.accessAllowed ? 'block' : 'none';\n",
              "\n",
              "        async function convertToInteractive(key) {\n",
              "          const element = document.querySelector('#df-0899efd1-a242-4fd3-bd10-1b63710280d3');\n",
              "          const dataTable =\n",
              "            await google.colab.kernel.invokeFunction('convertToInteractive',\n",
              "                                                     [key], {});\n",
              "          if (!dataTable) return;\n",
              "\n",
              "          const docLinkHtml = 'Like what you see? Visit the ' +\n",
              "            '<a target=\"_blank\" href=https://colab.research.google.com/notebooks/data_table.ipynb>data table notebook</a>'\n",
              "            + ' to learn more about interactive tables.';\n",
              "          element.innerHTML = '';\n",
              "          dataTable['output_type'] = 'display_data';\n",
              "          await google.colab.output.renderOutput(dataTable, element);\n",
              "          const docLink = document.createElement('div');\n",
              "          docLink.innerHTML = docLinkHtml;\n",
              "          element.appendChild(docLink);\n",
              "        }\n",
              "      </script>\n",
              "    </div>\n",
              "  </div>\n",
              "  "
            ]
          },
          "metadata": {},
          "execution_count": 60
        }
      ]
    },
    {
      "cell_type": "code",
      "metadata": {
        "id": "W9ppfuX4erVK",
        "colab": {
          "base_uri": "https://localhost:8080/",
          "height": 206
        },
        "outputId": "ac455e41-fd7a-44b3-fb8a-1222b71f4dd7"
      },
      "source": [
        "# TODO: 테스트 데이터에서 처음 5개 출력하기\n",
        "test_data[:5] # 상위 5개 출력"
      ],
      "execution_count": 61,
      "outputs": [
        {
          "output_type": "execute_result",
          "data": {
            "text/plain": [
              "        id                                           document  label\n",
              "0  6270596                                                굳 ㅋ      1\n",
              "1  9274899                               GDNTOPCLASSINTHECLUB      0\n",
              "2  8544678             뭐야 이 평점들은.... 나쁘진 않지만 10점 짜리는 더더욱 아니잖아      0\n",
              "3  6825595                   지루하지는 않은데 완전 막장임... 돈주고 보기에는....      0\n",
              "4  6723715  3D만 아니었어도 별 다섯 개 줬을텐데.. 왜 3D로 나와서 제 심기를 불편하게 하죠??      0"
            ],
            "text/html": [
              "\n",
              "  <div id=\"df-502d857d-655a-4f2d-aa15-4058ac419786\">\n",
              "    <div class=\"colab-df-container\">\n",
              "      <div>\n",
              "<style scoped>\n",
              "    .dataframe tbody tr th:only-of-type {\n",
              "        vertical-align: middle;\n",
              "    }\n",
              "\n",
              "    .dataframe tbody tr th {\n",
              "        vertical-align: top;\n",
              "    }\n",
              "\n",
              "    .dataframe thead th {\n",
              "        text-align: right;\n",
              "    }\n",
              "</style>\n",
              "<table border=\"1\" class=\"dataframe\">\n",
              "  <thead>\n",
              "    <tr style=\"text-align: right;\">\n",
              "      <th></th>\n",
              "      <th>id</th>\n",
              "      <th>document</th>\n",
              "      <th>label</th>\n",
              "    </tr>\n",
              "  </thead>\n",
              "  <tbody>\n",
              "    <tr>\n",
              "      <th>0</th>\n",
              "      <td>6270596</td>\n",
              "      <td>굳 ㅋ</td>\n",
              "      <td>1</td>\n",
              "    </tr>\n",
              "    <tr>\n",
              "      <th>1</th>\n",
              "      <td>9274899</td>\n",
              "      <td>GDNTOPCLASSINTHECLUB</td>\n",
              "      <td>0</td>\n",
              "    </tr>\n",
              "    <tr>\n",
              "      <th>2</th>\n",
              "      <td>8544678</td>\n",
              "      <td>뭐야 이 평점들은.... 나쁘진 않지만 10점 짜리는 더더욱 아니잖아</td>\n",
              "      <td>0</td>\n",
              "    </tr>\n",
              "    <tr>\n",
              "      <th>3</th>\n",
              "      <td>6825595</td>\n",
              "      <td>지루하지는 않은데 완전 막장임... 돈주고 보기에는....</td>\n",
              "      <td>0</td>\n",
              "    </tr>\n",
              "    <tr>\n",
              "      <th>4</th>\n",
              "      <td>6723715</td>\n",
              "      <td>3D만 아니었어도 별 다섯 개 줬을텐데.. 왜 3D로 나와서 제 심기를 불편하게 하죠??</td>\n",
              "      <td>0</td>\n",
              "    </tr>\n",
              "  </tbody>\n",
              "</table>\n",
              "</div>\n",
              "      <button class=\"colab-df-convert\" onclick=\"convertToInteractive('df-502d857d-655a-4f2d-aa15-4058ac419786')\"\n",
              "              title=\"Convert this dataframe to an interactive table.\"\n",
              "              style=\"display:none;\">\n",
              "        \n",
              "  <svg xmlns=\"http://www.w3.org/2000/svg\" height=\"24px\"viewBox=\"0 0 24 24\"\n",
              "       width=\"24px\">\n",
              "    <path d=\"M0 0h24v24H0V0z\" fill=\"none\"/>\n",
              "    <path d=\"M18.56 5.44l.94 2.06.94-2.06 2.06-.94-2.06-.94-.94-2.06-.94 2.06-2.06.94zm-11 1L8.5 8.5l.94-2.06 2.06-.94-2.06-.94L8.5 2.5l-.94 2.06-2.06.94zm10 10l.94 2.06.94-2.06 2.06-.94-2.06-.94-.94-2.06-.94 2.06-2.06.94z\"/><path d=\"M17.41 7.96l-1.37-1.37c-.4-.4-.92-.59-1.43-.59-.52 0-1.04.2-1.43.59L10.3 9.45l-7.72 7.72c-.78.78-.78 2.05 0 2.83L4 21.41c.39.39.9.59 1.41.59.51 0 1.02-.2 1.41-.59l7.78-7.78 2.81-2.81c.8-.78.8-2.07 0-2.86zM5.41 20L4 18.59l7.72-7.72 1.47 1.35L5.41 20z\"/>\n",
              "  </svg>\n",
              "      </button>\n",
              "      \n",
              "  <style>\n",
              "    .colab-df-container {\n",
              "      display:flex;\n",
              "      flex-wrap:wrap;\n",
              "      gap: 12px;\n",
              "    }\n",
              "\n",
              "    .colab-df-convert {\n",
              "      background-color: #E8F0FE;\n",
              "      border: none;\n",
              "      border-radius: 50%;\n",
              "      cursor: pointer;\n",
              "      display: none;\n",
              "      fill: #1967D2;\n",
              "      height: 32px;\n",
              "      padding: 0 0 0 0;\n",
              "      width: 32px;\n",
              "    }\n",
              "\n",
              "    .colab-df-convert:hover {\n",
              "      background-color: #E2EBFA;\n",
              "      box-shadow: 0px 1px 2px rgba(60, 64, 67, 0.3), 0px 1px 3px 1px rgba(60, 64, 67, 0.15);\n",
              "      fill: #174EA6;\n",
              "    }\n",
              "\n",
              "    [theme=dark] .colab-df-convert {\n",
              "      background-color: #3B4455;\n",
              "      fill: #D2E3FC;\n",
              "    }\n",
              "\n",
              "    [theme=dark] .colab-df-convert:hover {\n",
              "      background-color: #434B5C;\n",
              "      box-shadow: 0px 1px 3px 1px rgba(0, 0, 0, 0.15);\n",
              "      filter: drop-shadow(0px 1px 2px rgba(0, 0, 0, 0.3));\n",
              "      fill: #FFFFFF;\n",
              "    }\n",
              "  </style>\n",
              "\n",
              "      <script>\n",
              "        const buttonEl =\n",
              "          document.querySelector('#df-502d857d-655a-4f2d-aa15-4058ac419786 button.colab-df-convert');\n",
              "        buttonEl.style.display =\n",
              "          google.colab.kernel.accessAllowed ? 'block' : 'none';\n",
              "\n",
              "        async function convertToInteractive(key) {\n",
              "          const element = document.querySelector('#df-502d857d-655a-4f2d-aa15-4058ac419786');\n",
              "          const dataTable =\n",
              "            await google.colab.kernel.invokeFunction('convertToInteractive',\n",
              "                                                     [key], {});\n",
              "          if (!dataTable) return;\n",
              "\n",
              "          const docLinkHtml = 'Like what you see? Visit the ' +\n",
              "            '<a target=\"_blank\" href=https://colab.research.google.com/notebooks/data_table.ipynb>data table notebook</a>'\n",
              "            + ' to learn more about interactive tables.';\n",
              "          element.innerHTML = '';\n",
              "          dataTable['output_type'] = 'display_data';\n",
              "          await google.colab.output.renderOutput(dataTable, element);\n",
              "          const docLink = document.createElement('div');\n",
              "          docLink.innerHTML = docLinkHtml;\n",
              "          element.appendChild(docLink);\n",
              "        }\n",
              "      </script>\n",
              "    </div>\n",
              "  </div>\n",
              "  "
            ]
          },
          "metadata": {},
          "execution_count": 61
        }
      ]
    },
    {
      "cell_type": "code",
      "metadata": {
        "id": "vWSh9Lc-esFC",
        "colab": {
          "base_uri": "https://localhost:8080/"
        },
        "outputId": "7c8c6d78-0b1b-409d-d125-931ef0f7208f"
      },
      "source": [
        "# 훈련 데이터에서 NULL 값을 포함한 행 제거\n",
        "train_data = train_data.dropna(how = 'any') # Null 값이 존재하는 행 제거\n",
        "train_data = train_data.reset_index(drop=True) # 인덱스 재설정\n",
        "print(train_data.isnull().values.any()) # Null 값이 존재하는지 확인"
      ],
      "execution_count": 62,
      "outputs": [
        {
          "output_type": "stream",
          "name": "stdout",
          "text": [
            "False\n"
          ]
        }
      ]
    },
    {
      "cell_type": "code",
      "metadata": {
        "id": "tAgd9TbRetIa",
        "colab": {
          "base_uri": "https://localhost:8080/"
        },
        "outputId": "f445013d-d6c8-401e-d902-20be6833dadc"
      },
      "source": [
        "# TODO: 테스트 데이터에서 NULL 값을 포함한 행 제거\n",
        "test_data = test_data.dropna(how = 'any')#: Null 값이 존재하는 행 제거\n",
        "test_data = test_data.reset_index(drop=True)#: 인덱스 재설정\n",
        "print(test_data.isnull().values.any())#: Null 값이 존재하는지 확인)"
      ],
      "execution_count": 85,
      "outputs": [
        {
          "output_type": "stream",
          "name": "stdout",
          "text": [
            "False\n"
          ]
        }
      ]
    },
    {
      "cell_type": "code",
      "source": [
        "# TODO: NULL 제거 후 데이터 크기 확인하기\n",
        "print('훈련용 리뷰 개수 :', len(train_data)) # 훈련용 리뷰 개수 출력\n",
        "print('테스트용 리뷰 개수 :', len(test_data)) # 테스트용 리뷰 개수 출력"
      ],
      "metadata": {
        "id": "TUXQw1R1SnoU",
        "colab": {
          "base_uri": "https://localhost:8080/"
        },
        "outputId": "13ef176f-d3ec-4dd3-b119-d32dc0656e06"
      },
      "execution_count": 64,
      "outputs": [
        {
          "output_type": "stream",
          "name": "stdout",
          "text": [
            "훈련용 리뷰 개수 : 149995\n",
            "테스트용 리뷰 개수 : 49997\n"
          ]
        }
      ]
    },
    {
      "cell_type": "markdown",
      "source": [
        "## 토큰화\n",
        "\n",
        "지난 노트북과 달리 토크나이저를 직접 만들지 않고 이미 훈련이 완료된 모델에서 불러옵니다."
      ],
      "metadata": {
        "id": "97Vo5RzQTvjg"
      }
    },
    {
      "cell_type": "code",
      "metadata": {
        "id": "Nx_D1rlXfcB6"
      },
      "source": [
        "# 토크나이저 불러오기\n",
        "tokenizer = BertTokenizer.from_pretrained('klue/bert-base')"
      ],
      "execution_count": 65,
      "outputs": []
    },
    {
      "cell_type": "code",
      "metadata": {
        "id": "gHigtMypgOKz",
        "colab": {
          "base_uri": "https://localhost:8080/"
        },
        "outputId": "f024bbaf-d011-4a55-b1c2-01fae98b56d9"
      },
      "source": [
        "# 단어를 정수로 인코딩\n",
        "print(tokenizer.encode(\"보는내내 그대로 들어맞는 예측 카리스마 없는 악역\"))"
      ],
      "execution_count": 66,
      "outputs": [
        {
          "output_type": "stream",
          "name": "stdout",
          "text": [
            "[2, 1160, 2259, 2369, 2369, 4311, 20657, 2259, 5501, 13132, 1415, 2259, 23713, 3]\n"
          ]
        }
      ]
    },
    {
      "cell_type": "code",
      "metadata": {
        "id": "r47lhT54gmeD",
        "colab": {
          "base_uri": "https://localhost:8080/"
        },
        "outputId": "f726d801-4dad-4349-eca5-50cf5b1639ff"
      },
      "source": [
        "# 문자열을 토큰화, ##은 해당 토큰이 어절의 시작이 아님을 알려줍니다.\n",
        "print(tokenizer.tokenize(\"보는내내 그대로 들어맞는 예측 카리스마 없는 악역\"))"
      ],
      "execution_count": 67,
      "outputs": [
        {
          "output_type": "stream",
          "name": "stdout",
          "text": [
            "['보', '##는', '##내', '##내', '그대로', '들어맞', '##는', '예측', '카리스마', '없', '##는', '악역']\n"
          ]
        }
      ]
    },
    {
      "cell_type": "code",
      "metadata": {
        "id": "XIDFM-jEkKft",
        "colab": {
          "base_uri": "https://localhost:8080/",
          "height": 35
        },
        "outputId": "7bc5a0f0-6a6c-4ea4-8b9b-a90d6d77dcb2"
      },
      "source": [
        "# 문자열을 인코딩 (인공신경망이 이해하는 형태로 변환) 후 디코딩하기 (사람이 이해하는 형태로 변환)\n",
        "# [CLS]는 BERT에서 문서의 시작을 나타내는 토큰\n",
        "# [SEP]는 문장의 끝을 나타내는 토큰\n",
        "tokenizer.decode(tokenizer.encode(\"보는내내 그대로 들어맞는 예측 카리스마 없는 악역\"))"
      ],
      "execution_count": 68,
      "outputs": [
        {
          "output_type": "execute_result",
          "data": {
            "text/plain": [
              "'[CLS] 보는내내 그대로 들어맞는 예측 카리스마 없는 악역 [SEP]'"
            ],
            "application/vnd.google.colaboratory.intrinsic+json": {
              "type": "string"
            }
          },
          "metadata": {},
          "execution_count": 68
        }
      ]
    },
    {
      "cell_type": "code",
      "metadata": {
        "id": "crCnp1NWkGQu",
        "colab": {
          "base_uri": "https://localhost:8080/"
        },
        "outputId": "aef20f3b-2c5a-45ce-81a9-8d223b9128d5"
      },
      "source": [
        "# 토큰을 하나씩 출력하는 코드\n",
        "for elem in tokenizer.encode(\"보는내내 그대로 들어맞는 예측 카리스마 없는 악역\"):\n",
        "  print(tokenizer.decode(elem))"
      ],
      "execution_count": 69,
      "outputs": [
        {
          "output_type": "stream",
          "name": "stdout",
          "text": [
            "[ C L S ]\n",
            "보\n",
            "# # 는\n",
            "# # 내\n",
            "# # 내\n",
            "그 대 로\n",
            "들 어 맞\n",
            "# # 는\n",
            "예 측\n",
            "카 리 스 마\n",
            "없\n",
            "# # 는\n",
            "악 역\n",
            "[ S E P ]\n"
          ]
        }
      ]
    },
    {
      "cell_type": "code",
      "metadata": {
        "id": "kHO4iiqQhP6D",
        "colab": {
          "base_uri": "https://localhost:8080/"
        },
        "outputId": "c80d367d-6bfd-487c-c579-4750e515aecc"
      },
      "source": [
        "# TODO: 다음 문자열을 토큰화 하세요.\n",
        "print(tokenizer.tokenize(\"전율을 일으키는 영화. 다시 보고싶은 영화\"))\n"
      ],
      "execution_count": 70,
      "outputs": [
        {
          "output_type": "stream",
          "name": "stdout",
          "text": [
            "['전', '##율', '##을', '일으키', '##는', '영화', '.', '다시', '보고', '##싶', '##은', '영화']\n"
          ]
        }
      ]
    },
    {
      "cell_type": "code",
      "metadata": {
        "id": "PTL9qUrvhRHz",
        "colab": {
          "base_uri": "https://localhost:8080/"
        },
        "outputId": "2fcf35bc-33a1-4aeb-d574-75221c6cc1c4"
      },
      "source": [
        "# TODO: 다음 문자열을 정수로 인코딩 하세요.\n",
        "print(tokenizer.encode(\"전율을 일으키는 영화. 다시 보고싶은 영화\"))"
      ],
      "execution_count": 71,
      "outputs": [
        {
          "output_type": "stream",
          "name": "stdout",
          "text": [
            "[2, 1537, 2534, 2069, 6572, 2259, 3771, 18, 3690, 4530, 2585, 2073, 3771, 3]\n"
          ]
        }
      ]
    },
    {
      "cell_type": "markdown",
      "source": [
        "각 리뷰에서 몇 개의 토큰을 사용할 것인지 설정합니다. 지난 노트북과 동일하게 하기 위해 36으로 설정합니다."
      ],
      "metadata": {
        "id": "40Pvtd98V-QX"
      }
    },
    {
      "cell_type": "code",
      "source": [
        "# 모든 리뷰 토큰 개수의 평균 + 3 * 표준편차 = 36\n",
        "# 평균 + 2 * 표준편차를 사용하신 분들도 있습니다.\n",
        "max_seq_len = 36"
      ],
      "metadata": {
        "id": "a6_Z_6RoF7fY"
      },
      "execution_count": 72,
      "outputs": []
    },
    {
      "cell_type": "code",
      "metadata": {
        "id": "GDnicNWphV-y",
        "colab": {
          "base_uri": "https://localhost:8080/"
        },
        "outputId": "63f7d72e-e246-45cc-d8f1-5d8efb66dfef"
      },
      "source": [
        "# 36개의 토큰으로 문장 인코딩하기, 길이가 짧기 때문에 남는 자리는 0으로 채워집니다. (padding)\n",
        "encoded_result = tokenizer.encode(\"전율을 일으키는 영화. 다시 보고싶은 영화\", max_length=max_seq_len, padding='max_length', truncation=True)\n",
        "print(encoded_result)\n",
        "print('길이 :', len(encoded_result))"
      ],
      "execution_count": 73,
      "outputs": [
        {
          "output_type": "stream",
          "name": "stdout",
          "text": [
            "[2, 1537, 2534, 2069, 6572, 2259, 3771, 18, 3690, 4530, 2585, 2073, 3771, 3, 0, 0, 0, 0, 0, 0, 0, 0, 0, 0, 0, 0, 0, 0, 0, 0, 0, 0, 0, 0, 0, 0]\n",
            "길이 : 36\n"
          ]
        }
      ]
    },
    {
      "cell_type": "markdown",
      "source": [
        "## 데이터셋 만들기\n",
        "\n",
        "훈련 데이터셋 (X_train: 리뷰, y_train: 레이블 [0:부정, 1:긍정])과 테스트 데이터셋 (X_test, y_test)를 만듭니다."
      ],
      "metadata": {
        "id": "qZsbi8NoXiFH"
      }
    },
    {
      "cell_type": "code",
      "metadata": {
        "id": "qk8DJZ_khYgK",
        "colab": {
          "base_uri": "https://localhost:8080/"
        },
        "outputId": "85c4c14b-749c-41cc-d97c-33b8fe23c482"
      },
      "source": [
        "# 훈련 데이터셋 만들기\n",
        "\n",
        "X_train = []\n",
        "\n",
        "for sentence in tqdm(train_data['document']): # document에서 리뷰 하나씩 가져오기, tqdm이 진행률을 보여줍니다.\n",
        "  encoded_sentence = tokenizer.encode(sentence, max_length=max_seq_len, padding='max_length', truncation=True)\n",
        "  X_train.append(encoded_sentence)  \n",
        "\n",
        "X_train = np.array(X_train, dtype=int)\n",
        "y_train = np.array(train_data['label'])"
      ],
      "execution_count": 74,
      "outputs": [
        {
          "output_type": "stream",
          "name": "stderr",
          "text": [
            "100%|██████████| 149995/149995 [01:13<00:00, 2028.75it/s]\n"
          ]
        }
      ]
    },
    {
      "cell_type": "code",
      "source": [
        "# TODO: 테스트 데이터셋 만들기\n",
        "\n",
        "X_test = []\n",
        "\n",
        "for sentence in tqdm(test_data['document']): # document에서 리뷰 하나씩 가져오기, tqdm이 진행률을 보여줍니다.\n",
        "  encoded_sentence = tokenizer.encode(sentence, max_length=max_seq_len, padding='max_length', truncation=True)\n",
        "  X_test.append(encoded_sentence)  \n",
        "\n",
        "X_test = np.array(X_test, dtype=int)\n",
        "y_test = np.array(test_data['label'])"
      ],
      "metadata": {
        "id": "v2fBZd48qw27",
        "colab": {
          "base_uri": "https://localhost:8080/"
        },
        "outputId": "1dde890a-91b1-4ff2-a8fc-b4ff7d60c58b"
      },
      "execution_count": 75,
      "outputs": [
        {
          "output_type": "stream",
          "name": "stderr",
          "text": [
            "100%|██████████| 49997/49997 [00:16<00:00, 2978.53it/s]\n"
          ]
        }
      ]
    },
    {
      "cell_type": "markdown",
      "metadata": {
        "id": "W0ZgufoPH5-b"
      },
      "source": [
        "## TPU 이용하기\n",
        "TPU 사용법 : https://wikidocs.net/119990"
      ]
    },
    {
      "cell_type": "code",
      "metadata": {
        "id": "9_6nzezphcoy",
        "colab": {
          "base_uri": "https://localhost:8080/"
        },
        "outputId": "5fd50bb6-a7af-4011-d2eb-defebaa12648"
      },
      "source": [
        "# TPU 작동을 위한 코드 TPU 작동을 위한 코드, 이해하실 필요는 없습니다.\n",
        "resolver = tf.distribute.cluster_resolver.TPUClusterResolver(tpu='grpc://' + os.environ['COLAB_TPU_ADDR'])\n",
        "tf.config.experimental_connect_to_cluster(resolver)\n",
        "tf.tpu.experimental.initialize_tpu_system(resolver)\n",
        "\n",
        "strategy = tf.distribute.TPUStrategy(resolver)"
      ],
      "execution_count": 76,
      "outputs": [
        {
          "output_type": "stream",
          "name": "stderr",
          "text": [
            "WARNING:tensorflow:TPU system grpc://10.35.27.170:8470 has already been initialized. Reinitializing the TPU can cause previously created variables on TPU to be lost.\n"
          ]
        }
      ]
    },
    {
      "cell_type": "markdown",
      "source": [
        "## 모델 생성\n",
        "\n",
        "지금까지는 이전 층의 출력이 다음 층에 모두 연결되는 Sequential 모델만을 사용했습니다. 우리는 BERT가 내보내는 출력 중 일부만을 사용하기 때문에 Sequential 모델을 사용하지 않고, Functional API를 사용해 일반 함수와 같이 각 층의 입력과 출력을 지정하여 모델을 만들 것입니다."
      ],
      "metadata": {
        "id": "2Tqhsc0xdLy6"
      }
    },
    {
      "cell_type": "code",
      "source": [
        "from tensorflow.keras.layers import Input, Dense\n",
        "from tensorflow.keras.models import Model\n",
        "\n",
        "with strategy.scope(): # TPU 이용하기\n",
        "  # 입력층\n",
        "  inputs = Input(shape=(max_seq_len,), dtype=tf.int32) # max_seq_len (36) 개의 토큰을 입력받아 inputs로 출력합니다.\n",
        "\n",
        "  # KLUE BERT 모델 불러오기\n",
        "  bert = TFBertModel.from_pretrained(\"klue/bert-base\", from_pt=True)(inputs) # inputs을 입력으로 받아 bert로 출력합니다.\n",
        "\n",
        "  # 출력층\n",
        "  output = Dense(1, activation='sigmoid')(bert[1]) # bert의 출력 중 두 번째 원소를 입력받아 하나로 선형결합하여 sigmoid로 0 혹은 1을 output에 출력합니다.\n",
        "\n",
        "  # 모델 정의\n",
        "  model = Model(inputs=inputs, outputs=output) # 모델의 입력은 inputs, 출력은 output\n",
        "\n",
        "  optimizer = tf.keras.optimizers.Adam(learning_rate=5e-5)\n",
        "  loss = tf.keras.losses.BinaryCrossentropy()\n",
        "  model.compile(optimizer=optimizer, loss=loss, metrics = ['accuracy']) "
      ],
      "metadata": {
        "id": "8tll3dxzMdH9",
        "colab": {
          "base_uri": "https://localhost:8080/"
        },
        "outputId": "124e7c19-b945-4d13-dbb7-0b889cb59e9c"
      },
      "execution_count": 77,
      "outputs": [
        {
          "output_type": "stream",
          "name": "stderr",
          "text": [
            "Some weights of the PyTorch model were not used when initializing the TF 2.0 model TFBertModel: ['cls.predictions.transform.LayerNorm.weight', 'cls.seq_relationship.weight', 'cls.predictions.transform.LayerNorm.bias', 'cls.predictions.decoder.bias', 'cls.predictions.transform.dense.bias', 'cls.predictions.decoder.weight', 'bert.embeddings.position_ids', 'cls.predictions.transform.dense.weight', 'cls.predictions.bias', 'cls.seq_relationship.bias']\n",
            "- This IS expected if you are initializing TFBertModel from a PyTorch model trained on another task or with another architecture (e.g. initializing a TFBertForSequenceClassification model from a BertForPreTraining model).\n",
            "- This IS NOT expected if you are initializing TFBertModel from a PyTorch model that you expect to be exactly identical (e.g. initializing a TFBertForSequenceClassification model from a BertForSequenceClassification model).\n",
            "All the weights of TFBertModel were initialized from the PyTorch model.\n",
            "If your task is similar to the task the model of the checkpoint was trained on, you can already use TFBertModel for predictions without further training.\n"
          ]
        }
      ]
    },
    {
      "cell_type": "code",
      "metadata": {
        "id": "DQEGFSnbU8U1",
        "colab": {
          "base_uri": "https://localhost:8080/"
        },
        "outputId": "f49ab623-1543-4be5-8b62-5570e9b75cad"
      },
      "source": [
        "# 시간이 오래 걸리니 epochs을 2로 설정하여 훈련합니다.\n",
        "model.fit(X_train, y_train, epochs=2, batch_size=64, validation_split=0.2)"
      ],
      "execution_count": 79,
      "outputs": [
        {
          "output_type": "stream",
          "name": "stdout",
          "text": [
            "Epoch 1/2\n",
            "1875/1875 [==============================] - 160s 85ms/step - loss: 0.2992 - accuracy: 0.8718 - val_loss: 0.2650 - val_accuracy: 0.8923\n",
            "Epoch 2/2\n",
            "1875/1875 [==============================] - 147s 78ms/step - loss: 0.2041 - accuracy: 0.9183 - val_loss: 0.2599 - val_accuracy: 0.9008\n"
          ]
        },
        {
          "output_type": "execute_result",
          "data": {
            "text/plain": [
              "<keras.callbacks.History at 0x7f047a79f370>"
            ]
          },
          "metadata": {},
          "execution_count": 79
        }
      ]
    },
    {
      "cell_type": "code",
      "metadata": {
        "id": "zRMrp8dyVqQA",
        "colab": {
          "base_uri": "https://localhost:8080/"
        },
        "outputId": "520d6b67-accc-4ae4-8219-d74d81a1e238"
      },
      "source": [
        "# 테스트 데이터셋으로 평가합니다.\n",
        "results = model.evaluate(X_test, y_test, batch_size=1024)\n",
        "print(\"test loss, test acc: \", results)"
      ],
      "execution_count": 80,
      "outputs": [
        {
          "output_type": "stream",
          "name": "stdout",
          "text": [
            "49/49 [==============================] - 16s 206ms/step - loss: 0.2691 - accuracy: 0.8959\n",
            "test loss, test acc:  [0.2691231071949005, 0.8959137797355652]\n"
          ]
        }
      ]
    },
    {
      "cell_type": "markdown",
      "source": [
        "<img src='https://img1.daumcdn.net/thumb/R1280x0/?scode=mtistory2&fname=https%3A%2F%2Fblog.kakaocdn.net%2Fdn%2FW0TLL%2FbtqRx0uGeC2%2FKxbOgpwhzXXvwu1VtcmjNK%2Fimg.jpg' height=200>\n",
        "\n",
        "직접 모델을 만든 노트북에서는 85%를 넘는 것이 쉽지는 않았습니다. <br>\n",
        "2023년 1학기 기준으로 한정된 컴퓨팅 자원에서 더 좋은 성능을 원한다면 polyglot (한국어), LLaMA, Alpaca 등을 이용해 보세요.<br> (PyTorch를 사용하는 것이 유리할 수 있습니다.)"
      ],
      "metadata": {
        "id": "Y_BPeOsC0SH_"
      }
    },
    {
      "cell_type": "code",
      "metadata": {
        "id": "S0smzz7Jh0Mw"
      },
      "source": [
        "# TODO: model을 이용하여 주어진 문장을 분류하는 함수를 만들어 보세요.\n",
        "\n",
        "def sentiment_predict(new_sentence):\n",
        "  encoded_input = tokenizer.encode(new_sentence, max_length=max_seq_len, padding='max_length', truncation=True)\n",
        "  encoded_input = np.array([encoded_input])\n",
        "  score = model.predict(encoded_input)[0][0]\n",
        "\n",
        "  if(score > 0.5):\n",
        "    print(\"{:.2f}% 확률로 긍정 리뷰입니다.\\n\".format(score * 100))\n",
        "  else:\n",
        "    print(\"{:.2f}% 확률로 부정 리뷰입니다.\\n\".format((1 - score) * 100))"
      ],
      "execution_count": 86,
      "outputs": []
    },
    {
      "cell_type": "code",
      "metadata": {
        "id": "CRA5_U3nkjKH",
        "colab": {
          "base_uri": "https://localhost:8080/"
        },
        "outputId": "2ec8ee4e-ca4c-45b5-e21f-62bd68a1064a"
      },
      "source": [
        "sentiment_predict('보던거라 계속보고있는데 전개도 느리고 주인공인 은희는 한두컷 나오면서 소극적인모습에 ')"
      ],
      "execution_count": 87,
      "outputs": [
        {
          "output_type": "stream",
          "name": "stdout",
          "text": [
            "1/1 [==============================] - 2s 2s/step\n",
            "99.13% 확률로 부정 리뷰입니다.\n",
            "\n"
          ]
        }
      ]
    },
    {
      "cell_type": "code",
      "metadata": {
        "id": "zqpAeDCGkkXj",
        "colab": {
          "base_uri": "https://localhost:8080/"
        },
        "outputId": "1c74282f-a3ef-4171-eb4f-b8264646025e"
      },
      "source": [
        "sentiment_predict(\"스토리는 확실히 실망이였지만 배우들 연기력이 대박이였다 특히 이제훈 연기 정말 ... 이 배우들로 이렇게밖에 만들지 못한 영화는 아쉽지만 배우들 연기력과 사운드는 정말 빛났던 영화. 기대하고 극장에서 보면 많이 실망했겠지만 평점보고 기대없이 집에서 편하게 보면 괜찮아요. 이제훈님 연기력은 최고인 것 같습니다\")"
      ],
      "execution_count": 88,
      "outputs": [
        {
          "output_type": "stream",
          "name": "stdout",
          "text": [
            "1/1 [==============================] - 4s 4s/step\n",
            "57.01% 확률로 부정 리뷰입니다.\n",
            "\n"
          ]
        }
      ]
    },
    {
      "cell_type": "code",
      "metadata": {
        "id": "OxifMVDekyov",
        "colab": {
          "base_uri": "https://localhost:8080/"
        },
        "outputId": "b8532001-e6c3-4148-b2fc-f4d197cb5d35"
      },
      "source": [
        "sentiment_predict(\"남친이 이 영화를 보고 헤어지자고한 영화. 자유롭게 살고 싶다고 한다. 내가 무슨 나비를 잡은 덫마냥 나에겐 다시 보고싶지 않은 영화.\")"
      ],
      "execution_count": 89,
      "outputs": [
        {
          "output_type": "stream",
          "name": "stdout",
          "text": [
            "1/1 [==============================] - 1s 834ms/step\n",
            "71.13% 확률로 부정 리뷰입니다.\n",
            "\n"
          ]
        }
      ]
    },
    {
      "cell_type": "code",
      "metadata": {
        "id": "4gSKfLXQk2Zv",
        "colab": {
          "base_uri": "https://localhost:8080/"
        },
        "outputId": "7c890209-d074-4055-e316-f6722db7e989"
      },
      "source": [
        "sentiment_predict(\"이 영화 존잼입니다 대박\")"
      ],
      "execution_count": 90,
      "outputs": [
        {
          "output_type": "stream",
          "name": "stdout",
          "text": [
            "1/1 [==============================] - 1s 628ms/step\n",
            "98.01% 확률로 긍정 리뷰입니다.\n",
            "\n"
          ]
        }
      ]
    },
    {
      "cell_type": "code",
      "metadata": {
        "id": "DIbeUn31lQ7P",
        "colab": {
          "base_uri": "https://localhost:8080/"
        },
        "outputId": "f01da476-38a1-49e4-b038-d18cda2b7d27"
      },
      "source": [
        "sentiment_predict('이 영화 개꿀잼 ㅋㅋㅋ')"
      ],
      "execution_count": 91,
      "outputs": [
        {
          "output_type": "stream",
          "name": "stdout",
          "text": [
            "1/1 [==============================] - 1s 642ms/step\n",
            "98.31% 확률로 긍정 리뷰입니다.\n",
            "\n"
          ]
        }
      ]
    },
    {
      "cell_type": "code",
      "metadata": {
        "id": "v1RDXkDGlREX",
        "colab": {
          "base_uri": "https://localhost:8080/"
        },
        "outputId": "be0767e1-2541-47a6-dfb2-abdefbcc6389"
      },
      "source": [
        "sentiment_predict('이 영화 핵노잼 ㅠㅠ')"
      ],
      "execution_count": 92,
      "outputs": [
        {
          "output_type": "stream",
          "name": "stdout",
          "text": [
            "1/1 [==============================] - 1s 622ms/step\n",
            "98.48% 확률로 부정 리뷰입니다.\n",
            "\n"
          ]
        }
      ]
    },
    {
      "cell_type": "code",
      "metadata": {
        "id": "wGEMB2eUlR9n",
        "colab": {
          "base_uri": "https://localhost:8080/"
        },
        "outputId": "bbdc2556-a656-43f9-b431-709846bda10d"
      },
      "source": [
        "sentiment_predict('이딴게 영화냐 ㅉㅉ')"
      ],
      "execution_count": 93,
      "outputs": [
        {
          "output_type": "stream",
          "name": "stdout",
          "text": [
            "1/1 [==============================] - 1s 736ms/step\n",
            "99.74% 확률로 부정 리뷰입니다.\n",
            "\n"
          ]
        }
      ]
    },
    {
      "cell_type": "code",
      "metadata": {
        "id": "fm-oPBZllT2W",
        "colab": {
          "base_uri": "https://localhost:8080/"
        },
        "outputId": "f7731a90-c727-4ad9-b8e7-fa0b536a1ab7"
      },
      "source": [
        "sentiment_predict('감독 뭐하는 놈이냐?')"
      ],
      "execution_count": 94,
      "outputs": [
        {
          "output_type": "stream",
          "name": "stdout",
          "text": [
            "1/1 [==============================] - 1s 770ms/step\n",
            "99.32% 확률로 부정 리뷰입니다.\n",
            "\n"
          ]
        }
      ]
    },
    {
      "cell_type": "code",
      "metadata": {
        "id": "EyQ4oHewlU5-",
        "colab": {
          "base_uri": "https://localhost:8080/"
        },
        "outputId": "94cdcbe7-c1d7-4d21-aeb9-88a5ad45bb48"
      },
      "source": [
        "sentiment_predict('와 개쩐다 정말 세계관 최강자들의 영화다')"
      ],
      "execution_count": 95,
      "outputs": [
        {
          "output_type": "stream",
          "name": "stdout",
          "text": [
            "1/1 [==============================] - 1s 808ms/step\n",
            "91.20% 확률로 긍정 리뷰입니다.\n",
            "\n"
          ]
        }
      ]
    }
  ]
}