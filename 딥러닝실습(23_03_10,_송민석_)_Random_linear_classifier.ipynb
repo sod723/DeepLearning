{
  "nbformat": 4,
  "nbformat_minor": 0,
  "metadata": {
    "colab": {
      "provenance": []
    },
    "kernelspec": {
      "name": "python3",
      "display_name": "Python 3"
    },
    "language_info": {
      "name": "python"
    }
  },
  "cells": [
    {
      "cell_type": "markdown",
      "source": [
        "# Random linear classifier\n",
        "by uramoon@kw.ac.kr<br>\n",
        "(<a href=\"https://raw.githubusercontent.com/ronreiter/interactive-tutorials/master/LICENSE\">Apache 2.0 License</a>)<br><br>\n",
        "멀티 스타트 기법으로 선형 분류기 (**퍼셉트론**)를 만들어봅시다.<br>\n",
        "영국의 유명한 농학자이자 통계학자인 로널드 피셔경 (1890~1962)의 Iris 데이터셋의 **일부**를 사용합니다.<br><br>\n",
        "\n",
        "꽃받침 길이 (cm), 꽃받침 너비 (cm), 꽃잎 길이 (cm), 꽃잎 너비 (cm)로 Iris setosa (-1로 표시)와<br>\n",
        "Iris versicolor (+1로 표시)를 분류할 것입니다.\n",
        "\n",
        "<img src=\"https://upload.wikimedia.org/wikipedia/commons/thumb/a/a7/Irissetosa1.jpg/1280px-Irissetosa1.jpg\" height=200><figcaption>Iris setosa 출처: https://en.wikipedia.org/wiki/Iris_setosa</figcaption>\n",
        "<img src=\"https://upload.wikimedia.org/wikipedia/commons/thumb/2/27/Blue_Flag%2C_Ottawa.jpg/220px-Blue_Flag%2C_Ottawa.jpg\" height=200><figcaption>Iris versicolor 출처: https://en.wikipedia.org/wiki/Iris_versicolor</figcaption>"
      ],
      "metadata": {
        "id": "_O-PKZwAMxGl"
      }
    },
    {
      "cell_type": "markdown",
      "source": [
        "## 문제 해결 방법\n",
        "\n",
        "1. 주어진 입력을 보고 Iris setosa인지 Iris versicolor인지 분류할 수 있는 알고리즘을 갖고 있는 사람: **직접 코딩**하여 해결<br>\n",
        "<여기에 해당하시는 분들은 아래 참고자료를 보지 말고 4개의 입력을 받아 그 꽃이 Iris setosa인지 Iris versicolor인지 분류하는 프로그램을 만들어 제출하세요.>\n",
        "2. 알고리즘은 없지만 충분히 많은 예제가 있어 컴퓨터가 스스로 분류할 수 있도록 훈련이 가능할 것 같은 경우: **기계학습**으로 해결<br>\n",
        "<여기에 해당하시는 분들은 선형 분류기에 속하면서 딥 러닝의 가장 기본적인 유닛이라 할 수 있는 **퍼셉트론**을 훈련해 볼 것입니다.>"
      ],
      "metadata": {
        "id": "w9QJwuGcapo0"
      }
    },
    {
      "cell_type": "markdown",
      "source": [
        "## 퍼셉트론\n",
        "<img src=\"https://user-images.githubusercontent.com/37301677/107141159-5e088a80-696a-11eb-8424-b3bc3c054b99.PNG\" height=600><figcaption>퍼셉트론 그림 출처: https://ysbsb.github.io/machine_learning/2021/02/07/Perceptron.html</figcaption>\n",
        "\n",
        "- $x_0$에는 항상 1이 입력되어 $b (=w_{0})$가 곱해집니다. (일차함수의 절편에 해당)\n",
        "- $x_1$에는 꽃잎 너비가 입력되어 $w_1$이 곱해집니다.\n",
        "- $x_2$에는 꽃잎 길이가 입력되어 $w_2$이 곱해집니다.\n",
        "- $x_3$에는 꽃받침 너비가 입력되어 $w_3$이 곱해집니다.\n",
        "- $x_4$에는 꽃받침 길이가 입력되어 $w_4$이 곱해집니다.<br>\n",
        "<$x_{i}$의 순서에 큰 의미는 없습니다. 즉, $x_1$에 꽃받침 길이, $x_2$에 꽃받침 너비, ... 와 같이 입력해도 됩니다.>\n",
        "\n",
        "위에서 곱해진 값들은 퍼셉트론에서 다음과 같이 모두 더해진 후\n",
        "$$\n",
        "w_{4}x_{4}+w_{3}x_{3}+w_{2}x_{2}+w_{1}x_{1}+w_{0}\n",
        "$$\n",
        "활성화 함수를 통과합니다.\n",
        "\n",
        "활성화 함수에는 여러 종류가 있는데 (https://en.wikipedia.org/wiki/Activation_function), 여기에서는 위의 그림과 같이 단순한 계단 모양의 step function을 사용해 봅니다. 즉, 모두 더해진 값이 0보다 작으면 -1 (Iris setosa)을 출력하고, 0보다 크거나 같으면 +1 (Iris versicolor)을 출력합니다.\n",
        "\n",
        "이와 같은 퍼셉트론에 우리가 $w_{4}, w_{3}, w_{2}, w_{1}, w_{0}$의 값을 잘 설정해준다면 퍼셉트론은 주어진 입력값에 대해 그 꽃이 -1 (Iris setosa)인지 +1 (Iris versicolor)인지 정확하게 알려줄 것입니다. 즉 퍼셉트론을 훈련하는 것은 훈련 데이터를 보고 $w_{4}, w_{3}, w_{2}, w_{1}, w_{0}$의 값을 올바르게 설정하는 문제라 할 수 있습니다. 이 과제에서 사용할 퍼셉트론은 다섯 개의 실수 $w_{4}, w_{3}, w_{2}, w_{1}, w_{0}$만 저장하고 있으면 충분하다는 것을 기억하세요.\n"
      ],
      "metadata": {
        "id": "AnpJi9sQZzJ7"
      }
    },
    {
      "cell_type": "markdown",
      "source": [
        "## 일반적인 인공 신경망 훈련법\n",
        "\n",
        "일반적인 인공 신경망에서 $w_{i}$의 값들을 찾는 문제는 NP-hard입니다. 즉 합리적인 시간 내에 정답을 제대로 찾는 알고리즘이 존재하지 않으므로 다음과 같은 휴리스틱 (경사 하강법)을 사용합니다.\n",
        "\n",
        "1. 모든 $w_{i}$ 값들을 무작위로 설정한다.\n",
        "2. 무작위로 설정된 인공 신경망이 훈련 데이터를 얼마나 잘 예측하는지 평가한다.\n",
        "3. 현재의 인공 신경망 성능이 만족스럽지 않다면 다음을 반복:\n",
        "4. >훈련 데이터에 대한 예측 성능을 높이려면 각 $w_{i}$의 값을 높이는 것이 좋을지 낮추는 것이 좋을지 **미분**을 이용해서 판단 후 적당하게 그 값을 조정한다.\n",
        "5. >변경된 $w_{i}$ 값들로 설정된 인공 신경망이 훈련 데이터를 얼마나 잘 예측하는지 평가한다."
      ],
      "metadata": {
        "id": "Fimp8ovTiBVH"
      }
    },
    {
      "cell_type": "markdown",
      "source": [
        "## 멀티 스타트 알고리즘으로 퍼셉트론 훈련해보기\n",
        "\n",
        "위의 경사 하강법은 미분이 필요하여 Spiking neural network과 같은 제3세대 네트워크를 훈련시킬 수 없습니다. 반면 오늘 실습해볼 멀티 스타트 알고리즘은 구현이 매우 간단하고 미분이 필요없어 모든 종류의 네트워크의 훈련에 사용될 수 있습니다. Uber와 같은 회사에서는 심층 강화학습에 멀티 스타트 알고리즘과 성격이 유사한 유전 알고리즘 등을 사용해 심층 신경망을 훈련합니다. (본 과제와 같이 간단한 문제에서는 잘 동작하지만 강화학습이 아닌 일반적인 딥러닝 훈련에는 부적합하니 주의하세요.)\n",
        "\n",
        "1. 모든 $w_{i}$ 값들을 무작위로 설정한다.\n",
        "2. 무작위로 설정된 인공 신경망이 훈련 데이터를 얼마나 잘 예측하는지 평가한다.\n",
        "3. 현재의 인공 신경망 성능이 만족스럽지 않다면 다음을 반복:\n",
        "4. >모든 $w_{i}$ 값들을 무작위로 설정한다.\n",
        "5. >변경된 $w_{i}$ 값들로 설정된 인공 신경망이 훈련 데이터를 얼마나 잘 예측하는지 평가한다.\n",
        "\n",
        "위와 같이 수행해도 되지만 아래 실습에서는 무작위로 $k$개의 퍼셉트론을 만들고, 그 중에서 성능이 가장 뛰어난 퍼셉트론을 하나 선택할 것입니다."
      ],
      "metadata": {
        "id": "AANqw5dLkFBk"
      }
    },
    {
      "cell_type": "code",
      "source": [],
      "metadata": {
        "id": "Q88oa81hGR5Q"
      },
      "execution_count": null,
      "outputs": []
    },
    {
      "cell_type": "markdown",
      "source": [
        "## 데이터 복사하기\n",
        "왼쪽 파일 메뉴를 클릭하여 iris.zip 파일을 업로드 후 실행해주세요."
      ],
      "metadata": {
        "id": "9YWlil1kPhNH"
      }
    },
    {
      "cell_type": "code",
      "execution_count": 4,
      "metadata": {
        "id": "g5GgJhRkMWjN",
        "colab": {
          "base_uri": "https://localhost:8080/"
        },
        "outputId": "731e6b40-75d1-4a34-c0b0-48042f0d7727"
      },
      "outputs": [
        {
          "output_type": "stream",
          "name": "stdout",
          "text": [
            "Archive:  iris.zip\n",
            "  inflating: iris_test.data          \n",
            "  inflating: iris_train.data         \n"
          ]
        }
      ],
      "source": [
        "!unzip iris.zip"
      ]
    },
    {
      "cell_type": "markdown",
      "source": [
        "iris_train.data는 훈련 데이터이고, iris_test.data는 테스트 데이터입니다. <br>\n",
        "훈련 데이터를 살펴봅시다."
      ],
      "metadata": {
        "id": "1_TBSc83P0Jm"
      }
    },
    {
      "cell_type": "code",
      "source": [
        "!head iris_train.data"
      ],
      "metadata": {
        "id": "-Xh-v05rP9Qg",
        "colab": {
          "base_uri": "https://localhost:8080/"
        },
        "outputId": "608cb949-e33c-4974-ee15-7104b88d5df6"
      },
      "execution_count": 5,
      "outputs": [
        {
          "output_type": "stream",
          "name": "stdout",
          "text": [
            "5.1,3.5,1.4,0.2,Iris-setosa\n",
            "4.9,3.0,1.4,0.2,Iris-setosa\n",
            "4.7,3.2,1.3,0.2,Iris-setosa\n",
            "4.6,3.1,1.5,0.2,Iris-setosa\n",
            "5.0,3.6,1.4,0.2,Iris-setosa\n",
            "5.4,3.9,1.7,0.4,Iris-setosa\n",
            "4.6,3.4,1.4,0.3,Iris-setosa\n",
            "5.0,3.4,1.5,0.2,Iris-setosa\n",
            "4.4,2.9,1.4,0.2,Iris-setosa\n",
            "4.9,3.1,1.5,0.1,Iris-setosa\n"
          ]
        }
      ]
    },
    {
      "cell_type": "markdown",
      "source": [
        "훈련 데이터의 첫 번째 예제는 꽃받침 길이가 5.1 cm, 너비가 3.5 cm, 꽃잎 길이가 4.0 cm, 너비가 0.2일 때 Iris setosa임을 알려줍니다."
      ],
      "metadata": {
        "id": "GbucyL7_QCzr"
      }
    },
    {
      "cell_type": "code",
      "source": [
        "# iris_train.data의 행 (예제 수)\n",
        "!wc -l iris_train.data  # !(리눅스명령어)wordcount -line filename의 뜻"
      ],
      "metadata": {
        "id": "BbPd7_1hSw-H",
        "colab": {
          "base_uri": "https://localhost:8080/"
        },
        "outputId": "049a344d-e0c9-453d-f683-550dbe4c728c"
      },
      "execution_count": 6,
      "outputs": [
        {
          "output_type": "stream",
          "name": "stdout",
          "text": [
            "80 iris_train.data\n"
          ]
        }
      ]
    },
    {
      "cell_type": "markdown",
      "source": [
        "TODO: 테스트 데이터의 예제 수를 출력해보세요."
      ],
      "metadata": {
        "id": "pxqliCCbJOwb"
      }
    },
    {
      "cell_type": "code",
      "source": [
        "# TODO: iris_test.data의 행의 개수(예제 수)를 출력해보세요.\n",
        "!wc -l iris_test.data"
      ],
      "metadata": {
        "id": "QokYJbw8S4QW",
        "colab": {
          "base_uri": "https://localhost:8080/"
        },
        "outputId": "69f9fcbc-b5f3-44ff-89bd-cb902b79983b"
      },
      "execution_count": 7,
      "outputs": [
        {
          "output_type": "stream",
          "name": "stdout",
          "text": [
            "20 iris_test.data\n"
          ]
        }
      ]
    },
    {
      "cell_type": "markdown",
      "source": [
        "## 데이터 만들기\n",
        "데이터는 꽃받침 길이, 너비, 꽃잎 길이, 너비 네 개의 어트리뷰트를 지닙니다.<br>\n",
        "레이블에는 정답이 기재되어 있습니다.\n",
        "1. 훈련 데이터 (train_data): [[5.1, 3.5, 4.0, 0.2], [4.9, ...], ...]<br>\n",
        "예) a. train_data[0]은 첫 번째 예제의 데이터: [5.1, 3.5, 4.0, 0.2], <br>train_data[0][0]은 첫 번째 예제의 첫 번째 어트리뷰트 값: 5.1\n",
        "2. 훈련 레이블 (train_label): [-1, -1, -1, ...]<br>\n",
        "예) train_label[0] = 첫 번째 예제의 정답 (-1: Iris-setosa)\n",
        "3. 테스트 데이터 (test_data)\n",
        "4. 테스트 레이블 (test_label)\n",
        "\n"
      ],
      "metadata": {
        "id": "sm6oICEUROF7"
      }
    },
    {
      "cell_type": "code",
      "source": [
        "import numpy as np\n",
        "\n",
        "# TODO: 각 변수에 적절한 크기로 비어있는 NumPy 배열을 만들어줍시다.\n",
        "# https://numpy.org/doc/stable/reference/generated/numpy.empty.html\n",
        "train_data = np.zeros((80,4))\n",
        "train_label = np.full(80,-1)\n",
        "test_data = np.zeros((20,4))\n",
        "test_label = np.full(20,-1)"
      ],
      "metadata": {
        "id": "TPuFSH2QSkoL"
      },
      "execution_count": 13,
      "outputs": []
    },
    {
      "cell_type": "code",
      "source": [
        "# TODO: train_data와 train_label 생성\n",
        "\n",
        "with open('iris_train.data') as fp:\n",
        "  for i, line in enumerate(fp):    \n",
        "    items = line.split(',')\n",
        "    train_data[i] = [float(i) for i in items[:-1]]\n",
        "    if items[-1] == 'Iris-setosa\\n':\n",
        "            train_label[i] = -1\n",
        "    elif items[-1] == 'Iris-versicolor\\n':\n",
        "            train_label[i] = 1\n",
        "  \n",
        "    #print(i, items)\n",
        "\n",
        "#print(train_data)\n",
        "#print(train_label)\n",
        "    # TODO: 내용 확인용, 지우고 적절한 코드를 넣으세요. \n",
        "    # List Comprehension을 사용하면 편하지만 C or Java 스타일로 하셔도 됩니다."
      ],
      "metadata": {
        "id": "i90Kd0qBTrqC"
      },
      "execution_count": 20,
      "outputs": []
    },
    {
      "cell_type": "markdown",
      "source": [
        "위에서 생성한 train_data와 train_label에 값이 잘 입력됐는지 확인하셔도 좋습니다. **train_data에 문자열이 들어가면 안됩니다.**"
      ],
      "metadata": {
        "id": "57TkepSaP5qI"
      }
    },
    {
      "cell_type": "code",
      "source": [
        "# TODO: test_data와 test_label 생성\n",
        "with open('iris_test.data') as fp:\n",
        "  for i, line in enumerate(fp):    \n",
        "    items = line.split(',')\n",
        "    test_data[i] = [float(i) for i in items[:-1]]\n",
        "    if items[-1] == 'Iris-setosa\\n':\n",
        "            test_label[i] = -1\n",
        "    elif items[-1] == 'Iris-versicolor\\n':\n",
        "            test_label[i] = 1\n",
        "  \n",
        "#     print(i, items)\n",
        "\n",
        "# print(train_data)\n",
        "print(test_label)"
      ],
      "metadata": {
        "id": "zzNUU9AQW-cO",
        "colab": {
          "base_uri": "https://localhost:8080/"
        },
        "outputId": "1b75cbfa-f7e1-4ca6-82ad-09022bc3a8f8"
      },
      "execution_count": 29,
      "outputs": [
        {
          "output_type": "stream",
          "name": "stdout",
          "text": [
            "[-1 -1 -1 -1 -1 -1 -1 -1 -1 -1  1  1  1  1  1  1  1  1  1  1]\n"
          ]
        }
      ]
    },
    {
      "cell_type": "markdown",
      "source": [
        "# 데이터 확인하기\n",
        "직선으로 두 꽃이 나눠진다면 선형 분류기로 풀 수 있습니다. 아래의 코드를 실행해보고 Iris setosa와 Iris versicolor를 분류하는 알고리즘을 찾았으니 코딩으로 풀어야지 하시는 것은 허용하지 않습니다 :)"
      ],
      "metadata": {
        "id": "i6jih1BTVK_B"
      }
    },
    {
      "cell_type": "code",
      "source": [
        "# TODO: 아래 positives를 완성하세요.\n",
        "\n",
        "import matplotlib.pyplot as plt\n",
        "\n",
        "# label에 따라 훈련 데이터 나누기\n",
        "negatives = train_data[train_label == -1]\n",
        "positives = train_data[train_label == 1]\n",
        "# TODO\n",
        "\n",
        "# 꽃받침의 길이 (x축)와 너비 (y축)에 따른 꽃의 종류 확인하기\n",
        "plt.plot(negatives[:, 0], negatives[:, 1], '_', label='Iris setosa')\n",
        "plt.plot(positives[:, 0], positives[:, 1], '+', label='Iris versicolor')\n",
        "plt.legend()"
      ],
      "metadata": {
        "id": "cHRZ8DdFZtqP",
        "colab": {
          "base_uri": "https://localhost:8080/",
          "height": 286
        },
        "outputId": "d6f4875a-6f3b-4322-a009-c0aaa2f87acb"
      },
      "execution_count": 25,
      "outputs": [
        {
          "output_type": "execute_result",
          "data": {
            "text/plain": [
              "<matplotlib.legend.Legend at 0x7f6abff4ce20>"
            ]
          },
          "metadata": {},
          "execution_count": 25
        },
        {
          "output_type": "display_data",
          "data": {
            "text/plain": [
              "<Figure size 432x288 with 1 Axes>"
            ],
            "image/png": "[encoded data removed]"
          },
          "metadata": {
            "needs_background": "light"
          }
        }
      ]
    },
    {
      "cell_type": "code",
      "source": [
        "# TODO: 꽃잎 길이 (x축)와 너비 (y축)에 따른 꽃의 종류 확인하기\n",
        "plt.plot(negatives[:, 2], negatives[:, 3], '_', label='Iris setosa')\n",
        "plt.plot(positives[:, 2], positives[:, 3], '+', label='Iris versicolor')\n",
        "plt.legend()"
      ],
      "metadata": {
        "id": "XqPmHJ2Yfmro",
        "colab": {
          "base_uri": "https://localhost:8080/",
          "height": 283
        },
        "outputId": "5a90cc31-ffd8-4670-b9b7-c15173071222"
      },
      "execution_count": 26,
      "outputs": [
        {
          "output_type": "execute_result",
          "data": {
            "text/plain": [
              "<matplotlib.legend.Legend at 0x7f6abfec8040>"
            ]
          },
          "metadata": {},
          "execution_count": 26
        },
        {
          "output_type": "display_data",
          "data": {
            "text/plain": [
              "<Figure size 432x288 with 1 Axes>"
            ],
            "image/png": "[encoded data removed]"
          },
          "metadata": {
            "needs_background": "light"
          }
        }
      ]
    },
    {
      "cell_type": "markdown",
      "source": [
        "사실은 쉬운 문제였습니다. 직선으로 두 꽃이 나눠지니 선형 분류기인 퍼셉트론도 이 문제를 풀 수 있습니다."
      ],
      "metadata": {
        "id": "Mg9KbZJrpAWw"
      }
    },
    {
      "cell_type": "markdown",
      "source": [
        "## Random linear classifier 구현하기\n",
        "\n",
        "$k$개의 퍼셉트론을 만들어 각 퍼셉트론이 훈련 데이터를 얼마나 잘 분류하는지 확인하여 그 중에서 가장 성능이 좋은 퍼셉트론을 선택하면 됩니다.\n",
        "\n",
        "$\\mathrm{RANDOM-LINEAR-CLASSIFIER}(\\mathfrak{D}_{n}, k, d)$\n",
        "<br>#$\\mathfrak{D}_{n}$는 $n$개의 예제를 지닌 훈련 데이터, $k$는 만들어낼 분류기 개수, $d$는 각 예제의 입력 인자 개수 (여기에서는 4)\n",
        "1. **for** $j=1$ **to** $k$ \n",
        "<br>#$k$개의 무작위 선형 분류기를 만든다.\n",
        "2. >randomly sample $(w^{(j)}, w_{0}^{(j)})$ from $(\\mathbf{R}^{d}, \\mathbf{R})$ \n",
        "<br>#각 입력마다 무작위 실수 하나씩, 그리고 절편에 해당하는 무작위 실수 하나 생성 (총 $d+1$ 개)\n",
        "<br>#분류기는 단순히 $d+1$ 개의 실수로만 구성되어 있음에 주목\n",
        "3. $j^{*}=\\mathrm{arg min}_{j \\in \\{1,...,k\\}} \\varepsilon_{n}(w^{(j)}, w_{0}^{(j)})$\n",
        "<br>#$k$개의 무작위 선형 분류기 중 가장 성능이 좋은 것을 고른다. ($\\varepsilon_{n}$은 훈련 데이터에서 loss 값을 계산해주는 함수, 아래에서 설명함)\n",
        "4. **return** $(w^{(j^*)}, w_{0}^{(j^*)})$\n",
        "<br># 가장 성능이 좋은 분류기를 반환한다."
      ],
      "metadata": {
        "id": "KPlsDfbPfxFr"
      }
    },
    {
      "cell_type": "code",
      "source": [
        "#TODO: 아래 lowest, highest, k에 본인이 생각하는 값 기재, 결과가 잘 안나오면 나중에 수정 필요\n",
        "\n",
        "import random\n",
        "\n",
        "# 각 w가 가질 수 있는 값의 최소값과 최대값을 적절히 설정해주어야 합니다.\n",
        "lowest = -1 #TODO\n",
        "highest = 1 #TODO\n",
        "\n",
        "# 무작위로 몇 개 만들면 충분할지 가늠해서 적어보세요.\n",
        "k = 100000 #TODO"
      ],
      "metadata": {
        "id": "QFxMq9BfiIPv"
      },
      "execution_count": 48,
      "outputs": []
    },
    {
      "cell_type": "code",
      "source": [
        "# TODO: k개의 선형 분류기를 랜덤하게 만들어 NumPy 배열에 저장하세요.\n",
        "# https://numpy.org/doc/stable/reference/random/generated/numpy.random.uniform.html\n",
        "# Hint: 이 과제에서 하나의 퍼셉트론은 몇 개의 숫자를 갖고 있어야 할까요?\n",
        "perceptrons = np.random.uniform(lowest, highest, (k, 5))"
      ],
      "metadata": {
        "id": "Q0-xiTc2jkKo"
      },
      "execution_count": 49,
      "outputs": []
    },
    {
      "cell_type": "markdown",
      "source": [],
      "metadata": {
        "id": "o6tOheSQUUds"
      }
    },
    {
      "cell_type": "markdown",
      "source": [
        "## 퍼셉트론으로 예측해보기\n",
        "\n",
        "4개의 숫자가 입력되었을 때 퍼셉트론이 -1 (Iris setosa) 혹은 1 (Iris versicolor)을 출력하도록 만들어봅시다."
      ],
      "metadata": {
        "id": "qdgP2fYnwQ9O"
      }
    },
    {
      "cell_type": "code",
      "source": [
        "# TODO: 5개의 숫자를 지닌 퍼셉트론에 4개의 숫자가 입력되었을 때 예측값을 반환하는 함수를 만들어보세요.\n",
        "# Hint: 퍼셉트론이 어떻게 예측하는지 궁금하시면 위에서 퍼셉트론 그림이 그려진 항목의 설명을 참고하시고,\n",
        "# 선형대수학에서 공부한 점곱 (dot product)을 사용하고 싶으면 아래 링크를 참고하세요.\n",
        "# https://numpy.org/doc/stable/reference/generated/numpy.dot.html\n",
        "\n",
        "def predict(perceptron, instance):\n",
        "  assert perceptron.size == 5 and instance.size == 4\n",
        "  result = 0\n",
        "\n",
        "  result = np.dot(perceptron[:-1], instance) + perceptron[-1]\n",
        "  \n",
        "  if result >= 0:\n",
        "      return 1\n",
        "  else:\n",
        "      return -1\n",
        "\n",
        "  #TODO\n",
        "  \n",
        "  assert result == -1 or result == 1\n",
        "  return result"
      ],
      "metadata": {
        "id": "G31k9w7wwcne"
      },
      "execution_count": 50,
      "outputs": []
    },
    {
      "cell_type": "code",
      "source": [
        "# predict 함수가 잘 만들어졌는지 테스트\n",
        "\n",
        "print(predict(np.ones(5), train_data[0]))       # 1이 출력됩니다.\n",
        "print(predict(np.full(5, -1), train_data[0]))   # -1이 출력됩니다."
      ],
      "metadata": {
        "id": "bY_QZQLyy4AF",
        "colab": {
          "base_uri": "https://localhost:8080/"
        },
        "outputId": "ed960baf-1bd8-4864-f7a6-0472613810a6"
      },
      "execution_count": 51,
      "outputs": [
        {
          "output_type": "stream",
          "name": "stdout",
          "text": [
            "1\n",
            "-1\n"
          ]
        }
      ]
    },
    {
      "cell_type": "markdown",
      "source": [
        "## 훈련 데이터에 대해 0-1 Loss를 사용해서 각 분류기를 평가해보세요.\n",
        "Loss (손실) 함수는 학습된 모델의 성능을 평가하며, 예측이 잘못될 수록 그 값이 커집니다. (이상적인 예측 모델의 loss 값은 0) \n",
        "<br>0-1 Loss를 계산하려면 훈련 데이터를 하나씩 읽어서 예측이 맞았으면 0, 틀렸으면 1을 더해주면 됩니다.\n",
        "<br>훈련 데이터에 예제가 80개 있으니 Loss는 0부터 80까지 나올 수 있습니다."
      ],
      "metadata": {
        "id": "0MlsjsJwljEi"
      }
    },
    {
      "cell_type": "code",
      "source": [
        "# TODO: 주어진 퍼셉트론 (숫자 5개)이 주어진 데이터에 대해서 얼마나 예측을 잘 하는지 \n",
        "# Loss 값을 알려주는 함수를 만들어보세요. \n",
        "# Hint: data 안의 예제를 하나씩 읽어가며 perceptron이 해당 예제에 대해 어떻게 판단하는지와 (predict 함수 이용)\n",
        "# 실제 label을 비교하여 틀릴 때마다 loss를 1씩 증가시켜주면 됩니다. \n",
        "\n",
        "def get_loss(perceptron, data, label):\n",
        "  assert np.size(data, 0) == label.size\n",
        "  loss = 0\n",
        "  #TODO\n",
        " \n",
        "  for i in range(label.size):\n",
        "        prediction = predict(perceptron, data[i])\n",
        "        if prediction != label[i]:\n",
        "            loss += 1\n",
        "\n",
        "  return loss\n",
        "\n",
        "# get_loss 함수를 잘 만들었는지 테스트, 39가 출력되어야 함\n",
        "print(get_loss(np.ones(5), train_data, train_label))"
      ],
      "metadata": {
        "id": "9v4iLhJRYPfy",
        "colab": {
          "base_uri": "https://localhost:8080/"
        },
        "outputId": "821fbbfc-6932-4534-f637-9b35b86f135d"
      },
      "execution_count": 52,
      "outputs": [
        {
          "output_type": "stream",
          "name": "stdout",
          "text": [
            "39\n"
          ]
        }
      ]
    },
    {
      "cell_type": "code",
      "source": [
        "# TODO: k개의 퍼셉트론에 대해 0-1 Loss를 계산해보세요.\n",
        "\n",
        "# k개의 퍼셉트론에 대해 Loss를 저장할 장소 만들기\n",
        "losses = np.empty(k)\n",
        "\n",
        "# TODO: 훈련 데이터에 대해 각각 퍼셉트론의 Loss를 계산해서 저장하세요.\n",
        "for i in range(k):\n",
        "    losses[i] = get_loss(perceptrons[i], train_data, train_label)\n"
      ],
      "metadata": {
        "id": "XSDWs_8QleN0"
      },
      "execution_count": 53,
      "outputs": []
    },
    {
      "cell_type": "code",
      "source": [
        "# 각 분류기들의 Loss 값을 봅시다. \n",
        "print(losses)"
      ],
      "metadata": {
        "id": "wxDAqaZgnsQ_",
        "colab": {
          "base_uri": "https://localhost:8080/"
        },
        "outputId": "01cfcea1-020d-4640-a51e-ebbbbe37f905"
      },
      "execution_count": 54,
      "outputs": [
        {
          "output_type": "stream",
          "name": "stdout",
          "text": [
            "[ 7. 39. 41. ... 41. 41. 39.]\n"
          ]
        }
      ]
    },
    {
      "cell_type": "markdown",
      "source": [
        "## 가장 훌륭한 분류기 꺼내기"
      ],
      "metadata": {
        "id": "fkLRcxPwnofN"
      }
    },
    {
      "cell_type": "code",
      "source": [
        "best_idx = np.argmin(losses)\n",
        "best_classifier = perceptrons[best_idx]\n",
        "print(f'가장 훌륭한 분류기 인덱스:{best_idx}, Loss: {losses[best_idx]}')"
      ],
      "metadata": {
        "id": "g01UCSVBng4v",
        "colab": {
          "base_uri": "https://localhost:8080/"
        },
        "outputId": "c4375631-4e1f-4621-896d-b224121667d2"
      },
      "execution_count": 55,
      "outputs": [
        {
          "output_type": "stream",
          "name": "stdout",
          "text": [
            "가장 훌륭한 분류기 인덱스:34, Loss: 0.0\n"
          ]
        }
      ]
    },
    {
      "cell_type": "markdown",
      "source": [
        "가장 훌륭한 분류기의 Loss 값이 0으로 잘 나왔나요? 그렇지 않다면 lowest, highest와 k를 다시 설정하여 perceptrons를 다시 만들어보고 잘나올 때까지 반복하고 다음으로 넘어가세요."
      ],
      "metadata": {
        "id": "ukNf-IouoxGD"
      }
    },
    {
      "cell_type": "markdown",
      "source": [
        "## 테스트 데이터로 평가해봅시다."
      ],
      "metadata": {
        "id": "m1DfzOJCoD5T"
      }
    },
    {
      "cell_type": "code",
      "source": [
        "# TODO: 가장 훌륭한 분류기로 테스트 데이터에 대해 0-1 Loss를 구해보세요.\n",
        "loss = get_loss(perceptrons[best_idx], train_data, train_label)\n",
        "print(loss)"
      ],
      "metadata": {
        "id": "oG1jVeS1oH4r",
        "colab": {
          "base_uri": "https://localhost:8080/"
        },
        "outputId": "5fcb46a4-e775-4f98-ee2a-de6ff62fbdca"
      },
      "execution_count": 57,
      "outputs": [
        {
          "output_type": "stream",
          "name": "stdout",
          "text": [
            "0\n"
          ]
        }
      ]
    },
    {
      "cell_type": "markdown",
      "source": [
        "수고하셨습니다 :)<br>\n",
        "0이 나오면 좋지만 0이 나오지 않을 수도 있습니다. 큰 숫자가 나왔다면 어딘가에 버그가 있을 것입니다."
      ],
      "metadata": {
        "id": "ynT-_YCEo213"
      }
    }
  ]
}