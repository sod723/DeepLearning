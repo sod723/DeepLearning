{
  "nbformat": 4,
  "nbformat_minor": 0,
  "metadata": {
    "kernelspec": {
      "display_name": "Python 3",
      "language": "python",
      "name": "python3"
    },
    "language_info": {
      "codemirror_mode": {
        "name": "ipython",
        "version": 3
      },
      "file_extension": ".py",
      "mimetype": "text/x-python",
      "name": "python",
      "nbconvert_exporter": "python",
      "pygments_lexer": "ipython3",
      "version": "3.6.6"
    },
    "colab": {
      "provenance": []
    }
  },
  "cells": [
    {
      "cell_type": "markdown",
      "metadata": {
        "id": "AnmcPOWxbQgu"
      },
      "source": [
        "by uramoon@kw.ac.kr <br>\n",
        "원본 출처: https://github.com/rickiepark/deep-learning-with-python-notebooks <a href=\"https://github.com/rickiepark/deep-learning-with-python-notebooks/blob/master/LICENSE\">(MIT License)</a>"
      ]
    },
    {
      "cell_type": "code",
      "metadata": {
        "id": "hl8n95y_avHS",
        "outputId": "fadd0332-c937-46bb-f5e9-f2364ea0447d",
        "colab": {
          "base_uri": "https://localhost:8080/",
          "height": 36
        }
      },
      "source": [
        "import keras\n",
        "keras.__version__"
      ],
      "execution_count": 1,
      "outputs": [
        {
          "output_type": "execute_result",
          "data": {
            "text/plain": [
              "'2.11.0'"
            ],
            "application/vnd.google.colaboratory.intrinsic+json": {
              "type": "string"
            }
          },
          "metadata": {},
          "execution_count": 1
        }
      ]
    },
    {
      "cell_type": "markdown",
      "metadata": {
        "id": "cL0Fa8CzavHX"
      },
      "source": [
        "# 신경망과의 두 번째 만남\n",
        "\n",
        "이 노트북은 [케라스 창시자에게 배우는 딥러닝](https://tensorflow.blog/케라스-창시자에게-배우는-딥러닝/) 책의 2장 1절의 코드 예제입니다. 책에는 더 많은 내용과 그림이 있습니다. 이 노트북에는 소스 코드에 관련된 설명만 포함합니다. 이 노트북의 설명은 케라스 버전 2.2.2에 맞추어져 있습니다. 케라스 최신 버전이 릴리스되면 노트북을 다시 테스트하기 때문에 설명과 코드의 결과가 조금 다를 수 있습니다.\n",
        "\n",
        "----\n",
        "\n",
        "케라스 파이썬 라이브러리를 사용하여 손글씨 숫자 분류를 학습하는 구체적인 신경망 예제를 살펴보겠습니다. 케라스나 비슷한 라이브러리를 사용한 경험이 없다면 당장은 이 첫 번째 예제를 모두 이해하지 못할 것입니다. 아직 케라스를 설치하지 않았을지도 모릅니다. 괜찮습니다. 다음 장에서 이 예제를 하나하나 자세히 설명합니다. 코드가 좀 이상하거나 요술처럼 보이더라도 너무 걱정하지 마세요. 일단 시작해 보겠습니다.\n",
        "\n",
        "여기에서 풀려고 하는 문제는 흑백 손글씨 숫자 이미지(28x28 픽셀)를 10개의 범주(0에서 9까지)로 분류하는 것입니다. 머신 러닝 커뮤니티에서 고전으로 취급받는 데이터셋인 MNIST를 사용하겠습니다. 이 데이터셋은 머신 러닝의 역사만큼 오래되었고 많은 연구에 사용되었습니다. 이 데이터셋은 1980년대에 미국 국립표준기술연구소에서 수집한 6만 개의 훈련 이미지와 1만 개의 테스트 이미지로 구성되어 있습니다. MNIST 문제를 알고리즘이 제대로 작동하는지 확인하기 위한 딥러닝계의 ‘Hello World’라고 생각해도 됩니다. 머신 러닝 기술자가 되기까지 연구 논문이나 블로그 포스트 등에서 MNIST를 보고 또 보게 될 것입니다."
      ]
    },
    {
      "cell_type": "markdown",
      "metadata": {
        "id": "BPnVPmltavHY"
      },
      "source": [
        "MNIST 데이터셋은 넘파이 배열 형태로 케라스에 이미 포함되어 있습니다:"
      ]
    },
    {
      "cell_type": "code",
      "metadata": {
        "id": "CCBjPiT9avHY",
        "outputId": "59d846e8-b0e2-4ef7-cf6e-7c863a21ebe0",
        "colab": {
          "base_uri": "https://localhost:8080/"
        }
      },
      "source": [
        "# TODO: Keras에서 제공하는 MNIST 데이터셋 불러오기\n",
        "from keras.datasets import mnist\n",
        "(train_images, train_labels), (test_images, test_labels) = mnist.load_data()"
      ],
      "execution_count": 4,
      "outputs": [
        {
          "output_type": "stream",
          "name": "stdout",
          "text": [
            "Downloading data from https://storage.googleapis.com/tensorflow/tf-keras-datasets/mnist.npz\n",
            "11490434/11490434 [==============================] - 1s 0us/step\n"
          ]
        }
      ]
    },
    {
      "cell_type": "markdown",
      "metadata": {
        "id": "kNoeRx8zavHY"
      },
      "source": [
        "`train_images`와 `train_labels`가 모델이 학습해야 할 훈련 세트를 구성합니다. 모델은 `test_images`와 `test_labels`로 구성된 테스트 세트에서 테스트될 것입니다. 이미지는 넘파이 배열로 인코딩되어 있고 레이블은 0에서부터 9까지의 숫자 배열입니다. 이미지와 레이블은 일대일 관계를 가집니다.\n",
        "\n"
      ]
    },
    {
      "cell_type": "markdown",
      "metadata": {
        "id": "PMCi7plIavHb"
      },
      "source": [
        "작업 순서는 다음과 같습니다. 먼저 훈련 데이터 `train_images`와 `train_labels`를 네트워크에 주입합니다. 그러면 네트워크는 이미지와 레이블을 연관시킬 수 있도록 학습됩니다. 마지막으로 `test_images`에 대한 예측을 네트워크에게 요청합니다. 그리고 이 예측이 `test_labels`와 맞는지 확인할 것입니다.\n",
        "\n",
        "신경망을 만들어 보겠습니다. "
      ]
    },
    {
      "cell_type": "code",
      "metadata": {
        "id": "YAuPjlTTavHb"
      },
      "source": [
        "from keras import models\n",
        "from keras import layers\n",
        "\n",
        "network = models.Sequential()\n",
        "network.add(layers.Dense(512, activation='relu', input_shape=(28 * 28,))) # 입력층을 생략하고 이와 같이 간단하게 기재하는 것도 가능\n",
        "network.add(layers.Dense(10, activation='softmax'))"
      ],
      "execution_count": 5,
      "outputs": []
    },
    {
      "cell_type": "code",
      "source": [
        "# 네트워크의 구조 보기\n",
        "network.summary()"
      ],
      "metadata": {
        "id": "QIq6AO6EljdR",
        "outputId": "ccdeef79-fcca-4784-9670-bcb6d5028fba",
        "colab": {
          "base_uri": "https://localhost:8080/"
        }
      },
      "execution_count": 6,
      "outputs": [
        {
          "output_type": "stream",
          "name": "stdout",
          "text": [
            "Model: \"sequential\"\n",
            "_________________________________________________________________\n",
            " Layer (type)                Output Shape              Param #   \n",
            "=================================================================\n",
            " dense (Dense)               (None, 512)               401920    \n",
            "                                                                 \n",
            " dense_1 (Dense)             (None, 10)                5130      \n",
            "                                                                 \n",
            "=================================================================\n",
            "Total params: 407,050\n",
            "Trainable params: 407,050\n",
            "Non-trainable params: 0\n",
            "_________________________________________________________________\n"
          ]
        }
      ]
    },
    {
      "cell_type": "markdown",
      "metadata": {
        "id": "YseI23eKavHb"
      },
      "source": [
        "신경망의 핵심 구성 요소는 일종의 데이터 처리 필터라고 생각할 수 있는 층입니다. 어떤 데이터가 들어가면 더 유용한 형태로 출력됩니다. 조금 더 구체적으로 층은 주어진 문제에 더 의미 있는 표현을 입력된 데이터로부터 추출합니다. 대부분의 딥러닝은 간단한 층을 연결하여 구성되어 있고, 점진적으로 데이터를 정제하는 형태를 띠고 있습니다. 딥러닝 모델은 데이터 정제 필터(층)가 연속되어 있는 데이터 프로세싱을 위한 여과기와 같습니다.\n",
        "\n",
        "이 예에서는 조밀하게 연결된 (또는 완전 연결된) 신경망 층인 `Dense` 층 2개가 연속되어 있습니다. 두 번째 (즉, 마지막) 층은 10개의 확률 점수가 들어 있는 배열(모두 더하면 1입니다)을 반환하는 소프트맥스 층입니다. 각 점수는 현재 숫자 이미지가 10개의 숫자 클래스 중 하나에 속할 확률입니다.\n",
        "\n",
        "신경망이 훈련 준비를 마치기 위해서 컴파일 단계에 포함될 세 가지가 더 필요합니다:\n",
        "\n",
        "* 손실 함수 : 훈련 데이터에서 신경망의 성능을 측정하는 방법으로 네트워크가 옳은 방향으로 학습될 수 있도록 도와 줍니다.\n",
        "* 옵티마이저: 입력된 데이터와 손실 함수를 기반으로 네트워크를 업데이트하는 메커니즘입니다.\n",
        "* 훈련과 테스트 과정을 모니터링할 지표 : 여기에서는 정확도(정확히 분류된 이미지의 비율)만 고려하겠습니다.\n",
        "\n",
        "손실 함수와 옵티마이저의 정확한 목적은 이어지는 두 개의 장에서 자세히 설명하겠습니다."
      ]
    },
    {
      "cell_type": "code",
      "metadata": {
        "id": "zvB6JTrxavHb"
      },
      "source": [
        "network.compile(optimizer='rmsprop',\n",
        "                loss='categorical_crossentropy',\n",
        "                metrics=['accuracy'])"
      ],
      "execution_count": 7,
      "outputs": []
    },
    {
      "cell_type": "markdown",
      "metadata": {
        "id": "ikDaEzT2avHc"
      },
      "source": [
        "훈련을 시작하기 전에 데이터를 네트워크에 맞는 크기로 바꾸고 모든 값을 0과 1 사이로 스케일을 조정합니다. 예를 들어, 앞서 우리의 훈련 이미지는 `[0, 255]` 사이의 값인 `uint8` 타입의 `(60000, 28, 28)` 크기를 가진 배열로 저장되어 있습니다. 이 데이터를 0과 1 사이의 값을 가지는 `float32` 타입의 `(60000, 28 * 28)` 크기의 배열로 바꿉니다."
      ]
    },
    {
      "cell_type": "code",
      "metadata": {
        "id": "ll4eb4WcavHc"
      },
      "source": [
        "# TODO: [0, 255]의 이차원 정수 배열로 표현된 이미지를 \n",
        "# [0, 1]의 일차원 실수 배열로 변환하세요. (Normalization, Scaling, 정규화)\n",
        "\n",
        "norm_train_images = train_images.reshape((60000, 28 * 28))\n",
        "norm_test_images = test_images.reshape((10000, 28 * 28))\n",
        "norm_train_images = norm_train_images.astype('float32') / 255.0\n",
        "norm_test_images = norm_test_images.astype('float32') / 255.0"
      ],
      "execution_count": 11,
      "outputs": []
    },
    {
      "cell_type": "markdown",
      "metadata": {
        "id": "6kMzm3rYavHc"
      },
      "source": [
        "또한, 레이블을 범주형으로 인코딩해야 합니다. 이 단계는 3장에서 자세히 설명하겠습니다:"
      ]
    },
    {
      "cell_type": "code",
      "metadata": {
        "id": "dpXEeZ-lavHc"
      },
      "source": [
        "# TODO: 레이블을 범주형으로 변환 \n",
        "\n",
        "from tensorflow.keras.utils import to_categorical\n",
        "\n",
        "cat_train_labels = to_categorical(train_labels)\n",
        "cat_test_labels = to_categorical(test_labels)"
      ],
      "execution_count": 12,
      "outputs": []
    },
    {
      "cell_type": "markdown",
      "metadata": {
        "id": "DMqek4L6avHc"
      },
      "source": [
        "이제 신경망을 훈련시킬 준비가 되었습니다. 케라스에서는 `fit` 메서드를 호출하여 훈련 데이터에 모델을 학습시킵니다:"
      ]
    },
    {
      "cell_type": "code",
      "metadata": {
        "id": "4RYOQNutavHc",
        "outputId": "d146777d-a4a3-4241-912d-156b2dc861fe",
        "colab": {
          "base_uri": "https://localhost:8080/"
        }
      },
      "source": [
        "network.fit(norm_train_images, cat_train_labels, epochs=5, batch_size=128)"
      ],
      "execution_count": 13,
      "outputs": [
        {
          "output_type": "stream",
          "name": "stdout",
          "text": [
            "Epoch 1/5\n",
            "469/469 [==============================] - 6s 12ms/step - loss: 0.2613 - accuracy: 0.9252\n",
            "Epoch 2/5\n",
            "469/469 [==============================] - 5s 11ms/step - loss: 0.1072 - accuracy: 0.9683\n",
            "Epoch 3/5\n",
            "469/469 [==============================] - 6s 13ms/step - loss: 0.0711 - accuracy: 0.9789\n",
            "Epoch 4/5\n",
            "469/469 [==============================] - 5s 10ms/step - loss: 0.0510 - accuracy: 0.9846\n",
            "Epoch 5/5\n",
            "469/469 [==============================] - 6s 12ms/step - loss: 0.0377 - accuracy: 0.9890\n"
          ]
        },
        {
          "output_type": "execute_result",
          "data": {
            "text/plain": [
              "<keras.callbacks.History at 0x7f97b7297790>"
            ]
          },
          "metadata": {},
          "execution_count": 13
        }
      ]
    },
    {
      "cell_type": "markdown",
      "metadata": {
        "id": "d2-JZZPLavHd"
      },
      "source": [
        "훈련하는 동안 두 개의 정보가 출력됩니다. 훈련 데이터에 대한 네트워크의 손실과 정확도입니다.\n",
        "\n",
        "훈련 데이터에 대해 0.989(98.9%)의 정확도를 금방 달성합니다. 이제 테스트 세트에서도 모델이 잘 작동하는지 확인해 보겠습니다:"
      ]
    },
    {
      "cell_type": "code",
      "metadata": {
        "id": "YFCyuCAvavHd",
        "outputId": "d770f42c-8821-4a99-a71b-144a6bfee17b",
        "colab": {
          "base_uri": "https://localhost:8080/"
        }
      },
      "source": [
        "test_loss, test_acc = network.evaluate(norm_test_images, cat_test_labels)"
      ],
      "execution_count": 14,
      "outputs": [
        {
          "output_type": "stream",
          "name": "stdout",
          "text": [
            "313/313 [==============================] - 1s 3ms/step - loss: 0.0640 - accuracy: 0.9809\n"
          ]
        }
      ]
    },
    {
      "cell_type": "code",
      "metadata": {
        "id": "a_wrMEkVavHd",
        "outputId": "2833a79d-da31-40f3-d2e1-574bb9574aec",
        "colab": {
          "base_uri": "https://localhost:8080/"
        }
      },
      "source": [
        "print('test_acc:', test_acc)"
      ],
      "execution_count": 15,
      "outputs": [
        {
          "output_type": "stream",
          "name": "stdout",
          "text": [
            "test_acc: 0.98089998960495\n"
          ]
        }
      ]
    },
    {
      "cell_type": "markdown",
      "metadata": {
        "id": "DEIgwx2savHd"
      },
      "source": [
        "테스트 세트의 정확도는 97.8%로 나왔습니다. 훈련 세트 정확도보다는 약간 낮습니다. 훈련 정확도와 테스트 정확도 사이의 차이는 과대적합 때문입니다. 이는 머신 러닝 모델이 훈련 데이터보다 새로운 데이터에서 성능이 낮아지는 경향을 말합니다. 과대적합은 3장에서 자세하게 논의하겠습니다.\n",
        "\n",
        "이것으로 첫 번째 예제가 마무리되었습니다. 20줄 미만의 파이썬 코드로 손글씨 숫자를 분류하는 신경망을 만들고 훈련시켰습니다. 다음 장에서 여기서 보았던 코드 하나하나를 상세하게 설명하고 이들이 의미하는 바를 명확하게 설명하겠습니다. 이제 텐서, 신경망에 주입하는 데이터의 저장 형태, 층을 만들어주는 텐서 연산, 신경망을 훈련 샘플로부터 학습시키는 경사 하강법에 대해 알아보겠습니다."
      ]
    },
    {
      "cell_type": "markdown",
      "metadata": {
        "id": "r66ahJoBpuZB"
      },
      "source": [
        "## TODO 1: 은닉층의 유닛수\n",
        "1. 첫 번째 은닉층의 유닛수를 64로 바꾸면 테스트 데이터 정확도는?\n",
        "2. 첫 번째 은닉층의 유닛수를 1024로 바꾸면 테스트 데이터 정확도는?"
      ]
    },
    {
      "cell_type": "code",
      "metadata": {
        "id": "4IDFygWMp_P3",
        "outputId": "620fb652-557f-4113-be46-51b34c38596d",
        "colab": {
          "base_uri": "https://localhost:8080/"
        }
      },
      "source": [
        "# TODO: 64일 때 테스트 정확도 출력\n",
        "from tensorflow.keras import optimizers\n",
        "network = models.Sequential()\n",
        "network.add(layers.Dense(64, activation='relu', input_shape=(28 * 28,)))\n",
        "network.add(layers.Dense(10, activation='softmax'))\n",
        "\n",
        "network.compile(optimizer='rmsprop',\n",
        "                loss='categorical_crossentropy',\n",
        "                metrics=['accuracy'])\n",
        "\n",
        "network.fit(norm_train_images, cat_train_labels, epochs=5, batch_size=128)\n",
        "test_loss, test_acc = network.evaluate(norm_test_images, cat_test_labels)\n",
        "print('test_acc:', test_acc)"
      ],
      "execution_count": 16,
      "outputs": [
        {
          "output_type": "stream",
          "name": "stdout",
          "text": [
            "Epoch 1/5\n",
            "469/469 [==============================] - 2s 4ms/step - loss: 0.3895 - accuracy: 0.8958\n",
            "Epoch 2/5\n",
            "469/469 [==============================] - 2s 4ms/step - loss: 0.1959 - accuracy: 0.9441\n",
            "Epoch 3/5\n",
            "469/469 [==============================] - 2s 5ms/step - loss: 0.1471 - accuracy: 0.9574\n",
            "Epoch 4/5\n",
            "469/469 [==============================] - 2s 5ms/step - loss: 0.1201 - accuracy: 0.9650\n",
            "Epoch 5/5\n",
            "469/469 [==============================] - 2s 4ms/step - loss: 0.1024 - accuracy: 0.9700\n",
            "313/313 [==============================] - 1s 2ms/step - loss: 0.1085 - accuracy: 0.9665\n",
            "test_acc: 0.9664999842643738\n"
          ]
        }
      ]
    },
    {
      "cell_type": "code",
      "source": [
        "# TODO: 1024일 때 테스트 정확도 출력\n",
        "from tensorflow.keras import optimizers\n",
        "\n",
        "network = models.Sequential()\n",
        "network.add(layers.Dense(1024, activation='relu', input_shape=(28 * 28,)))\n",
        "network.add(layers.Dense(10, activation='softmax'))\n",
        "\n",
        "network.compile(optimizer='rmsprop',\n",
        "                loss='categorical_crossentropy',\n",
        "                metrics=['accuracy'])\n",
        "\n",
        "network.fit(norm_train_images, cat_train_labels, epochs=5, batch_size=128)\n",
        "test_loss, test_acc = network.evaluate(norm_test_images, cat_test_labels)\n",
        "print('test_acc:', test_acc)\n"
      ],
      "metadata": {
        "id": "6TXiPlir0ZEv",
        "outputId": "367af5c4-1d3f-4903-d8c9-6ae42d64ced8",
        "colab": {
          "base_uri": "https://localhost:8080/"
        }
      },
      "execution_count": 17,
      "outputs": [
        {
          "output_type": "stream",
          "name": "stdout",
          "text": [
            "Epoch 1/5\n",
            "469/469 [==============================] - 11s 21ms/step - loss: 0.2422 - accuracy: 0.9280\n",
            "Epoch 2/5\n",
            "469/469 [==============================] - 10s 22ms/step - loss: 0.0919 - accuracy: 0.9725\n",
            "Epoch 3/5\n",
            "469/469 [==============================] - 12s 25ms/step - loss: 0.0599 - accuracy: 0.9812\n",
            "Epoch 4/5\n",
            "469/469 [==============================] - 9s 19ms/step - loss: 0.0408 - accuracy: 0.9875\n",
            "Epoch 5/5\n",
            "469/469 [==============================] - 10s 21ms/step - loss: 0.0299 - accuracy: 0.9910\n",
            "313/313 [==============================] - 2s 4ms/step - loss: 0.0612 - accuracy: 0.9806\n",
            "test_acc: 0.9805999994277954\n"
          ]
        }
      ]
    },
    {
      "cell_type": "markdown",
      "metadata": {
        "id": "vUh9JOIWvENW"
      },
      "source": [
        "## TODO 2: 은닉층의 활성화 함수\n",
        "1. 첫 번째 은닉층의 활성화 함수를 sigmoid로 바꾸면 테스트 데이터 정확도는?\n",
        "2. 첫 번째 은닉층의 활성화 함수를 tanh로 바꾸면 테스트 데이터 정확도는?"
      ]
    },
    {
      "cell_type": "code",
      "metadata": {
        "id": "FUQvr-vGvNb2",
        "outputId": "9075699e-1077-4f89-bb9a-48ea9bba2cf6",
        "colab": {
          "base_uri": "https://localhost:8080/"
        }
      },
      "source": [
        "# TODO: sigmoid일 때 테스트 정확도 출력\n",
        "from tensorflow.keras import optimizers\n",
        "network = models.Sequential()\n",
        "network.add(layers.Dense(512, activation='sigmoid', input_shape=(28 * 28,)))\n",
        "network.add(layers.Dense(10, activation='softmax'))\n",
        "\n",
        "network.compile(optimizer='rmsprop',\n",
        "                loss='categorical_crossentropy',\n",
        "                metrics=['accuracy'])\n",
        "\n",
        "network.fit(norm_train_images, cat_train_labels, epochs=5, batch_size=128)\n",
        "test_loss, test_acc = network.evaluate(norm_test_images, cat_test_labels)\n",
        "print('test_acc:', test_acc)"
      ],
      "execution_count": 18,
      "outputs": [
        {
          "output_type": "stream",
          "name": "stdout",
          "text": [
            "Epoch 1/5\n",
            "469/469 [==============================] - 6s 12ms/step - loss: 0.4593 - accuracy: 0.8751\n",
            "Epoch 2/5\n",
            "469/469 [==============================] - 6s 12ms/step - loss: 0.2658 - accuracy: 0.9225\n",
            "Epoch 3/5\n",
            "469/469 [==============================] - 6s 14ms/step - loss: 0.2133 - accuracy: 0.9381\n",
            "Epoch 4/5\n",
            "469/469 [==============================] - 8s 18ms/step - loss: 0.1738 - accuracy: 0.9497\n",
            "Epoch 5/5\n",
            "469/469 [==============================] - 5s 10ms/step - loss: 0.1445 - accuracy: 0.9576\n",
            "313/313 [==============================] - 2s 5ms/step - loss: 0.1347 - accuracy: 0.9612\n",
            "test_acc: 0.9611999988555908\n"
          ]
        }
      ]
    },
    {
      "cell_type": "code",
      "source": [
        "# TODO: tanh일 때 테스트 정확도 출력\n",
        "# TODO: sigmoid일 때 테스트 정확도 출력\n",
        "from tensorflow.keras import optimizers\n",
        "network = models.Sequential()\n",
        "network.add(layers.Dense(512, activation='tanh', input_shape=(28 * 28,)))\n",
        "network.add(layers.Dense(10, activation='softmax'))\n",
        "\n",
        "network.compile(optimizer='rmsprop',\n",
        "                loss='categorical_crossentropy',\n",
        "                metrics=['accuracy'])\n",
        "\n",
        "network.fit(norm_train_images, cat_train_labels, epochs=5, batch_size=128)\n",
        "test_loss, test_acc = network.evaluate(norm_test_images, cat_test_labels)\n",
        "print('test_acc:', test_acc)"
      ],
      "metadata": {
        "id": "RWtdtR701RPK",
        "outputId": "4e96dbd2-3581-4bfc-992b-d94e8543a3a9",
        "colab": {
          "base_uri": "https://localhost:8080/"
        }
      },
      "execution_count": 19,
      "outputs": [
        {
          "output_type": "stream",
          "name": "stdout",
          "text": [
            "Epoch 1/5\n",
            "469/469 [==============================] - 6s 13ms/step - loss: 0.3424 - accuracy: 0.8989\n",
            "Epoch 2/5\n",
            "469/469 [==============================] - 5s 10ms/step - loss: 0.1823 - accuracy: 0.9471\n",
            "Epoch 3/5\n",
            "469/469 [==============================] - 6s 14ms/step - loss: 0.1232 - accuracy: 0.9647\n",
            "Epoch 4/5\n",
            "469/469 [==============================] - 5s 10ms/step - loss: 0.0919 - accuracy: 0.9735\n",
            "Epoch 5/5\n",
            "469/469 [==============================] - 5s 10ms/step - loss: 0.0711 - accuracy: 0.9787\n",
            "313/313 [==============================] - 2s 5ms/step - loss: 0.0782 - accuracy: 0.9761\n",
            "test_acc: 0.9761000275611877\n"
          ]
        }
      ]
    },
    {
      "cell_type": "markdown",
      "metadata": {
        "id": "bFBGsy7rvmef"
      },
      "source": [
        "## TODO 3: Softmax\n",
        "1. [-1, 0, 1]에서 softmax 결과 0이 선택될 확률은?\n",
        "2. [1, 2, 3]에서 softmax 결과 3이 선택될 확률은?\n",
        "3. [10, 20, 30]에서 softmax 결과 30이 선택될 확률은?"
      ]
    },
    {
      "cell_type": "code",
      "metadata": {
        "id": "mU7fWLF9voWN",
        "outputId": "bd78fa1a-0490-4b53-f88a-efb5c3b84dcb",
        "colab": {
          "base_uri": "https://localhost:8080/"
        }
      },
      "source": [
        "# TODO: 위의 질문에 대한 답을 출력하세요.\n",
        "# Softmax 함수는 모든 범위의 실수 값들을 받아들여 확률로 변환 가능한 장점이 있습니다.\n",
        "\n",
        "from scipy.special import softmax\n",
        "\n",
        "# 1번\n",
        "print(softmax([-1, 0, 1])[1])\n",
        "# 2번\n",
        "print(softmax([1, 2, 3])[2])\n",
        "# 3번\n",
        "print(softmax([10, 20, 30])[2])"
      ],
      "execution_count": 20,
      "outputs": [
        {
          "output_type": "stream",
          "name": "stdout",
          "text": [
            "0.24472847105479764\n",
            "0.6652409557748218\n",
            "0.999954600070331\n"
          ]
        }
      ]
    },
    {
      "cell_type": "markdown",
      "metadata": {
        "id": "WWfVyZ6zwWl6"
      },
      "source": [
        "## TODO 4: Optimizer\n",
        "https://keras.io/api/optimizers/sgd/\n",
        "1. optimizer에 SGD()를 썼을 때 테스트 정확도는?\n",
        "2. optimizer에 SGD(learning_rate=0.1, momentum=0.9, nesterov=True)를 썼을 때 테스트 정확도는?\n",
        "3. optimizer에 Adam()을 썼을 때 테스트 정확도는?"
      ]
    },
    {
      "cell_type": "code",
      "metadata": {
        "id": "lRIYd7X54t0F",
        "outputId": "8f69f1af-b1ee-499a-b902-f971fc971b9c",
        "colab": {
          "base_uri": "https://localhost:8080/"
        }
      },
      "source": [
        "# TODO: SGD()를 사용했을 때의 테스트 정확도 출력\n",
        "from tensorflow.keras import optimizers\n",
        "network = models.Sequential()\n",
        "network.add(layers.Dense(512, activation='relu', input_shape=(28 * 28,)))\n",
        "network.add(layers.Dense(10, activation='softmax'))\n",
        "\n",
        "network.compile(optimizer=optimizers.SGD(),\n",
        "                loss='categorical_crossentropy',\n",
        "                metrics=['accuracy'])\n",
        "\n",
        "network.fit(norm_train_images, cat_train_labels, epochs=5, batch_size=128)\n",
        "test_loss, test_acc = network.evaluate(norm_test_images, cat_test_labels)\n",
        "print('test_acc:', test_acc)"
      ],
      "execution_count": 21,
      "outputs": [
        {
          "output_type": "stream",
          "name": "stdout",
          "text": [
            "Epoch 1/5\n",
            "469/469 [==============================] - 4s 8ms/step - loss: 1.0814 - accuracy: 0.7644\n",
            "Epoch 2/5\n",
            "469/469 [==============================] - 5s 11ms/step - loss: 0.5177 - accuracy: 0.8728\n",
            "Epoch 3/5\n",
            "469/469 [==============================] - 4s 8ms/step - loss: 0.4189 - accuracy: 0.8904\n",
            "Epoch 4/5\n",
            "469/469 [==============================] - 4s 8ms/step - loss: 0.3733 - accuracy: 0.8987\n",
            "Epoch 5/5\n",
            "469/469 [==============================] - 5s 11ms/step - loss: 0.3451 - accuracy: 0.9047\n",
            "313/313 [==============================] - 1s 3ms/step - loss: 0.3199 - accuracy: 0.9120\n",
            "test_acc: 0.9120000004768372\n"
          ]
        }
      ]
    },
    {
      "cell_type": "code",
      "source": [
        "# TODO: SGD(learning_rate=0.1, momentum=0.9, nesterov=True)를 사용했을 때의 테스트 정확도 출력\n",
        "# TODO: SGD()를 사용했을 때의 테스트 정확도 출력\n",
        "from tensorflow.keras import optimizers\n",
        "network = models.Sequential()\n",
        "network.add(layers.Dense(512, activation='relu', input_shape=(28 * 28,)))\n",
        "network.add(layers.Dense(10, activation='softmax'))\n",
        "\n",
        "network.compile(optimizer=optimizers.SGD(learning_rate=0.1, momentum=0.9, nesterov=True),\n",
        "                loss='categorical_crossentropy',\n",
        "                metrics=['accuracy'])\n",
        "\n",
        "network.fit(norm_train_images, cat_train_labels, epochs=5, batch_size=128)\n",
        "test_loss, test_acc = network.evaluate(norm_test_images, cat_test_labels)\n",
        "print('test_acc:', test_acc)"
      ],
      "metadata": {
        "id": "at3KajAe14FI",
        "outputId": "e1a5ed12-02ee-4a49-b399-fdee928be35a",
        "colab": {
          "base_uri": "https://localhost:8080/"
        }
      },
      "execution_count": 22,
      "outputs": [
        {
          "output_type": "stream",
          "name": "stdout",
          "text": [
            "Epoch 1/5\n",
            "469/469 [==============================] - 6s 12ms/step - loss: 0.2270 - accuracy: 0.9339\n",
            "Epoch 2/5\n",
            "469/469 [==============================] - 5s 10ms/step - loss: 0.0885 - accuracy: 0.9737\n",
            "Epoch 3/5\n",
            "469/469 [==============================] - 5s 10ms/step - loss: 0.0591 - accuracy: 0.9823\n",
            "Epoch 4/5\n",
            "469/469 [==============================] - 6s 12ms/step - loss: 0.0423 - accuracy: 0.9875\n",
            "Epoch 5/5\n",
            "469/469 [==============================] - 5s 10ms/step - loss: 0.0310 - accuracy: 0.9906\n",
            "313/313 [==============================] - 2s 5ms/step - loss: 0.0635 - accuracy: 0.9804\n",
            "test_acc: 0.980400025844574\n"
          ]
        }
      ]
    },
    {
      "cell_type": "code",
      "source": [
        "# TODO: Adam()을 사용했을 때의 테스트 정확도 출력\n",
        "from tensorflow.keras import optimizers\n",
        "network = models.Sequential()\n",
        "network.add(layers.Dense(512, activation='relu', input_shape=(28 * 28,)))\n",
        "network.add(layers.Dense(10, activation='softmax'))\n",
        "\n",
        "network.compile(optimizer=optimizers.Adam(),\n",
        "                loss='categorical_crossentropy',\n",
        "                metrics=['accuracy'])\n",
        "\n",
        "network.fit(norm_train_images, cat_train_labels, epochs=5, batch_size=128)\n",
        "test_loss, test_acc = network.evaluate(norm_test_images, cat_test_labels)\n",
        "print('test_acc:', test_acc)"
      ],
      "metadata": {
        "id": "L23hC8nm68S3",
        "outputId": "c4579c20-e6d5-48a7-a6fb-6327e7f61ac3",
        "colab": {
          "base_uri": "https://localhost:8080/"
        }
      },
      "execution_count": 23,
      "outputs": [
        {
          "output_type": "stream",
          "name": "stdout",
          "text": [
            "Epoch 1/5\n",
            "469/469 [==============================] - 6s 11ms/step - loss: 0.2664 - accuracy: 0.9252\n",
            "Epoch 2/5\n",
            "469/469 [==============================] - 6s 13ms/step - loss: 0.1101 - accuracy: 0.9682\n",
            "Epoch 3/5\n",
            "469/469 [==============================] - 5s 11ms/step - loss: 0.0724 - accuracy: 0.9789\n",
            "Epoch 4/5\n",
            "469/469 [==============================] - 6s 13ms/step - loss: 0.0508 - accuracy: 0.9851\n",
            "Epoch 5/5\n",
            "469/469 [==============================] - 5s 10ms/step - loss: 0.0372 - accuracy: 0.9891\n",
            "313/313 [==============================] - 1s 3ms/step - loss: 0.0679 - accuracy: 0.9786\n",
            "test_acc: 0.978600025177002\n"
          ]
        }
      ]
    },
    {
      "cell_type": "markdown",
      "metadata": {
        "id": "TV9Fp7jmAnVC"
      },
      "source": [
        "## TODO 5: 정규화의 영향\n",
        "\n",
        "1. 이미지들을 정규화하지 않고 학습시켰을 때 테스트 정확도는?"
      ]
    },
    {
      "cell_type": "code",
      "metadata": {
        "id": "1-jMqhf1AdRm",
        "outputId": "bc7fbb06-eebc-432b-d693-ee4e4efb042d",
        "colab": {
          "base_uri": "https://localhost:8080/"
        }
      },
      "source": [
        "# TODO: [0, 1]로의 정규화 없이 이미지를 일차원 배열로 reshape만 수행했을 때의 테스트 정확도 출력\n",
        "conv_train_images = train_images.reshape((60000, 28 * 28))\n",
        "conv_test_images = test_images.reshape((10000, 28 * 28))\n",
        "\n",
        "from tensorflow.keras import optimizers\n",
        "network = models.Sequential()\n",
        "network.add(layers.Dense(512, activation='relu', input_shape=(28 * 28,)))\n",
        "network.add(layers.Dense(10, activation='softmax'))\n",
        "\n",
        "network.compile(optimizer='rmsprop',\n",
        "                loss='categorical_crossentropy',\n",
        "                metrics=['accuracy'])\n",
        "\n",
        "network.fit(conv_train_images, cat_train_labels, epochs=5, batch_size=128)\n",
        "test_loss, test_acc = network.evaluate(conv_test_images, cat_test_labels)\n",
        "print('test_acc:', test_acc)"
      ],
      "execution_count": 25,
      "outputs": [
        {
          "output_type": "stream",
          "name": "stdout",
          "text": [
            "Epoch 1/5\n",
            "469/469 [==============================] - 5s 10ms/step - loss: 6.0755 - accuracy: 0.8974\n",
            "Epoch 2/5\n",
            "469/469 [==============================] - 6s 13ms/step - loss: 0.7055 - accuracy: 0.9515\n",
            "Epoch 3/5\n",
            "469/469 [==============================] - 5s 10ms/step - loss: 0.4716 - accuracy: 0.9652\n",
            "Epoch 4/5\n",
            "469/469 [==============================] - 6s 12ms/step - loss: 0.3815 - accuracy: 0.9712\n",
            "Epoch 5/5\n",
            "469/469 [==============================] - 5s 10ms/step - loss: 0.3131 - accuracy: 0.9758\n",
            "313/313 [==============================] - 1s 3ms/step - loss: 0.6194 - accuracy: 0.9665\n",
            "test_acc: 0.9664999842643738\n"
          ]
        }
      ]
    },
    {
      "cell_type": "markdown",
      "source": [
        "## TODO 6: 최적화\n",
        "\n",
        "1. 자유롭게 MLP (Multi-layer Perceptron)를 만들어서 Test 정확도를 98.2% 이상으로 만들어보세요. (층 추가 가능)"
      ],
      "metadata": {
        "id": "HV7c9PPv5c3b"
      }
    },
    {
      "cell_type": "code",
      "source": [
        "from keras import models\n",
        "from keras import layers\n",
        "\n",
        "# Reshape and normalize the input data\n",
        "train_images = train_images.reshape((60000, 28 * 28))\n",
        "train_images = train_images.astype('float32') / 255\n",
        "\n",
        "test_images = test_images.reshape((10000, 28 * 28))\n",
        "test_images = test_images.astype('float32') / 255\n",
        "\n",
        "# Convert the labels to categorical\n",
        "from keras.utils import to_categorical\n",
        "\n",
        "train_labels = to_categorical(train_labels)\n",
        "test_labels = to_categorical(test_labels)\n",
        "\n",
        "network = models.Sequential()\n",
        "network.add(layers.Dense(512, activation='relu', input_shape=(28 * 28,)))\n",
        "network.add(layers.Dense(256, activation='relu'))\n",
        "network.add(layers.Dense(128, activation='relu'))\n",
        "network.add(layers.Dense(10, activation='softmax'))\n",
        "\n",
        "network.compile(optimizer='rmsprop',\n",
        "              loss='categorical_crossentropy',\n",
        "              metrics=['accuracy'])\n",
        "\n",
        "network.fit(train_images, train_labels, epochs=10, batch_size=128)\n",
        "\n",
        "test_loss, test_acc = network.evaluate(test_images, test_labels)\n",
        "print('Test accuracy:', test_acc)\n"
      ],
      "metadata": {
        "id": "Q7MTFakW38xC",
        "outputId": "477a8fd9-3d02-4d03-c5b0-e722bc09dcd8",
        "colab": {
          "base_uri": "https://localhost:8080/"
        }
      },
      "execution_count": 26,
      "outputs": [
        {
          "output_type": "stream",
          "name": "stdout",
          "text": [
            "Epoch 1/10\n",
            "469/469 [==============================] - 7s 14ms/step - loss: 0.2465 - accuracy: 0.9243\n",
            "Epoch 2/10\n",
            "469/469 [==============================] - 8s 16ms/step - loss: 0.0892 - accuracy: 0.9724\n",
            "Epoch 3/10\n",
            "469/469 [==============================] - 9s 19ms/step - loss: 0.0588 - accuracy: 0.9819\n",
            "Epoch 4/10\n",
            "469/469 [==============================] - 7s 16ms/step - loss: 0.0403 - accuracy: 0.9871\n",
            "Epoch 5/10\n",
            "469/469 [==============================] - 7s 15ms/step - loss: 0.0314 - accuracy: 0.9903\n",
            "Epoch 6/10\n",
            "469/469 [==============================] - 7s 14ms/step - loss: 0.0251 - accuracy: 0.9918\n",
            "Epoch 7/10\n",
            "469/469 [==============================] - 8s 16ms/step - loss: 0.0202 - accuracy: 0.9937\n",
            "Epoch 8/10\n",
            "469/469 [==============================] - 6s 14ms/step - loss: 0.0149 - accuracy: 0.9954\n",
            "Epoch 9/10\n",
            "469/469 [==============================] - 8s 16ms/step - loss: 0.0136 - accuracy: 0.9955\n",
            "Epoch 10/10\n",
            "469/469 [==============================] - 6s 14ms/step - loss: 0.0100 - accuracy: 0.9969\n",
            "313/313 [==============================] - 1s 3ms/step - loss: 0.0762 - accuracy: 0.9837\n",
            "Test accuracy: 0.9836999773979187\n"
          ]
        }
      ]
    },
    {
      "cell_type": "markdown",
      "metadata": {
        "id": "SRzvurdzBZf1"
      },
      "source": [
        "##TODO 7: 마무리\n",
        "\n",
        "오늘 실습에서 인공신경망의 성능에 영향을 준 요인들을 나열해보세요."
      ]
    },
    {
      "cell_type": "code",
      "source": [
        "# A: 정규화, optimizer, 은닉층의 유닛수 및 활성화 함수"
      ],
      "metadata": {
        "id": "Nw1JBoMT8Vdm"
      },
      "execution_count": null,
      "outputs": []
    }
  ]
}