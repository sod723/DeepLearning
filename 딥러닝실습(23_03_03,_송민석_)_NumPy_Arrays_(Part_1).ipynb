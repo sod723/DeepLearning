{
  "nbformat": 4,
  "nbformat_minor": 0,
  "metadata": {
    "colab": {
      "provenance": []
    },
    "kernelspec": {
      "name": "python3",
      "display_name": "Python 3"
    },
    "language_info": {
      "name": "python"
    }
  },
  "cells": [
    {
      "cell_type": "markdown",
      "source": [
        "# NumPy Arrays - Part 1<br>\n",
        "\n",
        "by uramoon@kw.ac.kr <br>\n",
        "원본 출처: https://www.learnpython.org/ (<a href=\"https://raw.githubusercontent.com/ronreiter/interactive-tutorials/master/LICENSE\">Apache 2.0 License</a>)"
      ],
      "metadata": {
        "id": "E_C5HEit3yBY"
      }
    },
    {
      "cell_type": "markdown",
      "source": [
        "## 리스트로부터 배열 생성\n",
        "NumPy 배열은 파이썬 리스트와 비슷하지만 전체 원소에 대해 계산을 수행할 때 \n",
        "빠릅니다."
      ],
      "metadata": {
        "id": "FWepzYeR372G"
      }
    },
    {
      "cell_type": "code",
      "execution_count": 1,
      "metadata": {
        "id": "86vueNUQ3rpz"
      },
      "outputs": [],
      "source": [
        "# 키와 몸무게 리스트\n",
        "height = [1.87,  1.87, 1.82, 1.91, 1.90, 1.85]\n",
        "weight = [81.65, 97.52, 95.25, 92.98, 86.18, 88.45]\n",
        "\n",
        "# NumPy 사용시 필요한 것\n",
        "import numpy as np\n",
        "\n",
        "# 리스트를 NumPy 배열로 변환하는 방법\n",
        "np_height = np.array(height)\n",
        "np_weight = np.array(weight)"
      ]
    },
    {
      "cell_type": "code",
      "source": [
        "# 키 리스트의 내용과 타입 확인\n",
        "print(height)\n",
        "print(type(height))"
      ],
      "metadata": {
        "id": "-qtnE3qFKmzh",
        "outputId": "bd63ad05-b6e0-4f01-9944-e24e678cca15",
        "colab": {
          "base_uri": "https://localhost:8080/"
        }
      },
      "execution_count": 2,
      "outputs": [
        {
          "output_type": "stream",
          "name": "stdout",
          "text": [
            "[1.87, 1.87, 1.82, 1.91, 1.9, 1.85]\n",
            "<class 'list'>\n"
          ]
        }
      ]
    },
    {
      "cell_type": "markdown",
      "source": [
        "***TODO: 키 배열의 내용과 타입을 출력해보세요.***\n",
        "\n",
        "\n"
      ],
      "metadata": {
        "id": "y9kYKP75K_-_"
      }
    },
    {
      "cell_type": "code",
      "source": [
        "# TODO\n",
        "print(np_height)\n",
        "print(type(np_height))\n"
      ],
      "metadata": {
        "id": "5EtE3cWGKu_X",
        "outputId": "d7356c0d-8825-40c8-a106-c0e2ae975261",
        "colab": {
          "base_uri": "https://localhost:8080/"
        }
      },
      "execution_count": 6,
      "outputs": [
        {
          "output_type": "stream",
          "name": "stdout",
          "text": [
            "[1.87 1.87 1.82 1.91 1.9  1.85]\n",
            "<class 'numpy.ndarray'>\n"
          ]
        }
      ]
    },
    {
      "cell_type": "markdown",
      "source": [
        "## 원소별 계산<br>\n",
        "체질량지수 (BMI) 계산을 해봅시다. (체중 / 키^2)<br>\n",
        "18.5 이하 저체중, 18.5 ~ 25 정상, 25 이상 과체중"
      ],
      "metadata": {
        "id": "hjVqfJ1e4naE"
      }
    },
    {
      "cell_type": "code",
      "source": [
        "# BMI 계산하여 리스트에 저장하기\n",
        "bmi = [] # BMI를 저장할 빈 리스트 생성\n",
        "\n",
        "for i in range(len(height)):\n",
        "  bmi.append(weight[i] / height[i] ** 2)\n",
        "\n",
        "print(bmi)\n",
        "print(type(bmi))"
      ],
      "metadata": {
        "id": "1rUYUkn14wKL",
        "outputId": "0302ef27-7f73-49f6-8064-85841e54e40a",
        "colab": {
          "base_uri": "https://localhost:8080/"
        }
      },
      "execution_count": 3,
      "outputs": [
        {
          "output_type": "stream",
          "name": "stdout",
          "text": [
            "[23.349252194801107, 27.887557550973714, 28.755585074266392, 25.48723993311587, 23.87257617728532, 25.843681519357194]\n",
            "<class 'list'>\n"
          ]
        }
      ]
    },
    {
      "cell_type": "code",
      "source": [
        "# BMI 계산하여 NumPy 배열에 저장하기\n",
        "\n",
        "# Calculate bmi\n",
        "np_bmi = np_weight / np_height ** 2\n",
        "\n",
        "# Print the result\n",
        "print(np_bmi)\n",
        "print(type(np_bmi))"
      ],
      "metadata": {
        "id": "4DiEwMnu4qkU",
        "outputId": "24756f93-1a70-4f49-b2b9-7f72c3b6e59c",
        "colab": {
          "base_uri": "https://localhost:8080/"
        }
      },
      "execution_count": 4,
      "outputs": [
        {
          "output_type": "stream",
          "name": "stdout",
          "text": [
            "[23.34925219 27.88755755 28.75558507 25.48723993 23.87257618 25.84368152]\n",
            "<class 'numpy.ndarray'>\n"
          ]
        }
      ]
    },
    {
      "cell_type": "markdown",
      "source": [
        "BMI 계산 시 위의 두 방식 중 어떤 것이 편한가요? 대용량 데이터 처리 시 속도는 NumPy가 확실히 빠릅니다.\n",
        "\n",
        "다음으로 리스트와 NumPy의 덧셈을 비교해봅시다."
      ],
      "metadata": {
        "id": "0u6mJoZ1L40P"
      }
    },
    {
      "cell_type": "code",
      "source": [
        "# 리스트 덧셈\n",
        "print(weight + height)\n",
        "\n",
        "# NumPy 배열 덧셈\n",
        "print(np_weight + np_height)"
      ],
      "metadata": {
        "id": "Ikbg1Kbt6at2",
        "outputId": "b598c7d6-0eda-440e-ddbd-95900dbc40b1",
        "colab": {
          "base_uri": "https://localhost:8080/"
        }
      },
      "execution_count": 5,
      "outputs": [
        {
          "output_type": "stream",
          "name": "stdout",
          "text": [
            "[81.65, 97.52, 95.25, 92.98, 86.18, 88.45, 1.87, 1.87, 1.82, 1.91, 1.9, 1.85]\n",
            "[83.52 99.39 97.07 94.89 88.08 90.3 ]\n"
          ]
        }
      ]
    },
    {
      "cell_type": "markdown",
      "source": [
        "***TODO: 덧셈이 어떻게 수행되는지 아래에 적으세요.***\n",
        "\n",
        "1. 리스트: weight 리스트의 원소와 height 리스트의 원소를 더한다.\n",
        "2. NumPy 배열: 배열의 원소의 인덱스가 같은 값끼리 더한다."
      ],
      "metadata": {
        "id": "PN3wOwObMUoF"
      }
    },
    {
      "cell_type": "markdown",
      "source": [
        "## 원소 추려내기"
      ],
      "metadata": {
        "id": "hnac7Cr36wue"
      }
    },
    {
      "cell_type": "markdown",
      "source": [
        "***TODO: BMI 리스트에서 원소 추려내기 (NumPy 사용 금지)***"
      ],
      "metadata": {
        "id": "H1JRQy9iNHSb"
      }
    },
    {
      "cell_type": "code",
      "source": [
        "# TODO1: 각 인덱스의 BMI가 25보다 큰지 아닌지가 저장된 리스트를 만들어 출력하세요.\n",
        "# 예: [False, True, ...]\n",
        "isBigger = []\n",
        "for i in range(len(bmi)):\n",
        "  if(bmi[i]>25):\n",
        "    isBigger.append(True)\n",
        "  else:\n",
        "    isBigger.append(False)\n",
        "print(isBigger)\n",
        "\n",
        "# TODO2: 25보다 큰 값의 BMI를 리스트로 만들어 출력하세요.\n",
        "# 예: [27.8876, 28.7556, ...]\n",
        "biggerList = []\n",
        "for i in range(len(isBigger)):\n",
        "  if(isBigger[i] == True):\n",
        "    biggerList.append(bmi[i])\n",
        "print(biggerList)\n"
      ],
      "metadata": {
        "id": "v_AfoSd1Nosp",
        "outputId": "4a26f681-8eaf-49d8-b973-b5ff2617c3c8",
        "colab": {
          "base_uri": "https://localhost:8080/"
        }
      },
      "execution_count": 8,
      "outputs": [
        {
          "output_type": "stream",
          "name": "stdout",
          "text": [
            "[False, True, True, True, False, True]\n",
            "[27.887557550973714, 28.755585074266392, 25.48723993311587, 25.843681519357194]\n"
          ]
        }
      ]
    },
    {
      "cell_type": "markdown",
      "source": [
        "NumPy를 사용하면 아래와 같이 간단합니다!"
      ],
      "metadata": {
        "id": "GiSB0yl5O--7"
      }
    },
    {
      "cell_type": "code",
      "source": [
        "# For a boolean response\n",
        "print(np_bmi > 25)\n",
        "\n",
        "# Print only those observations above 25\n",
        "np_bmi[np_bmi > 25]"
      ],
      "metadata": {
        "id": "rtHZdTM064pa",
        "outputId": "07419d8e-edce-46d2-c4b1-4a6424da0503",
        "colab": {
          "base_uri": "https://localhost:8080/"
        }
      },
      "execution_count": 11,
      "outputs": [
        {
          "output_type": "stream",
          "name": "stdout",
          "text": [
            "[False  True  True  True False  True]\n"
          ]
        },
        {
          "output_type": "execute_result",
          "data": {
            "text/plain": [
              "array([27.88755755, 28.75558507, 25.48723993, 25.84368152])"
            ]
          },
          "metadata": {},
          "execution_count": 11
        }
      ]
    }
  ]
}