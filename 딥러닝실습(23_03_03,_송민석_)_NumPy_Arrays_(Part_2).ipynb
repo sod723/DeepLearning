{
  "nbformat": 4,
  "nbformat_minor": 0,
  "metadata": {
    "colab": {
      "provenance": []
    },
    "kernelspec": {
      "name": "python3",
      "display_name": "Python 3"
    },
    "language_info": {
      "name": "python"
    }
  },
  "cells": [
    {
      "cell_type": "markdown",
      "source": [
        "# NumPy Arrays - Part 2<br>\n",
        "NumPy - 대규모의 다차원 배열을 쉽게 처리할 때 사용하는 파이썬 라이브러리<br>\n",
        "\n",
        "by uramoon@kw.ac.kr<br>\n",
        "원본 출처: Introduction to Deep Learning at Carnegie Mellon University (https://deeplearning.cs.cmu.edu/S22/index.html)"
      ],
      "metadata": {
        "id": "f7Phz-Tu8Jy4"
      }
    },
    {
      "cell_type": "code",
      "execution_count": 1,
      "metadata": {
        "id": "2cEyUUzo76v1"
      },
      "outputs": [],
      "source": [
        "# Import the NumPy \n",
        "import numpy as np"
      ]
    },
    {
      "cell_type": "markdown",
      "source": [
        "## 0. 다차원 배열의 이해"
      ],
      "metadata": {
        "id": "DOFbU78k9uXU"
      }
    },
    {
      "cell_type": "code",
      "source": [
        "arr = np.array([1, 2, 3, 4])\n",
        "\n",
        "# 1차원 배열\n",
        "print(arr)"
      ],
      "metadata": {
        "id": "O9_xErVT9Oho",
        "outputId": "ea91e51c-d296-4169-c2fe-c872f79dd23a",
        "colab": {
          "base_uri": "https://localhost:8080/"
        }
      },
      "execution_count": 2,
      "outputs": [
        {
          "output_type": "stream",
          "name": "stdout",
          "text": [
            "[1 2 3 4]\n"
          ]
        }
      ]
    },
    {
      "cell_type": "code",
      "source": [
        "# 2차원 배열로 해석하기\n",
        "print(arr.reshape(4, 1))\n",
        "print(arr.reshape(2, 2))\n",
        "print(arr.reshape(1, 4))"
      ],
      "metadata": {
        "id": "UMsbm41j42OT",
        "outputId": "1d640b12-8c56-402b-cb51-4233e83262a9",
        "colab": {
          "base_uri": "https://localhost:8080/"
        }
      },
      "execution_count": 3,
      "outputs": [
        {
          "output_type": "stream",
          "name": "stdout",
          "text": [
            "[[1]\n",
            " [2]\n",
            " [3]\n",
            " [4]]\n",
            "[[1 2]\n",
            " [3 4]]\n",
            "[[1 2 3 4]]\n"
          ]
        }
      ]
    },
    {
      "cell_type": "markdown",
      "source": [
        "***TODO: 어떻게 해석할 수 있을까요?***\n",
        "1. arr.reshape(4, 1):\n",
        "2. arr.reshape(2, 2): 길이 2인 배열이 두 개 있음. (2 by 2 행렬, 행:2개 열:2개)\n",
        "3. arr.reshape(1, 4):"
      ],
      "metadata": {
        "id": "UBIwi96j5IJ1"
      }
    },
    {
      "cell_type": "markdown",
      "source": [
        "## 1. 배열 초기화\n",
        "\n"
      ],
      "metadata": {
        "id": "oEBtH42k8cDM"
      }
    },
    {
      "cell_type": "markdown",
      "source": [
        "### a. 비어 있는 (초기화 안된) / 0으로 채워진 / 1로 채워진 / 특정 값으로 채워진 배열 만들기\n",
        "1. numpy.empty (https://numpy.org/doc/stable/reference/generated/numpy.empty.html)\n",
        "2. numpy.zeros (https://numpy.org/doc/stable/reference/generated/numpy.zeros.html#numpy.zeros)\n",
        "3. numpy.ones (https://numpy.org/doc/stable/reference/generated/numpy.ones.html#numpy.ones)\n",
        "4. numpy.full (https://numpy.org/doc/stable/reference/generated/numpy.full.html#numpy.full)"
      ],
      "metadata": {
        "id": "1xv3d8__-YVP"
      }
    },
    {
      "cell_type": "code",
      "source": [
        "# 비어있는 2 x 2 배열 만들기\n",
        "empty_arr = np.empty((2, 2))\n",
        "print(empty_arr)"
      ],
      "metadata": {
        "id": "f3dgMQU-8nR5",
        "outputId": "03b8f166-ffc1-4731-d981-e20cbf25c26c",
        "colab": {
          "base_uri": "https://localhost:8080/"
        }
      },
      "execution_count": 4,
      "outputs": [
        {
          "output_type": "stream",
          "name": "stdout",
          "text": [
            "[[2.46442237e-316 0.00000000e+000]\n",
            " [1.58101007e-322 0.00000000e+000]]\n"
          ]
        }
      ]
    },
    {
      "cell_type": "markdown",
      "source": [
        "***TODO: numpy.empty의 장점과 단점은 무엇일까요?***\n",
        "* 장점: 초기화를 생략하기 때문에 성능이 개선될 수 있다.\n",
        "* 단점: 초기화를 생략하기 때문에 쓰레기값이 들어가 있다."
      ],
      "metadata": {
        "id": "kp2jVZWS6dge"
      }
    },
    {
      "cell_type": "code",
      "source": [
        "# TODO: 모두 0으로 채워진 2 x 3 배열 만들기\n",
        "zero_arr = np.zeros((2,3))\n",
        "print(zero_arr)"
      ],
      "metadata": {
        "id": "QhLrUmO6-FyW",
        "outputId": "dfdd63bd-de00-4e64-d5c2-cc288c749c1e",
        "colab": {
          "base_uri": "https://localhost:8080/"
        }
      },
      "execution_count": 5,
      "outputs": [
        {
          "output_type": "stream",
          "name": "stdout",
          "text": [
            "[[0. 0. 0.]\n",
            " [0. 0. 0.]]\n"
          ]
        }
      ]
    },
    {
      "cell_type": "code",
      "source": [
        "# TODO: 모두 1로 채워진 4 x 2 배열 만들기\n",
        "ones_arr = np.ones((4,2))\n",
        "print(ones_arr)"
      ],
      "metadata": {
        "id": "Gn-tjKIg-L90",
        "outputId": "07c2205b-1d26-46d1-a1c2-c63c829f9283",
        "colab": {
          "base_uri": "https://localhost:8080/"
        }
      },
      "execution_count": 6,
      "outputs": [
        {
          "output_type": "stream",
          "name": "stdout",
          "text": [
            "[[1. 1.]\n",
            " [1. 1.]\n",
            " [1. 1.]\n",
            " [1. 1.]]\n"
          ]
        }
      ]
    },
    {
      "cell_type": "code",
      "source": [
        "# TODO: 모두 10으로 채워진 2 x 2 배열 만들기\n",
        "tens_arr = np.full((2,2), 10)\n",
        "print(tens_arr)"
      ],
      "metadata": {
        "id": "V2Wnoinl-RJG",
        "outputId": "0da6784a-41f2-47de-9bcc-25ea9cd74ce9",
        "colab": {
          "base_uri": "https://localhost:8080/"
        }
      },
      "execution_count": 7,
      "outputs": [
        {
          "output_type": "stream",
          "name": "stdout",
          "text": [
            "[[10 10]\n",
            " [10 10]]\n"
          ]
        }
      ]
    },
    {
      "cell_type": "markdown",
      "source": [
        "### b. 주어진 배열과 동일한 모양의 배열 만들기\n",
        "1. numpy.zeros_like (https://numpy.org/doc/stable/reference/generated/numpy.zeros_like.html#numpy.zeros_like)\n",
        "2. numpy.ones_like (https://numpy.org/doc/stable/reference/generated/numpy.ones_like.html#numpy.ones_like)\n",
        "3. numpy.full_like (https://numpy.org/doc/stable/reference/generated/numpy.full_like.html#numpy.full_like)"
      ],
      "metadata": {
        "id": "2w0KRgvU-j-5"
      }
    },
    {
      "cell_type": "code",
      "source": [
        "# TODO: ones_arr과 동일한 모양에 0으로 채워진 배열 만들기\n",
        "zeros_like_arr = np.zeros_like(ones_arr)\n",
        "print(zeros_like_arr)"
      ],
      "metadata": {
        "id": "03pOKkHP-vr1",
        "outputId": "bc65ad53-8d06-4e80-8d80-ed600cad7c46",
        "colab": {
          "base_uri": "https://localhost:8080/"
        }
      },
      "execution_count": 8,
      "outputs": [
        {
          "output_type": "stream",
          "name": "stdout",
          "text": [
            "[[0. 0.]\n",
            " [0. 0.]\n",
            " [0. 0.]\n",
            " [0. 0.]]\n"
          ]
        }
      ]
    },
    {
      "cell_type": "code",
      "source": [
        "# TODO: zeros_arr과 동일한 모양에 1로 채워진 배열 만들기\n",
        "ones_like_arr = np.ones_like(zero_arr)\n",
        "print(ones_like_arr)"
      ],
      "metadata": {
        "id": "IOdunDii-99b",
        "outputId": "18352847-50b1-4c9a-f515-671a3d75b8a2",
        "colab": {
          "base_uri": "https://localhost:8080/"
        }
      },
      "execution_count": 10,
      "outputs": [
        {
          "output_type": "stream",
          "name": "stdout",
          "text": [
            "[[1. 1. 1.]\n",
            " [1. 1. 1.]]\n"
          ]
        }
      ]
    },
    {
      "cell_type": "code",
      "source": [
        "# TODO: zeros_arr과 동일한 모양에 0.1로 채워진 배열 만들기\n",
        "full_like_arr = np.full_like(zero_arr, 0.1)\n",
        "print(full_like_arr)"
      ],
      "metadata": {
        "id": "4fdlHNOx--0_",
        "outputId": "0efcb1e0-3bd3-4664-a5c8-4895ca827feb",
        "colab": {
          "base_uri": "https://localhost:8080/"
        }
      },
      "execution_count": 11,
      "outputs": [
        {
          "output_type": "stream",
          "name": "stdout",
          "text": [
            "[[0.1 0.1 0.1]\n",
            " [0.1 0.1 0.1]]\n"
          ]
        }
      ]
    },
    {
      "cell_type": "markdown",
      "source": [
        "### c. 기존의 데이터로 배열 만들기\n",
        "1. numpy.array (https://numpy.org/doc/stable/reference/generated/numpy.array.html)\n",
        "2. numpy.loadtxt (https://numpy.org/doc/stable/reference/generated/numpy.loadtxt.html) (텍스트 파일에 저장했다 불러오기, 생략)\n",
        "3. numpy.load (https://numpy.org/doc/stable/reference/generated/numpy.load.html) (.npy, .npz 등에 저장했다 불러오기, 생략)"
      ],
      "metadata": {
        "id": "egqPXV02_Q2v"
      }
    },
    {
      "cell_type": "code",
      "source": [
        "# TODO: new_list 리스트로 배열 만들기\n",
        "new_list = [1, 2, 3, 4]\n",
        "arr_from_list = np.array(new_list)\n",
        "print(\"An array from given list is \\n\", arr_from_list, \" with dimensions \", arr_from_list.shape, \"\\n\")"
      ],
      "metadata": {
        "id": "vTsEfE5g_VKn",
        "outputId": "3a2d8613-eea6-4038-a531-86061fd262b8",
        "colab": {
          "base_uri": "https://localhost:8080/"
        }
      },
      "execution_count": 12,
      "outputs": [
        {
          "output_type": "stream",
          "name": "stdout",
          "text": [
            "An array from given list is \n",
            " [1 2 3 4]  with dimensions  (4,) \n",
            "\n"
          ]
        }
      ]
    },
    {
      "cell_type": "markdown",
      "source": [
        "### d. 주어진 숫자 범위에서 만들기\n",
        "1. numpy.arange (https://numpy.org/doc/stable/reference/generated/numpy.arange.html)\n",
        "2. numpy.linspace (https://numpy.org/doc/stable/reference/generated/numpy.linspace.html)"
      ],
      "metadata": {
        "id": "0Z5lKuyYAZZX"
      }
    },
    {
      "cell_type": "code",
      "source": [
        "# TODO: 0부터 9까지 모든 정수를 담고 있는 배열 만들기\n",
        "range_arr = np.arange(10)\n",
        "range_arr2 = np.linspace(0,9,10)\n",
        "print(\"An array given range is \\n\", range_arr, \" with dimensions \", range_arr.shape, \"\\n\")\n",
        "print(\"An array given range is \\n\", range_arr2, \" with dimensions \", range_arr2.shape, \"\\n\")"
      ],
      "metadata": {
        "id": "ewS2vUv-Admk",
        "outputId": "d4728810-d037-46b4-f543-776245b13746",
        "colab": {
          "base_uri": "https://localhost:8080/"
        }
      },
      "execution_count": 20,
      "outputs": [
        {
          "output_type": "stream",
          "name": "stdout",
          "text": [
            "An array given range is \n",
            " [0 1 2 3 4 5 6 7 8 9]  with dimensions  (10,) \n",
            "\n",
            "An array given range is \n",
            " [0. 1. 2. 3. 4. 5. 6. 7. 8. 9.]  with dimensions  (10,) \n",
            "\n"
          ]
        }
      ]
    },
    {
      "cell_type": "code",
      "source": [
        "# TODO: 2부터 3까지 [2, 3) 동일 간격으로 다섯 개의 실수를 포함하는 배열 만들기 (2는 포함, 3은 미포함)\n",
        "linspace_arr = np.linspace(2,3,5,False)\n",
        "print(\"An evenly spaced array given range is \\n\", linspace_arr, \" with dimensions \", linspace_arr.shape, \"\\n\")"
      ],
      "metadata": {
        "id": "eaZaZ_dnAgjn",
        "outputId": "492bba0c-65a2-40ee-f1c6-74e122666fbc",
        "colab": {
          "base_uri": "https://localhost:8080/"
        }
      },
      "execution_count": 23,
      "outputs": [
        {
          "output_type": "stream",
          "name": "stdout",
          "text": [
            "An evenly spaced array given range is \n",
            " [2.  2.2 2.4 2.6 2.8]  with dimensions  (5,) \n",
            "\n"
          ]
        }
      ]
    },
    {
      "cell_type": "markdown",
      "source": [
        "### e. 무작위 값으로 채운 배열 만들기\n",
        "\n",
        "1. numpy.random.rand (https://numpy.org/doc/stable/reference/random/generated/numpy.random.rand.html)\n",
        "2. numpy.random.randint (https://numpy.org/doc/stable/reference/random/generated/numpy.random.randint.html)\n",
        "3. numpy.random.randn (https://numpy.org/doc/stable/reference/random/generated/numpy.random.randn.html)"
      ],
      "metadata": {
        "id": "Uw6CMn_nAqDs"
      }
    },
    {
      "cell_type": "code",
      "source": [
        "# TODO: [0, 1)에서 추출한 무작위 실수로 3 x 2 배열 만들기\n",
        "uniform_rand_arr = np.random.rand(3,2)\n",
        "print(\"A random array from a uniform distribution is \\n\", uniform_rand_arr, \" with dimensions \", uniform_rand_arr.shape, \"\\n\")"
      ],
      "metadata": {
        "id": "dJS_5WXhAvMu",
        "outputId": "11572ace-3b6b-4771-f999-9443b5ec4262",
        "colab": {
          "base_uri": "https://localhost:8080/"
        }
      },
      "execution_count": 24,
      "outputs": [
        {
          "output_type": "stream",
          "name": "stdout",
          "text": [
            "A random array from a uniform distribution is \n",
            " [[0.43730376 0.31568335]\n",
            " [0.18948689 0.43929942]\n",
            " [0.3177401  0.78047724]]  with dimensions  (3, 2) \n",
            "\n"
          ]
        }
      ]
    },
    {
      "cell_type": "code",
      "source": [
        "# TODO: [0, 5)에서 추출한 무작위 정수로 2 x 4 배열 만들기\n",
        "range_rand_int_arr = np.random.randint(5,size=(2,4))\n",
        "print(\"A random integer array from a range is \\n\", range_rand_int_arr, \" with dimensions \", range_rand_int_arr.shape, \"\\n\")"
      ],
      "metadata": {
        "id": "RTxD3yZeAyyk",
        "outputId": "2849d999-b940-44e2-bd62-49470d097327",
        "colab": {
          "base_uri": "https://localhost:8080/"
        }
      },
      "execution_count": 28,
      "outputs": [
        {
          "output_type": "stream",
          "name": "stdout",
          "text": [
            "A random integer array from a range is \n",
            " [[3 0 2 4]\n",
            " [0 2 0 2]]  with dimensions  (2, 4) \n",
            "\n"
          ]
        }
      ]
    },
    {
      "cell_type": "markdown",
      "source": [
        "정규분포 $\\mathcal{N}(\\mu, \\sigma^2)$에서 추출한 표본들로로 배열 만들 때:<br>\n",
        "$\\mu$ + $\\sigma$ * np.random.randn(...) "
      ],
      "metadata": {
        "id": "ckWKDzXE7ywQ"
      }
    },
    {
      "cell_type": "code",
      "source": [
        "# TODO: 평균: 3, 표준편차: 2.5인 정규분포에서 추출한 무작위 실수로 2 x 4 배열 만들기 \n",
        "mu = 3\n",
        "sigma = 2.5\n",
        "sample_normal_arr = mu + sigma * np.random.randn(2,4)\n",
        "print(\"A random array from a gaussian distribution is \\n\", sample_normal_arr)\n",
        "print(\"with mu: \", mu)\n",
        "print(\"with sigma: \", sigma)\n",
        "print(\"with dimensions \", sample_normal_arr.shape)"
      ],
      "metadata": {
        "id": "Ngpy3oy2A1Uv",
        "outputId": "f105d35d-4f13-4f84-84fb-a86d8098fdaf",
        "colab": {
          "base_uri": "https://localhost:8080/"
        }
      },
      "execution_count": 29,
      "outputs": [
        {
          "output_type": "stream",
          "name": "stdout",
          "text": [
            "A random array from a gaussian distribution is \n",
            " [[6.21838501 3.61366103 1.77329685 3.64956913]\n",
            " [2.99261093 6.72729754 4.16557788 4.86284737]]\n",
            "with mu:  3\n",
            "with sigma:  2.5\n",
            "with dimensions  (2, 4)\n"
          ]
        }
      ]
    }
  ]
}