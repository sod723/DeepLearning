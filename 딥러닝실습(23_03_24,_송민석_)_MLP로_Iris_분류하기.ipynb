{
  "nbformat": 4,
  "nbformat_minor": 0,
  "metadata": {
    "colab": {
      "provenance": []
    },
    "kernelspec": {
      "name": "python3",
      "display_name": "Python 3"
    },
    "language_info": {
      "name": "python"
    },
    "accelerator": "GPU",
    "gpuClass": "standard"
  },
  "cells": [
    {
      "cell_type": "markdown",
      "source": [
        "# MLP로 Iris 분류하기\n",
        "by uramoon@kw.ac.kr\n",
        "(<a href=\"https://raw.githubusercontent.com/ronreiter/interactive-tutorials/master/LICENSE\">Apache 2.0 License</a>)"
      ],
      "metadata": {
        "id": "ruiMWoyy72qJ"
      }
    },
    {
      "cell_type": "markdown",
      "source": [
        "꽃받침 길이 (cm), 꽃받침 너비 (cm), 꽃잎 길이 (cm), 꽃잎 너비 (cm)로 Iris setosa, Iris versicolor, Iris virginica를 분류하는 MLP를 만들어 봅시다."
      ],
      "metadata": {
        "id": "Xh_usCahkFnI"
      }
    },
    {
      "cell_type": "markdown",
      "source": [
        "## 데이터셋 만들기\n",
        "seaborn에서 제공하는 Iris 데이터셋을 사용합니다.<br>\n",
        "seaborn은 데이터 시각화 도구입니다. (https://seaborn.pydata.org/)"
      ],
      "metadata": {
        "id": "L8HUu50d77w2"
      }
    },
    {
      "cell_type": "code",
      "execution_count": 1,
      "metadata": {
        "id": "_N1eAZQd7ymK"
      },
      "outputs": [],
      "source": [
        "# seaborn 라이브러리로 iris 데이터셋 DataFrame으로 읽어오기\n",
        "import seaborn as sns\n",
        "iris = sns.load_dataset(\"iris\")"
      ]
    },
    {
      "cell_type": "markdown",
      "source": [
        "### 데이터셋 살펴보기\n",
        "\n",
        "[*pandas*](http://pandas.pydata.org/)를 이용해 데이터를 처리합니다. pandas는 데이터 처리 및 분석에 사용되는 오픈소스 라이브러리입니다. <br>\n",
        "iris는 pandas DataFrame으로 저장되어 있습니다."
      ],
      "metadata": {
        "id": "Ay6_zzP99Yv3"
      }
    },
    {
      "cell_type": "code",
      "source": [
        "# TODO: 무작위로 10개의 샘플을 확인해보세요.\n",
        "iris.sample(10)"
      ],
      "metadata": {
        "id": "XB3W9ITx9g-A",
        "outputId": "790cb29a-3f6d-4a55-ddec-d3aa679f11cd",
        "colab": {
          "base_uri": "https://localhost:8080/",
          "height": 363
        }
      },
      "execution_count": 2,
      "outputs": [
        {
          "output_type": "execute_result",
          "data": {
            "text/plain": [
              "     sepal_length  sepal_width  petal_length  petal_width     species\n",
              "144           6.7          3.3           5.7          2.5   virginica\n",
              "11            4.8          3.4           1.6          0.2      setosa\n",
              "2             4.7          3.2           1.3          0.2      setosa\n",
              "78            6.0          2.9           4.5          1.5  versicolor\n",
              "119           6.0          2.2           5.0          1.5   virginica\n",
              "135           7.7          3.0           6.1          2.3   virginica\n",
              "71            6.1          2.8           4.0          1.3  versicolor\n",
              "37            4.9          3.6           1.4          0.1      setosa\n",
              "31            5.4          3.4           1.5          0.4      setosa\n",
              "117           7.7          3.8           6.7          2.2   virginica"
            ],
            "text/html": [
              "\n",
              "  <div id=\"df-2a7f83cd-4807-4da4-96d6-042bb9a631f2\">\n",
              "    <div class=\"colab-df-container\">\n",
              "      <div>\n",
              "<style scoped>\n",
              "    .dataframe tbody tr th:only-of-type {\n",
              "        vertical-align: middle;\n",
              "    }\n",
              "\n",
              "    .dataframe tbody tr th {\n",
              "        vertical-align: top;\n",
              "    }\n",
              "\n",
              "    .dataframe thead th {\n",
              "        text-align: right;\n",
              "    }\n",
              "</style>\n",
              "<table border=\"1\" class=\"dataframe\">\n",
              "  <thead>\n",
              "    <tr style=\"text-align: right;\">\n",
              "      <th></th>\n",
              "      <th>sepal_length</th>\n",
              "      <th>sepal_width</th>\n",
              "      <th>petal_length</th>\n",
              "      <th>petal_width</th>\n",
              "      <th>species</th>\n",
              "    </tr>\n",
              "  </thead>\n",
              "  <tbody>\n",
              "    <tr>\n",
              "      <th>144</th>\n",
              "      <td>6.7</td>\n",
              "      <td>3.3</td>\n",
              "      <td>5.7</td>\n",
              "      <td>2.5</td>\n",
              "      <td>virginica</td>\n",
              "    </tr>\n",
              "    <tr>\n",
              "      <th>11</th>\n",
              "      <td>4.8</td>\n",
              "      <td>3.4</td>\n",
              "      <td>1.6</td>\n",
              "      <td>0.2</td>\n",
              "      <td>setosa</td>\n",
              "    </tr>\n",
              "    <tr>\n",
              "      <th>2</th>\n",
              "      <td>4.7</td>\n",
              "      <td>3.2</td>\n",
              "      <td>1.3</td>\n",
              "      <td>0.2</td>\n",
              "      <td>setosa</td>\n",
              "    </tr>\n",
              "    <tr>\n",
              "      <th>78</th>\n",
              "      <td>6.0</td>\n",
              "      <td>2.9</td>\n",
              "      <td>4.5</td>\n",
              "      <td>1.5</td>\n",
              "      <td>versicolor</td>\n",
              "    </tr>\n",
              "    <tr>\n",
              "      <th>119</th>\n",
              "      <td>6.0</td>\n",
              "      <td>2.2</td>\n",
              "      <td>5.0</td>\n",
              "      <td>1.5</td>\n",
              "      <td>virginica</td>\n",
              "    </tr>\n",
              "    <tr>\n",
              "      <th>135</th>\n",
              "      <td>7.7</td>\n",
              "      <td>3.0</td>\n",
              "      <td>6.1</td>\n",
              "      <td>2.3</td>\n",
              "      <td>virginica</td>\n",
              "    </tr>\n",
              "    <tr>\n",
              "      <th>71</th>\n",
              "      <td>6.1</td>\n",
              "      <td>2.8</td>\n",
              "      <td>4.0</td>\n",
              "      <td>1.3</td>\n",
              "      <td>versicolor</td>\n",
              "    </tr>\n",
              "    <tr>\n",
              "      <th>37</th>\n",
              "      <td>4.9</td>\n",
              "      <td>3.6</td>\n",
              "      <td>1.4</td>\n",
              "      <td>0.1</td>\n",
              "      <td>setosa</td>\n",
              "    </tr>\n",
              "    <tr>\n",
              "      <th>31</th>\n",
              "      <td>5.4</td>\n",
              "      <td>3.4</td>\n",
              "      <td>1.5</td>\n",
              "      <td>0.4</td>\n",
              "      <td>setosa</td>\n",
              "    </tr>\n",
              "    <tr>\n",
              "      <th>117</th>\n",
              "      <td>7.7</td>\n",
              "      <td>3.8</td>\n",
              "      <td>6.7</td>\n",
              "      <td>2.2</td>\n",
              "      <td>virginica</td>\n",
              "    </tr>\n",
              "  </tbody>\n",
              "</table>\n",
              "</div>\n",
              "      <button class=\"colab-df-convert\" onclick=\"convertToInteractive('df-2a7f83cd-4807-4da4-96d6-042bb9a631f2')\"\n",
              "              title=\"Convert this dataframe to an interactive table.\"\n",
              "              style=\"display:none;\">\n",
              "        \n",
              "  <svg xmlns=\"http://www.w3.org/2000/svg\" height=\"24px\"viewBox=\"0 0 24 24\"\n",
              "       width=\"24px\">\n",
              "    <path d=\"M0 0h24v24H0V0z\" fill=\"none\"/>\n",
              "    <path d=\"M18.56 5.44l.94 2.06.94-2.06 2.06-.94-2.06-.94-.94-2.06-.94 2.06-2.06.94zm-11 1L8.5 8.5l.94-2.06 2.06-.94-2.06-.94L8.5 2.5l-.94 2.06-2.06.94zm10 10l.94 2.06.94-2.06 2.06-.94-2.06-.94-.94-2.06-.94 2.06-2.06.94z\"/><path d=\"M17.41 7.96l-1.37-1.37c-.4-.4-.92-.59-1.43-.59-.52 0-1.04.2-1.43.59L10.3 9.45l-7.72 7.72c-.78.78-.78 2.05 0 2.83L4 21.41c.39.39.9.59 1.41.59.51 0 1.02-.2 1.41-.59l7.78-7.78 2.81-2.81c.8-.78.8-2.07 0-2.86zM5.41 20L4 18.59l7.72-7.72 1.47 1.35L5.41 20z\"/>\n",
              "  </svg>\n",
              "      </button>\n",
              "      \n",
              "  <style>\n",
              "    .colab-df-container {\n",
              "      display:flex;\n",
              "      flex-wrap:wrap;\n",
              "      gap: 12px;\n",
              "    }\n",
              "\n",
              "    .colab-df-convert {\n",
              "      background-color: #E8F0FE;\n",
              "      border: none;\n",
              "      border-radius: 50%;\n",
              "      cursor: pointer;\n",
              "      display: none;\n",
              "      fill: #1967D2;\n",
              "      height: 32px;\n",
              "      padding: 0 0 0 0;\n",
              "      width: 32px;\n",
              "    }\n",
              "\n",
              "    .colab-df-convert:hover {\n",
              "      background-color: #E2EBFA;\n",
              "      box-shadow: 0px 1px 2px rgba(60, 64, 67, 0.3), 0px 1px 3px 1px rgba(60, 64, 67, 0.15);\n",
              "      fill: #174EA6;\n",
              "    }\n",
              "\n",
              "    [theme=dark] .colab-df-convert {\n",
              "      background-color: #3B4455;\n",
              "      fill: #D2E3FC;\n",
              "    }\n",
              "\n",
              "    [theme=dark] .colab-df-convert:hover {\n",
              "      background-color: #434B5C;\n",
              "      box-shadow: 0px 1px 3px 1px rgba(0, 0, 0, 0.15);\n",
              "      filter: drop-shadow(0px 1px 2px rgba(0, 0, 0, 0.3));\n",
              "      fill: #FFFFFF;\n",
              "    }\n",
              "  </style>\n",
              "\n",
              "      <script>\n",
              "        const buttonEl =\n",
              "          document.querySelector('#df-2a7f83cd-4807-4da4-96d6-042bb9a631f2 button.colab-df-convert');\n",
              "        buttonEl.style.display =\n",
              "          google.colab.kernel.accessAllowed ? 'block' : 'none';\n",
              "\n",
              "        async function convertToInteractive(key) {\n",
              "          const element = document.querySelector('#df-2a7f83cd-4807-4da4-96d6-042bb9a631f2');\n",
              "          const dataTable =\n",
              "            await google.colab.kernel.invokeFunction('convertToInteractive',\n",
              "                                                     [key], {});\n",
              "          if (!dataTable) return;\n",
              "\n",
              "          const docLinkHtml = 'Like what you see? Visit the ' +\n",
              "            '<a target=\"_blank\" href=https://colab.research.google.com/notebooks/data_table.ipynb>data table notebook</a>'\n",
              "            + ' to learn more about interactive tables.';\n",
              "          element.innerHTML = '';\n",
              "          dataTable['output_type'] = 'display_data';\n",
              "          await google.colab.output.renderOutput(dataTable, element);\n",
              "          const docLink = document.createElement('div');\n",
              "          docLink.innerHTML = docLinkHtml;\n",
              "          element.appendChild(docLink);\n",
              "        }\n",
              "      </script>\n",
              "    </div>\n",
              "  </div>\n",
              "  "
            ]
          },
          "metadata": {},
          "execution_count": 2
        }
      ]
    },
    {
      "cell_type": "markdown",
      "source": [
        "데이터의 통계자료를 확인해봅시다."
      ],
      "metadata": {
        "id": "OF5RtzaJyw_F"
      }
    },
    {
      "cell_type": "code",
      "source": [
        "# TODO: 통계자료를 확인해보세요. (일부 컬럼은 누락될 수 있습니다.)\n",
        "# Hint: https://pandas.pydata.org/docs/reference/api/pandas.DataFrame.describe.html\n",
        "iris.describe()"
      ],
      "metadata": {
        "id": "Ehqxz6i0yzZA",
        "outputId": "204c5a4d-7f64-4452-b601-d37a6fd51f6c",
        "colab": {
          "base_uri": "https://localhost:8080/",
          "height": 300
        }
      },
      "execution_count": 3,
      "outputs": [
        {
          "output_type": "execute_result",
          "data": {
            "text/plain": [
              "       sepal_length  sepal_width  petal_length  petal_width\n",
              "count    150.000000   150.000000    150.000000   150.000000\n",
              "mean       5.843333     3.057333      3.758000     1.199333\n",
              "std        0.828066     0.435866      1.765298     0.762238\n",
              "min        4.300000     2.000000      1.000000     0.100000\n",
              "25%        5.100000     2.800000      1.600000     0.300000\n",
              "50%        5.800000     3.000000      4.350000     1.300000\n",
              "75%        6.400000     3.300000      5.100000     1.800000\n",
              "max        7.900000     4.400000      6.900000     2.500000"
            ],
            "text/html": [
              "\n",
              "  <div id=\"df-d3d43183-2178-41fc-967d-fc99b202791e\">\n",
              "    <div class=\"colab-df-container\">\n",
              "      <div>\n",
              "<style scoped>\n",
              "    .dataframe tbody tr th:only-of-type {\n",
              "        vertical-align: middle;\n",
              "    }\n",
              "\n",
              "    .dataframe tbody tr th {\n",
              "        vertical-align: top;\n",
              "    }\n",
              "\n",
              "    .dataframe thead th {\n",
              "        text-align: right;\n",
              "    }\n",
              "</style>\n",
              "<table border=\"1\" class=\"dataframe\">\n",
              "  <thead>\n",
              "    <tr style=\"text-align: right;\">\n",
              "      <th></th>\n",
              "      <th>sepal_length</th>\n",
              "      <th>sepal_width</th>\n",
              "      <th>petal_length</th>\n",
              "      <th>petal_width</th>\n",
              "    </tr>\n",
              "  </thead>\n",
              "  <tbody>\n",
              "    <tr>\n",
              "      <th>count</th>\n",
              "      <td>150.000000</td>\n",
              "      <td>150.000000</td>\n",
              "      <td>150.000000</td>\n",
              "      <td>150.000000</td>\n",
              "    </tr>\n",
              "    <tr>\n",
              "      <th>mean</th>\n",
              "      <td>5.843333</td>\n",
              "      <td>3.057333</td>\n",
              "      <td>3.758000</td>\n",
              "      <td>1.199333</td>\n",
              "    </tr>\n",
              "    <tr>\n",
              "      <th>std</th>\n",
              "      <td>0.828066</td>\n",
              "      <td>0.435866</td>\n",
              "      <td>1.765298</td>\n",
              "      <td>0.762238</td>\n",
              "    </tr>\n",
              "    <tr>\n",
              "      <th>min</th>\n",
              "      <td>4.300000</td>\n",
              "      <td>2.000000</td>\n",
              "      <td>1.000000</td>\n",
              "      <td>0.100000</td>\n",
              "    </tr>\n",
              "    <tr>\n",
              "      <th>25%</th>\n",
              "      <td>5.100000</td>\n",
              "      <td>2.800000</td>\n",
              "      <td>1.600000</td>\n",
              "      <td>0.300000</td>\n",
              "    </tr>\n",
              "    <tr>\n",
              "      <th>50%</th>\n",
              "      <td>5.800000</td>\n",
              "      <td>3.000000</td>\n",
              "      <td>4.350000</td>\n",
              "      <td>1.300000</td>\n",
              "    </tr>\n",
              "    <tr>\n",
              "      <th>75%</th>\n",
              "      <td>6.400000</td>\n",
              "      <td>3.300000</td>\n",
              "      <td>5.100000</td>\n",
              "      <td>1.800000</td>\n",
              "    </tr>\n",
              "    <tr>\n",
              "      <th>max</th>\n",
              "      <td>7.900000</td>\n",
              "      <td>4.400000</td>\n",
              "      <td>6.900000</td>\n",
              "      <td>2.500000</td>\n",
              "    </tr>\n",
              "  </tbody>\n",
              "</table>\n",
              "</div>\n",
              "      <button class=\"colab-df-convert\" onclick=\"convertToInteractive('df-d3d43183-2178-41fc-967d-fc99b202791e')\"\n",
              "              title=\"Convert this dataframe to an interactive table.\"\n",
              "              style=\"display:none;\">\n",
              "        \n",
              "  <svg xmlns=\"http://www.w3.org/2000/svg\" height=\"24px\"viewBox=\"0 0 24 24\"\n",
              "       width=\"24px\">\n",
              "    <path d=\"M0 0h24v24H0V0z\" fill=\"none\"/>\n",
              "    <path d=\"M18.56 5.44l.94 2.06.94-2.06 2.06-.94-2.06-.94-.94-2.06-.94 2.06-2.06.94zm-11 1L8.5 8.5l.94-2.06 2.06-.94-2.06-.94L8.5 2.5l-.94 2.06-2.06.94zm10 10l.94 2.06.94-2.06 2.06-.94-2.06-.94-.94-2.06-.94 2.06-2.06.94z\"/><path d=\"M17.41 7.96l-1.37-1.37c-.4-.4-.92-.59-1.43-.59-.52 0-1.04.2-1.43.59L10.3 9.45l-7.72 7.72c-.78.78-.78 2.05 0 2.83L4 21.41c.39.39.9.59 1.41.59.51 0 1.02-.2 1.41-.59l7.78-7.78 2.81-2.81c.8-.78.8-2.07 0-2.86zM5.41 20L4 18.59l7.72-7.72 1.47 1.35L5.41 20z\"/>\n",
              "  </svg>\n",
              "      </button>\n",
              "      \n",
              "  <style>\n",
              "    .colab-df-container {\n",
              "      display:flex;\n",
              "      flex-wrap:wrap;\n",
              "      gap: 12px;\n",
              "    }\n",
              "\n",
              "    .colab-df-convert {\n",
              "      background-color: #E8F0FE;\n",
              "      border: none;\n",
              "      border-radius: 50%;\n",
              "      cursor: pointer;\n",
              "      display: none;\n",
              "      fill: #1967D2;\n",
              "      height: 32px;\n",
              "      padding: 0 0 0 0;\n",
              "      width: 32px;\n",
              "    }\n",
              "\n",
              "    .colab-df-convert:hover {\n",
              "      background-color: #E2EBFA;\n",
              "      box-shadow: 0px 1px 2px rgba(60, 64, 67, 0.3), 0px 1px 3px 1px rgba(60, 64, 67, 0.15);\n",
              "      fill: #174EA6;\n",
              "    }\n",
              "\n",
              "    [theme=dark] .colab-df-convert {\n",
              "      background-color: #3B4455;\n",
              "      fill: #D2E3FC;\n",
              "    }\n",
              "\n",
              "    [theme=dark] .colab-df-convert:hover {\n",
              "      background-color: #434B5C;\n",
              "      box-shadow: 0px 1px 3px 1px rgba(0, 0, 0, 0.15);\n",
              "      filter: drop-shadow(0px 1px 2px rgba(0, 0, 0, 0.3));\n",
              "      fill: #FFFFFF;\n",
              "    }\n",
              "  </style>\n",
              "\n",
              "      <script>\n",
              "        const buttonEl =\n",
              "          document.querySelector('#df-d3d43183-2178-41fc-967d-fc99b202791e button.colab-df-convert');\n",
              "        buttonEl.style.display =\n",
              "          google.colab.kernel.accessAllowed ? 'block' : 'none';\n",
              "\n",
              "        async function convertToInteractive(key) {\n",
              "          const element = document.querySelector('#df-d3d43183-2178-41fc-967d-fc99b202791e');\n",
              "          const dataTable =\n",
              "            await google.colab.kernel.invokeFunction('convertToInteractive',\n",
              "                                                     [key], {});\n",
              "          if (!dataTable) return;\n",
              "\n",
              "          const docLinkHtml = 'Like what you see? Visit the ' +\n",
              "            '<a target=\"_blank\" href=https://colab.research.google.com/notebooks/data_table.ipynb>data table notebook</a>'\n",
              "            + ' to learn more about interactive tables.';\n",
              "          element.innerHTML = '';\n",
              "          dataTable['output_type'] = 'display_data';\n",
              "          await google.colab.output.renderOutput(dataTable, element);\n",
              "          const docLink = document.createElement('div');\n",
              "          docLink.innerHTML = docLinkHtml;\n",
              "          element.appendChild(docLink);\n",
              "        }\n",
              "      </script>\n",
              "    </div>\n",
              "  </div>\n",
              "  "
            ]
          },
          "metadata": {},
          "execution_count": 3
        }
      ]
    },
    {
      "cell_type": "code",
      "source": [
        "# 히스토그램 그리기\n",
        "\n",
        "%matplotlib inline\n",
        "import matplotlib.pyplot as plt\n",
        "iris.hist(bins=50, figsize=(10,5))\n",
        "plt.show()"
      ],
      "metadata": {
        "id": "7M6ycB-ZzXMP",
        "outputId": "d93b4e70-e8e2-4aa0-e94e-e3ad429f1fbf",
        "colab": {
          "base_uri": "https://localhost:8080/",
          "height": 468
        }
      },
      "execution_count": 4,
      "outputs": [
        {
          "output_type": "display_data",
          "data": {
            "text/plain": [
              "<Figure size 1000x500 with 4 Axes>"
            ],
            "image/png": "[encoded data removed]"
          },
          "metadata": {}
        }
      ]
    },
    {
      "cell_type": "code",
      "source": [
        "# TODO: 각 컬럼의 데이터 타입과 null 값을 지닌 컬럼이 있는지 확인해보세요.\n",
        "# Hint: https://pandas.pydata.org/docs/reference/api/pandas.DataFrame.info.html\n",
        "iris.info()"
      ],
      "metadata": {
        "id": "EHysgSA59y7d",
        "outputId": "171b7625-beda-4b40-a184-fa0fe26cc9c3",
        "colab": {
          "base_uri": "https://localhost:8080/"
        }
      },
      "execution_count": 5,
      "outputs": [
        {
          "output_type": "stream",
          "name": "stdout",
          "text": [
            "<class 'pandas.core.frame.DataFrame'>\n",
            "RangeIndex: 150 entries, 0 to 149\n",
            "Data columns (total 5 columns):\n",
            " #   Column        Non-Null Count  Dtype  \n",
            "---  ------        --------------  -----  \n",
            " 0   sepal_length  150 non-null    float64\n",
            " 1   sepal_width   150 non-null    float64\n",
            " 2   petal_length  150 non-null    float64\n",
            " 3   petal_width   150 non-null    float64\n",
            " 4   species       150 non-null    object \n",
            "dtypes: float64(4), object(1)\n",
            "memory usage: 6.0+ KB\n"
          ]
        }
      ]
    },
    {
      "cell_type": "markdown",
      "source": [
        "꽃받침(sepal)의 길이, 너비와 꽃잎(petal)의 길이, 너비로 어떤 꽃인지 예측할 것입니다."
      ],
      "metadata": {
        "id": "WS0LwD9x-Xk9"
      }
    },
    {
      "cell_type": "code",
      "source": [
        "# TODO: 어떤 꽃들이 있는지 알아봅시다.\n",
        "# Hint: https://pandas.pydata.org/docs/reference/api/pandas.Series.value_counts.html\n",
        "iris['species'].value_counts()"
      ],
      "metadata": {
        "id": "R9Hs710E-Udc",
        "outputId": "3556adb4-e8e9-43aa-bd9b-42410e737b49",
        "colab": {
          "base_uri": "https://localhost:8080/"
        }
      },
      "execution_count": 6,
      "outputs": [
        {
          "output_type": "execute_result",
          "data": {
            "text/plain": [
              "setosa        50\n",
              "versicolor    50\n",
              "virginica     50\n",
              "Name: species, dtype: int64"
            ]
          },
          "metadata": {},
          "execution_count": 6
        }
      ]
    },
    {
      "cell_type": "markdown",
      "source": [
        "### 훈련 데이터, 검증 데이터, 테스트 데이터로 나누기\n",
        "1. 훈련 데이터: 모델을 훈련할 때 직접적으로 사용\n",
        "2. 검증 데이터: 모델을 훈련할 때 간접적으로 사용\n",
        "3. 테스트 데이터: 훈련이 끝난 모델의 성능을 평가할 때 사용\n",
        "\n",
        "일반적으로 훈련 (60%), 검증 (20%), 테스트 (20%)로 나눕니다. <br>\n",
        "훈련 (80%), 테스트 (20%)로 나눈 후 훈련을 다시 훈련 (80%)과 검증 (20%)으로 나누기도 합니다.<br>\n",
        "\n",
        "모두 같은 결과를 얻기 위해 train_test_split 함수에 random_state 42를 사용합니다.<br>\n",
        "42는 '은하수를 여행하는 히치하이커를 위한 안내서'에 등장한 숫자인데 random seed로 종종 사용됩니다."
      ],
      "metadata": {
        "id": "GYT86htM_Ci-"
      }
    },
    {
      "cell_type": "code",
      "source": [
        "from sklearn.model_selection import train_test_split\n",
        "\n",
        "# 훈련 (80%), 테스트 (20%)\n",
        "train, test = train_test_split(iris, test_size=0.2, random_state=42)"
      ],
      "metadata": {
        "id": "APq_WJ27AhDn"
      },
      "execution_count": 7,
      "outputs": []
    },
    {
      "cell_type": "code",
      "source": [
        "# TODO: train과 test 샘플 수를 확인하세요.\n",
        "print(len(train))\n",
        "print(len(test))"
      ],
      "metadata": {
        "id": "FAcswyuuBdW1",
        "outputId": "3f78d70f-598a-49bf-c9ce-c449e492e334",
        "colab": {
          "base_uri": "https://localhost:8080/"
        }
      },
      "execution_count": 8,
      "outputs": [
        {
          "output_type": "stream",
          "name": "stdout",
          "text": [
            "120\n",
            "30\n"
          ]
        }
      ]
    },
    {
      "cell_type": "markdown",
      "source": [
        "## X값과 y값 나누기\n",
        "지도 학습에서는 데이터 (X)와 답 (y)을 분리하여 모델에 넣어줍니다. X는 여러 값을 지닌 벡터라서 대문자로 표기하고, y는 하나의 값을 지녀 소문자로 표기합니다. (예: MNIST의 X는 784개의 픽셀 값, y는 [0, 9]에 속한 정수)"
      ],
      "metadata": {
        "id": "3WUl5G_ODBDk"
      }
    },
    {
      "cell_type": "code",
      "source": [
        "train_X = train.drop(['species'], axis=1)   # species 열(axis=1)만 제거\n",
        "train_y = train['species']                  # species 열만 가져오기\n",
        "\n",
        "# TODO\n",
        "test_X = test.drop(['species'], axis=1)\n",
        "test_y = test['species']  \n"
      ],
      "metadata": {
        "id": "q9mwi5U2DL9Z"
      },
      "execution_count": 9,
      "outputs": []
    },
    {
      "cell_type": "code",
      "source": [
        "train_X"
      ],
      "metadata": {
        "id": "o29XE5bVjnVH",
        "outputId": "c4915156-0fc8-4ac0-a532-2b8e83a6f648",
        "colab": {
          "base_uri": "https://localhost:8080/",
          "height": 424
        }
      },
      "execution_count": 10,
      "outputs": [
        {
          "output_type": "execute_result",
          "data": {
            "text/plain": [
              "     sepal_length  sepal_width  petal_length  petal_width\n",
              "22            4.6          3.6           1.0          0.2\n",
              "15            5.7          4.4           1.5          0.4\n",
              "65            6.7          3.1           4.4          1.4\n",
              "11            4.8          3.4           1.6          0.2\n",
              "42            4.4          3.2           1.3          0.2\n",
              "..            ...          ...           ...          ...\n",
              "71            6.1          2.8           4.0          1.3\n",
              "106           4.9          2.5           4.5          1.7\n",
              "14            5.8          4.0           1.2          0.2\n",
              "92            5.8          2.6           4.0          1.2\n",
              "102           7.1          3.0           5.9          2.1\n",
              "\n",
              "[120 rows x 4 columns]"
            ],
            "text/html": [
              "\n",
              "  <div id=\"df-ce475d2c-49e7-4abf-b60c-b30132965902\">\n",
              "    <div class=\"colab-df-container\">\n",
              "      <div>\n",
              "<style scoped>\n",
              "    .dataframe tbody tr th:only-of-type {\n",
              "        vertical-align: middle;\n",
              "    }\n",
              "\n",
              "    .dataframe tbody tr th {\n",
              "        vertical-align: top;\n",
              "    }\n",
              "\n",
              "    .dataframe thead th {\n",
              "        text-align: right;\n",
              "    }\n",
              "</style>\n",
              "<table border=\"1\" class=\"dataframe\">\n",
              "  <thead>\n",
              "    <tr style=\"text-align: right;\">\n",
              "      <th></th>\n",
              "      <th>sepal_length</th>\n",
              "      <th>sepal_width</th>\n",
              "      <th>petal_length</th>\n",
              "      <th>petal_width</th>\n",
              "    </tr>\n",
              "  </thead>\n",
              "  <tbody>\n",
              "    <tr>\n",
              "      <th>22</th>\n",
              "      <td>4.6</td>\n",
              "      <td>3.6</td>\n",
              "      <td>1.0</td>\n",
              "      <td>0.2</td>\n",
              "    </tr>\n",
              "    <tr>\n",
              "      <th>15</th>\n",
              "      <td>5.7</td>\n",
              "      <td>4.4</td>\n",
              "      <td>1.5</td>\n",
              "      <td>0.4</td>\n",
              "    </tr>\n",
              "    <tr>\n",
              "      <th>65</th>\n",
              "      <td>6.7</td>\n",
              "      <td>3.1</td>\n",
              "      <td>4.4</td>\n",
              "      <td>1.4</td>\n",
              "    </tr>\n",
              "    <tr>\n",
              "      <th>11</th>\n",
              "      <td>4.8</td>\n",
              "      <td>3.4</td>\n",
              "      <td>1.6</td>\n",
              "      <td>0.2</td>\n",
              "    </tr>\n",
              "    <tr>\n",
              "      <th>42</th>\n",
              "      <td>4.4</td>\n",
              "      <td>3.2</td>\n",
              "      <td>1.3</td>\n",
              "      <td>0.2</td>\n",
              "    </tr>\n",
              "    <tr>\n",
              "      <th>...</th>\n",
              "      <td>...</td>\n",
              "      <td>...</td>\n",
              "      <td>...</td>\n",
              "      <td>...</td>\n",
              "    </tr>\n",
              "    <tr>\n",
              "      <th>71</th>\n",
              "      <td>6.1</td>\n",
              "      <td>2.8</td>\n",
              "      <td>4.0</td>\n",
              "      <td>1.3</td>\n",
              "    </tr>\n",
              "    <tr>\n",
              "      <th>106</th>\n",
              "      <td>4.9</td>\n",
              "      <td>2.5</td>\n",
              "      <td>4.5</td>\n",
              "      <td>1.7</td>\n",
              "    </tr>\n",
              "    <tr>\n",
              "      <th>14</th>\n",
              "      <td>5.8</td>\n",
              "      <td>4.0</td>\n",
              "      <td>1.2</td>\n",
              "      <td>0.2</td>\n",
              "    </tr>\n",
              "    <tr>\n",
              "      <th>92</th>\n",
              "      <td>5.8</td>\n",
              "      <td>2.6</td>\n",
              "      <td>4.0</td>\n",
              "      <td>1.2</td>\n",
              "    </tr>\n",
              "    <tr>\n",
              "      <th>102</th>\n",
              "      <td>7.1</td>\n",
              "      <td>3.0</td>\n",
              "      <td>5.9</td>\n",
              "      <td>2.1</td>\n",
              "    </tr>\n",
              "  </tbody>\n",
              "</table>\n",
              "<p>120 rows × 4 columns</p>\n",
              "</div>\n",
              "      <button class=\"colab-df-convert\" onclick=\"convertToInteractive('df-ce475d2c-49e7-4abf-b60c-b30132965902')\"\n",
              "              title=\"Convert this dataframe to an interactive table.\"\n",
              "              style=\"display:none;\">\n",
              "        \n",
              "  <svg xmlns=\"http://www.w3.org/2000/svg\" height=\"24px\"viewBox=\"0 0 24 24\"\n",
              "       width=\"24px\">\n",
              "    <path d=\"M0 0h24v24H0V0z\" fill=\"none\"/>\n",
              "    <path d=\"M18.56 5.44l.94 2.06.94-2.06 2.06-.94-2.06-.94-.94-2.06-.94 2.06-2.06.94zm-11 1L8.5 8.5l.94-2.06 2.06-.94-2.06-.94L8.5 2.5l-.94 2.06-2.06.94zm10 10l.94 2.06.94-2.06 2.06-.94-2.06-.94-.94-2.06-.94 2.06-2.06.94z\"/><path d=\"M17.41 7.96l-1.37-1.37c-.4-.4-.92-.59-1.43-.59-.52 0-1.04.2-1.43.59L10.3 9.45l-7.72 7.72c-.78.78-.78 2.05 0 2.83L4 21.41c.39.39.9.59 1.41.59.51 0 1.02-.2 1.41-.59l7.78-7.78 2.81-2.81c.8-.78.8-2.07 0-2.86zM5.41 20L4 18.59l7.72-7.72 1.47 1.35L5.41 20z\"/>\n",
              "  </svg>\n",
              "      </button>\n",
              "      \n",
              "  <style>\n",
              "    .colab-df-container {\n",
              "      display:flex;\n",
              "      flex-wrap:wrap;\n",
              "      gap: 12px;\n",
              "    }\n",
              "\n",
              "    .colab-df-convert {\n",
              "      background-color: #E8F0FE;\n",
              "      border: none;\n",
              "      border-radius: 50%;\n",
              "      cursor: pointer;\n",
              "      display: none;\n",
              "      fill: #1967D2;\n",
              "      height: 32px;\n",
              "      padding: 0 0 0 0;\n",
              "      width: 32px;\n",
              "    }\n",
              "\n",
              "    .colab-df-convert:hover {\n",
              "      background-color: #E2EBFA;\n",
              "      box-shadow: 0px 1px 2px rgba(60, 64, 67, 0.3), 0px 1px 3px 1px rgba(60, 64, 67, 0.15);\n",
              "      fill: #174EA6;\n",
              "    }\n",
              "\n",
              "    [theme=dark] .colab-df-convert {\n",
              "      background-color: #3B4455;\n",
              "      fill: #D2E3FC;\n",
              "    }\n",
              "\n",
              "    [theme=dark] .colab-df-convert:hover {\n",
              "      background-color: #434B5C;\n",
              "      box-shadow: 0px 1px 3px 1px rgba(0, 0, 0, 0.15);\n",
              "      filter: drop-shadow(0px 1px 2px rgba(0, 0, 0, 0.3));\n",
              "      fill: #FFFFFF;\n",
              "    }\n",
              "  </style>\n",
              "\n",
              "      <script>\n",
              "        const buttonEl =\n",
              "          document.querySelector('#df-ce475d2c-49e7-4abf-b60c-b30132965902 button.colab-df-convert');\n",
              "        buttonEl.style.display =\n",
              "          google.colab.kernel.accessAllowed ? 'block' : 'none';\n",
              "\n",
              "        async function convertToInteractive(key) {\n",
              "          const element = document.querySelector('#df-ce475d2c-49e7-4abf-b60c-b30132965902');\n",
              "          const dataTable =\n",
              "            await google.colab.kernel.invokeFunction('convertToInteractive',\n",
              "                                                     [key], {});\n",
              "          if (!dataTable) return;\n",
              "\n",
              "          const docLinkHtml = 'Like what you see? Visit the ' +\n",
              "            '<a target=\"_blank\" href=https://colab.research.google.com/notebooks/data_table.ipynb>data table notebook</a>'\n",
              "            + ' to learn more about interactive tables.';\n",
              "          element.innerHTML = '';\n",
              "          dataTable['output_type'] = 'display_data';\n",
              "          await google.colab.output.renderOutput(dataTable, element);\n",
              "          const docLink = document.createElement('div');\n",
              "          docLink.innerHTML = docLinkHtml;\n",
              "          element.appendChild(docLink);\n",
              "        }\n",
              "      </script>\n",
              "    </div>\n",
              "  </div>\n",
              "  "
            ]
          },
          "metadata": {},
          "execution_count": 10
        }
      ]
    },
    {
      "cell_type": "markdown",
      "source": [
        "### y값 숫자로 변환하기\n",
        "\n",
        "인공 신경망에는 setosa, versicolor 등의 string이 입력될 수 없으므로 숫자로 변환해야 합니다."
      ],
      "metadata": {
        "id": "pis2K3rnI8YX"
      }
    },
    {
      "cell_type": "code",
      "source": [
        "# 현재의 y값 확인\n",
        "train_y"
      ],
      "metadata": {
        "id": "MELPFUREIuA0",
        "outputId": "7b7a93d9-f1f0-4a73-94ff-d1931d62c77e",
        "colab": {
          "base_uri": "https://localhost:8080/"
        }
      },
      "execution_count": 11,
      "outputs": [
        {
          "output_type": "execute_result",
          "data": {
            "text/plain": [
              "22         setosa\n",
              "15         setosa\n",
              "65     versicolor\n",
              "11         setosa\n",
              "42         setosa\n",
              "          ...    \n",
              "71     versicolor\n",
              "106     virginica\n",
              "14         setosa\n",
              "92     versicolor\n",
              "102     virginica\n",
              "Name: species, Length: 120, dtype: object"
            ]
          },
          "metadata": {},
          "execution_count": 11
        }
      ]
    },
    {
      "cell_type": "code",
      "source": [
        "# LabelEncoder를 사용하여 string 형태의 레이블을 자동으로 변환하도록 설정\n",
        "from sklearn import preprocessing\n",
        "\n",
        "le = preprocessing.LabelEncoder()\n",
        "le.fit(train_y)"
      ],
      "metadata": {
        "id": "hEnx4YQKJKTK",
        "outputId": "4793c134-190b-4849-91ce-682fe443a42c",
        "colab": {
          "base_uri": "https://localhost:8080/",
          "height": 75
        }
      },
      "execution_count": 12,
      "outputs": [
        {
          "output_type": "execute_result",
          "data": {
            "text/plain": [
              "LabelEncoder()"
            ],
            "text/html": [
              "<style>#sk-container-id-1 {color: black;background-color: white;}#sk-container-id-1 pre{padding: 0;}#sk-container-id-1 div.sk-toggleable {background-color: white;}#sk-container-id-1 label.sk-toggleable__label {cursor: pointer;display: block;width: 100%;margin-bottom: 0;padding: 0.3em;box-sizing: border-box;text-align: center;}#sk-container-id-1 label.sk-toggleable__label-arrow:before {content: \"▸\";float: left;margin-right: 0.25em;color: #696969;}#sk-container-id-1 label.sk-toggleable__label-arrow:hover:before {color: black;}#sk-container-id-1 div.sk-estimator:hover label.sk-toggleable__label-arrow:before {color: black;}#sk-container-id-1 div.sk-toggleable__content {max-height: 0;max-width: 0;overflow: hidden;text-align: left;background-color: #f0f8ff;}#sk-container-id-1 div.sk-toggleable__content pre {margin: 0.2em;color: black;border-radius: 0.25em;background-color: #f0f8ff;}#sk-container-id-1 input.sk-toggleable__control:checked~div.sk-toggleable__content {max-height: 200px;max-width: 100%;overflow: auto;}#sk-container-id-1 input.sk-toggleable__control:checked~label.sk-toggleable__label-arrow:before {content: \"▾\";}#sk-container-id-1 div.sk-estimator input.sk-toggleable__control:checked~label.sk-toggleable__label {background-color: #d4ebff;}#sk-container-id-1 div.sk-label input.sk-toggleable__control:checked~label.sk-toggleable__label {background-color: #d4ebff;}#sk-container-id-1 input.sk-hidden--visually {border: 0;clip: rect(1px 1px 1px 1px);clip: rect(1px, 1px, 1px, 1px);height: 1px;margin: -1px;overflow: hidden;padding: 0;position: absolute;width: 1px;}#sk-container-id-1 div.sk-estimator {font-family: monospace;background-color: #f0f8ff;border: 1px dotted black;border-radius: 0.25em;box-sizing: border-box;margin-bottom: 0.5em;}#sk-container-id-1 div.sk-estimator:hover {background-color: #d4ebff;}#sk-container-id-1 div.sk-parallel-item::after {content: \"\";width: 100%;border-bottom: 1px solid gray;flex-grow: 1;}#sk-container-id-1 div.sk-label:hover label.sk-toggleable__label {background-color: #d4ebff;}#sk-container-id-1 div.sk-serial::before {content: \"\";position: absolute;border-left: 1px solid gray;box-sizing: border-box;top: 0;bottom: 0;left: 50%;z-index: 0;}#sk-container-id-1 div.sk-serial {display: flex;flex-direction: column;align-items: center;background-color: white;padding-right: 0.2em;padding-left: 0.2em;position: relative;}#sk-container-id-1 div.sk-item {position: relative;z-index: 1;}#sk-container-id-1 div.sk-parallel {display: flex;align-items: stretch;justify-content: center;background-color: white;position: relative;}#sk-container-id-1 div.sk-item::before, #sk-container-id-1 div.sk-parallel-item::before {content: \"\";position: absolute;border-left: 1px solid gray;box-sizing: border-box;top: 0;bottom: 0;left: 50%;z-index: -1;}#sk-container-id-1 div.sk-parallel-item {display: flex;flex-direction: column;z-index: 1;position: relative;background-color: white;}#sk-container-id-1 div.sk-parallel-item:first-child::after {align-self: flex-end;width: 50%;}#sk-container-id-1 div.sk-parallel-item:last-child::after {align-self: flex-start;width: 50%;}#sk-container-id-1 div.sk-parallel-item:only-child::after {width: 0;}#sk-container-id-1 div.sk-dashed-wrapped {border: 1px dashed gray;margin: 0 0.4em 0.5em 0.4em;box-sizing: border-box;padding-bottom: 0.4em;background-color: white;}#sk-container-id-1 div.sk-label label {font-family: monospace;font-weight: bold;display: inline-block;line-height: 1.2em;}#sk-container-id-1 div.sk-label-container {text-align: center;}#sk-container-id-1 div.sk-container {/* jupyter's `normalize.less` sets `[hidden] { display: none; }` but bootstrap.min.css set `[hidden] { display: none !important; }` so we also need the `!important` here to be able to override the default hidden behavior on the sphinx rendered scikit-learn.org. See: https://github.com/scikit-learn/scikit-learn/issues/21755 */display: inline-block !important;position: relative;}#sk-container-id-1 div.sk-text-repr-fallback {display: none;}</style><div id=\"sk-container-id-1\" class=\"sk-top-container\"><div class=\"sk-text-repr-fallback\"><pre>LabelEncoder()</pre><b>In a Jupyter environment, please rerun this cell to show the HTML representation or trust the notebook. <br />On GitHub, the HTML representation is unable to render, please try loading this page with nbviewer.org.</b></div><div class=\"sk-container\" hidden><div class=\"sk-item\"><div class=\"sk-estimator sk-toggleable\"><input class=\"sk-toggleable__control sk-hidden--visually\" id=\"sk-estimator-id-1\" type=\"checkbox\" checked><label for=\"sk-estimator-id-1\" class=\"sk-toggleable__label sk-toggleable__label-arrow\">LabelEncoder</label><div class=\"sk-toggleable__content\"><pre>LabelEncoder()</pre></div></div></div></div></div>"
            ]
          },
          "metadata": {},
          "execution_count": 12
        }
      ]
    },
    {
      "cell_type": "code",
      "source": [
        "# 다음의 클래스들이 0, 1, 2로 맵핑됩니다.\n",
        "le.classes_"
      ],
      "metadata": {
        "id": "kJL3HVeyJUDi",
        "outputId": "b9335ba0-39ae-4943-97f9-de696f1599f9",
        "colab": {
          "base_uri": "https://localhost:8080/"
        }
      },
      "execution_count": 13,
      "outputs": [
        {
          "output_type": "execute_result",
          "data": {
            "text/plain": [
              "array(['setosa', 'versicolor', 'virginica'], dtype=object)"
            ]
          },
          "metadata": {},
          "execution_count": 13
        }
      ]
    },
    {
      "cell_type": "code",
      "source": [
        "# 훈련 레이블 숫자로 변환하기\n",
        "train_y = le.transform(train_y)\n",
        "train_y"
      ],
      "metadata": {
        "id": "2QxW6zwwJeFW",
        "outputId": "2e046645-a7e0-4fe6-f9c6-179522141b40",
        "colab": {
          "base_uri": "https://localhost:8080/"
        }
      },
      "execution_count": 14,
      "outputs": [
        {
          "output_type": "execute_result",
          "data": {
            "text/plain": [
              "array([0, 0, 1, 0, 0, 2, 1, 0, 0, 0, 2, 1, 1, 0, 0, 1, 2, 2, 1, 2, 1, 2,\n",
              "       1, 0, 2, 1, 0, 0, 0, 1, 2, 0, 0, 0, 1, 0, 1, 2, 0, 1, 2, 0, 2, 2,\n",
              "       1, 1, 2, 1, 0, 1, 2, 0, 0, 1, 1, 0, 2, 0, 0, 1, 1, 2, 1, 2, 2, 1,\n",
              "       0, 0, 2, 2, 0, 0, 0, 1, 2, 0, 2, 2, 0, 1, 1, 2, 1, 2, 0, 2, 1, 2,\n",
              "       1, 1, 1, 0, 1, 1, 0, 1, 2, 2, 0, 1, 2, 2, 0, 2, 0, 1, 2, 2, 1, 2,\n",
              "       1, 1, 2, 2, 0, 1, 2, 0, 1, 2])"
            ]
          },
          "metadata": {},
          "execution_count": 14
        }
      ]
    },
    {
      "cell_type": "code",
      "source": [
        "# TODO: 테스트 레이블 숫자로 변환하기\n",
        "le.fit(test_y)\n",
        "test_y = le.transform(test_y)\n",
        "test_y\n"
      ],
      "metadata": {
        "id": "qM8k31yKJwMd",
        "outputId": "a1c2c86f-14e1-41a9-e0b8-b38c0f87b21c",
        "colab": {
          "base_uri": "https://localhost:8080/"
        }
      },
      "execution_count": 15,
      "outputs": [
        {
          "output_type": "execute_result",
          "data": {
            "text/plain": [
              "array([1, 0, 2, 1, 1, 0, 1, 2, 1, 1, 2, 0, 0, 0, 0, 1, 2, 1, 1, 2, 0, 2,\n",
              "       0, 2, 2, 2, 2, 2, 0, 0])"
            ]
          },
          "metadata": {},
          "execution_count": 15
        }
      ]
    },
    {
      "cell_type": "markdown",
      "source": [
        "## 전처리 하기\n",
        "Min-max normalization으로 모든 인자의 값을 0과 1사이의 값으로 변환합니다. <br>(https://en.wikipedia.org/wiki/Feature_scaling#Rescaling_(min-max_normalization))<br>\n",
        "**(중요) 모든 전처리 기법은 훈련 데이터만 사용하여 학습한 후 다른 데이터 (검증 및 테스트)에 동일하게 적용합니다.**"
      ],
      "metadata": {
        "id": "-dZbQMBpB4xc"
      }
    },
    {
      "cell_type": "code",
      "source": [
        "# 현재 훈련 데이터에서 가장 작은 값과 큰 값을 확인합니다.\n",
        "import numpy as np\n",
        "\n",
        "print(train_X.min()) \n",
        "print(train_X.max())"
      ],
      "metadata": {
        "id": "O7SmI4DVsyew",
        "outputId": "5e7e54e0-6b54-41ba-9196-b0a69de4a3dc",
        "colab": {
          "base_uri": "https://localhost:8080/"
        }
      },
      "execution_count": 16,
      "outputs": [
        {
          "output_type": "stream",
          "name": "stdout",
          "text": [
            "sepal_length    4.3\n",
            "sepal_width     2.0\n",
            "petal_length    1.0\n",
            "petal_width     0.1\n",
            "dtype: float64\n",
            "sepal_length    7.7\n",
            "sepal_width     4.4\n",
            "petal_length    6.7\n",
            "petal_width     2.5\n",
            "dtype: float64\n"
          ]
        }
      ]
    },
    {
      "cell_type": "code",
      "source": [
        "# train_X의 min, max값으로 scaler를 설정합니다.\n",
        "from sklearn.preprocessing import MinMaxScaler\n",
        "scaler = MinMaxScaler()\n",
        "scaler.fit(train_X)"
      ],
      "metadata": {
        "id": "FcJXMG4ACb2V",
        "outputId": "ac60a19a-acf7-446c-ffbf-f974f4ed9d04",
        "colab": {
          "base_uri": "https://localhost:8080/",
          "height": 75
        }
      },
      "execution_count": 17,
      "outputs": [
        {
          "output_type": "execute_result",
          "data": {
            "text/plain": [
              "MinMaxScaler()"
            ],
            "text/html": [
              "<style>#sk-container-id-2 {color: black;background-color: white;}#sk-container-id-2 pre{padding: 0;}#sk-container-id-2 div.sk-toggleable {background-color: white;}#sk-container-id-2 label.sk-toggleable__label {cursor: pointer;display: block;width: 100%;margin-bottom: 0;padding: 0.3em;box-sizing: border-box;text-align: center;}#sk-container-id-2 label.sk-toggleable__label-arrow:before {content: \"▸\";float: left;margin-right: 0.25em;color: #696969;}#sk-container-id-2 label.sk-toggleable__label-arrow:hover:before {color: black;}#sk-container-id-2 div.sk-estimator:hover label.sk-toggleable__label-arrow:before {color: black;}#sk-container-id-2 div.sk-toggleable__content {max-height: 0;max-width: 0;overflow: hidden;text-align: left;background-color: #f0f8ff;}#sk-container-id-2 div.sk-toggleable__content pre {margin: 0.2em;color: black;border-radius: 0.25em;background-color: #f0f8ff;}#sk-container-id-2 input.sk-toggleable__control:checked~div.sk-toggleable__content {max-height: 200px;max-width: 100%;overflow: auto;}#sk-container-id-2 input.sk-toggleable__control:checked~label.sk-toggleable__label-arrow:before {content: \"▾\";}#sk-container-id-2 div.sk-estimator input.sk-toggleable__control:checked~label.sk-toggleable__label {background-color: #d4ebff;}#sk-container-id-2 div.sk-label input.sk-toggleable__control:checked~label.sk-toggleable__label {background-color: #d4ebff;}#sk-container-id-2 input.sk-hidden--visually {border: 0;clip: rect(1px 1px 1px 1px);clip: rect(1px, 1px, 1px, 1px);height: 1px;margin: -1px;overflow: hidden;padding: 0;position: absolute;width: 1px;}#sk-container-id-2 div.sk-estimator {font-family: monospace;background-color: #f0f8ff;border: 1px dotted black;border-radius: 0.25em;box-sizing: border-box;margin-bottom: 0.5em;}#sk-container-id-2 div.sk-estimator:hover {background-color: #d4ebff;}#sk-container-id-2 div.sk-parallel-item::after {content: \"\";width: 100%;border-bottom: 1px solid gray;flex-grow: 1;}#sk-container-id-2 div.sk-label:hover label.sk-toggleable__label {background-color: #d4ebff;}#sk-container-id-2 div.sk-serial::before {content: \"\";position: absolute;border-left: 1px solid gray;box-sizing: border-box;top: 0;bottom: 0;left: 50%;z-index: 0;}#sk-container-id-2 div.sk-serial {display: flex;flex-direction: column;align-items: center;background-color: white;padding-right: 0.2em;padding-left: 0.2em;position: relative;}#sk-container-id-2 div.sk-item {position: relative;z-index: 1;}#sk-container-id-2 div.sk-parallel {display: flex;align-items: stretch;justify-content: center;background-color: white;position: relative;}#sk-container-id-2 div.sk-item::before, #sk-container-id-2 div.sk-parallel-item::before {content: \"\";position: absolute;border-left: 1px solid gray;box-sizing: border-box;top: 0;bottom: 0;left: 50%;z-index: -1;}#sk-container-id-2 div.sk-parallel-item {display: flex;flex-direction: column;z-index: 1;position: relative;background-color: white;}#sk-container-id-2 div.sk-parallel-item:first-child::after {align-self: flex-end;width: 50%;}#sk-container-id-2 div.sk-parallel-item:last-child::after {align-self: flex-start;width: 50%;}#sk-container-id-2 div.sk-parallel-item:only-child::after {width: 0;}#sk-container-id-2 div.sk-dashed-wrapped {border: 1px dashed gray;margin: 0 0.4em 0.5em 0.4em;box-sizing: border-box;padding-bottom: 0.4em;background-color: white;}#sk-container-id-2 div.sk-label label {font-family: monospace;font-weight: bold;display: inline-block;line-height: 1.2em;}#sk-container-id-2 div.sk-label-container {text-align: center;}#sk-container-id-2 div.sk-container {/* jupyter's `normalize.less` sets `[hidden] { display: none; }` but bootstrap.min.css set `[hidden] { display: none !important; }` so we also need the `!important` here to be able to override the default hidden behavior on the sphinx rendered scikit-learn.org. See: https://github.com/scikit-learn/scikit-learn/issues/21755 */display: inline-block !important;position: relative;}#sk-container-id-2 div.sk-text-repr-fallback {display: none;}</style><div id=\"sk-container-id-2\" class=\"sk-top-container\"><div class=\"sk-text-repr-fallback\"><pre>MinMaxScaler()</pre><b>In a Jupyter environment, please rerun this cell to show the HTML representation or trust the notebook. <br />On GitHub, the HTML representation is unable to render, please try loading this page with nbviewer.org.</b></div><div class=\"sk-container\" hidden><div class=\"sk-item\"><div class=\"sk-estimator sk-toggleable\"><input class=\"sk-toggleable__control sk-hidden--visually\" id=\"sk-estimator-id-2\" type=\"checkbox\" checked><label for=\"sk-estimator-id-2\" class=\"sk-toggleable__label sk-toggleable__label-arrow\">MinMaxScaler</label><div class=\"sk-toggleable__content\"><pre>MinMaxScaler()</pre></div></div></div></div></div>"
            ]
          },
          "metadata": {},
          "execution_count": 17
        }
      ]
    },
    {
      "cell_type": "code",
      "source": [
        "# 0부터 1사이의 NumPy 배열로 변환\n",
        "train_X = scaler.transform(train_X)\n",
        "\n",
        "# TODO\n",
        "test_X = scaler.transform(test_X)"
      ],
      "metadata": {
        "id": "u1ZsUbnpD9yF"
      },
      "execution_count": 18,
      "outputs": []
    },
    {
      "cell_type": "code",
      "source": [
        "# 잘 변환됐는지 확인\n",
        "\n",
        "print(train_X.min()) \n",
        "print(train_X.max())"
      ],
      "metadata": {
        "id": "aIvaPHMGHFzA",
        "outputId": "d09fb3ea-a3e0-4457-a928-717105c4582d",
        "colab": {
          "base_uri": "https://localhost:8080/"
        }
      },
      "execution_count": 19,
      "outputs": [
        {
          "output_type": "stream",
          "name": "stdout",
          "text": [
            "0.0\n",
            "1.0\n"
          ]
        }
      ]
    },
    {
      "cell_type": "markdown",
      "source": [
        "## 모델 만들기\n",
        "MLP에서 숨겨진 층의 노드 개수는 입력층의 2/3 정도로 설정하는 것이 일반적이지만 최적이 아닐 수도 있으니 직접 실험을 해가며 설정하는 것이 좋습니다. 출력층의 활성화 함수는 출력 중 큰 값에 높은 확률을 할당해주는 함수를 사용합니다. (https://en.wikipedia.org/wiki/Softmax_function)"
      ],
      "metadata": {
        "id": "Apcy5bXLH0Rb"
      }
    },
    {
      "cell_type": "code",
      "source": [
        "from keras import models\n",
        "from keras import layers\n",
        "from keras.callbacks import EarlyStopping\n",
        "\n",
        "model = models.Sequential()\n",
        "model.add(layers.Input(shape=(4,))) # 입력층의 모양\n",
        "model.add(layers.Dense(16, activation='relu')) # 숨겨진 층, 원하는 경우 층을 추가하셔도 좋습니다.\n",
        "model.add(layers.Dense(10, activation='softmax')) # 출력층의 모양 및 활성화 함수"
      ],
      "metadata": {
        "id": "kqMLovSRH13P"
      },
      "execution_count": 20,
      "outputs": []
    },
    {
      "cell_type": "code",
      "source": [
        "# TODO: 컴파일하기\n",
        "# 레이블에 one-hot 인코딩을 사용하지 않았으므로 loss에 주의합니다.\n",
        "\n",
        "model.compile(optimizer='rmsprop', loss='sparse_categorical_crossentropy', metrics=['accuracy'])"
      ],
      "metadata": {
        "id": "4lJBMxwhKhWN"
      },
      "execution_count": 21,
      "outputs": []
    },
    {
      "cell_type": "markdown",
      "source": [
        "## 모델 훈련하기\n",
        "훈련 데이터를 사용하여 인공신경망의 가중치를 조절합니다. 한 epoch이 끝나면 (훈련 데이터를 완전히 한 번 보고나면) 검증 데이터의 loss를 측정합니다. 훈련 데이터의 loss는 줄어드는데 검증 데이터의 loss가 증가하면 과적합이 일어나는 신호이므로 훈련을 중단합니다. 일시적인 현상에 콜백 함수가 속을 수 있으니 val_loss가 감소하지 않아도 10번의 epochs을 참을 수 있도록 설정해봅시다.\n"
      ],
      "metadata": {
        "id": "W1KMQUIOK5Qv"
      }
    },
    {
      "cell_type": "code",
      "source": [
        "# TODO: 훈련 데이터와 정답으로 모델을 훈련합니다.\n",
        "\n",
        "model.fit(train_X, train_y, epochs=10000, \n",
        "            callbacks=EarlyStopping(monitor='val_loss', patience=10),            # val_loss를 관찰하여 과적합이 일어나면 훈련을 중단합니다. (10번은 참기)\n",
        "            validation_split=0.2)       # 훈련 데이터의 20%를 검증 데이터로 사용합니다."
      ],
      "metadata": {
        "id": "FtDX6bh5K3Cq",
        "outputId": "3e739585-8494-4d5b-dd90-7f2e8b3eabf8",
        "colab": {
          "base_uri": "https://localhost:8080/"
        }
      },
      "execution_count": 24,
      "outputs": [
        {
          "output_type": "stream",
          "name": "stdout",
          "text": [
            "Epoch 1/10000\n",
            "3/3 [==============================] - 0s 44ms/step - loss: 0.1057 - accuracy: 0.9479 - val_loss: 0.1399 - val_accuracy: 1.0000\n",
            "Epoch 2/10000\n",
            "3/3 [==============================] - 0s 25ms/step - loss: 0.1035 - accuracy: 0.9479 - val_loss: 0.1395 - val_accuracy: 1.0000\n",
            "Epoch 3/10000\n",
            "3/3 [==============================] - 0s 17ms/step - loss: 0.1031 - accuracy: 0.9583 - val_loss: 0.1395 - val_accuracy: 1.0000\n",
            "Epoch 4/10000\n",
            "3/3 [==============================] - 0s 17ms/step - loss: 0.1045 - accuracy: 0.9375 - val_loss: 0.1390 - val_accuracy: 1.0000\n",
            "Epoch 5/10000\n",
            "3/3 [==============================] - 0s 26ms/step - loss: 0.1031 - accuracy: 0.9583 - val_loss: 0.1402 - val_accuracy: 1.0000\n",
            "Epoch 6/10000\n",
            "3/3 [==============================] - 0s 20ms/step - loss: 0.1030 - accuracy: 0.9583 - val_loss: 0.1409 - val_accuracy: 1.0000\n",
            "Epoch 7/10000\n",
            "3/3 [==============================] - 0s 18ms/step - loss: 0.1039 - accuracy: 0.9375 - val_loss: 0.1397 - val_accuracy: 1.0000\n",
            "Epoch 8/10000\n",
            "3/3 [==============================] - 0s 26ms/step - loss: 0.1038 - accuracy: 0.9479 - val_loss: 0.1400 - val_accuracy: 1.0000\n",
            "Epoch 9/10000\n",
            "3/3 [==============================] - 0s 26ms/step - loss: 0.1036 - accuracy: 0.9479 - val_loss: 0.1393 - val_accuracy: 1.0000\n",
            "Epoch 10/10000\n",
            "3/3 [==============================] - 0s 28ms/step - loss: 0.1035 - accuracy: 0.9479 - val_loss: 0.1381 - val_accuracy: 1.0000\n",
            "Epoch 11/10000\n",
            "3/3 [==============================] - 0s 31ms/step - loss: 0.1023 - accuracy: 0.9583 - val_loss: 0.1387 - val_accuracy: 1.0000\n",
            "Epoch 12/10000\n",
            "3/3 [==============================] - 0s 32ms/step - loss: 0.1036 - accuracy: 0.9479 - val_loss: 0.1390 - val_accuracy: 1.0000\n",
            "Epoch 13/10000\n",
            "3/3 [==============================] - 0s 27ms/step - loss: 0.1021 - accuracy: 0.9479 - val_loss: 0.1384 - val_accuracy: 1.0000\n",
            "Epoch 14/10000\n",
            "3/3 [==============================] - 0s 32ms/step - loss: 0.1022 - accuracy: 0.9479 - val_loss: 0.1386 - val_accuracy: 1.0000\n",
            "Epoch 15/10000\n",
            "3/3 [==============================] - 0s 31ms/step - loss: 0.1043 - accuracy: 0.9479 - val_loss: 0.1382 - val_accuracy: 1.0000\n",
            "Epoch 16/10000\n",
            "3/3 [==============================] - 0s 35ms/step - loss: 0.1020 - accuracy: 0.9583 - val_loss: 0.1389 - val_accuracy: 1.0000\n",
            "Epoch 17/10000\n",
            "3/3 [==============================] - 0s 32ms/step - loss: 0.1020 - accuracy: 0.9479 - val_loss: 0.1384 - val_accuracy: 1.0000\n",
            "Epoch 18/10000\n",
            "3/3 [==============================] - 0s 34ms/step - loss: 0.1021 - accuracy: 0.9583 - val_loss: 0.1392 - val_accuracy: 1.0000\n",
            "Epoch 19/10000\n",
            "3/3 [==============================] - 0s 32ms/step - loss: 0.1020 - accuracy: 0.9583 - val_loss: 0.1395 - val_accuracy: 1.0000\n",
            "Epoch 20/10000\n",
            "3/3 [==============================] - 0s 36ms/step - loss: 0.1031 - accuracy: 0.9375 - val_loss: 0.1381 - val_accuracy: 1.0000\n",
            "Epoch 21/10000\n",
            "3/3 [==============================] - 0s 32ms/step - loss: 0.1022 - accuracy: 0.9583 - val_loss: 0.1382 - val_accuracy: 1.0000\n",
            "Epoch 22/10000\n",
            "3/3 [==============================] - 0s 34ms/step - loss: 0.1015 - accuracy: 0.9479 - val_loss: 0.1381 - val_accuracy: 1.0000\n",
            "Epoch 23/10000\n",
            "3/3 [==============================] - 0s 28ms/step - loss: 0.1022 - accuracy: 0.9375 - val_loss: 0.1364 - val_accuracy: 1.0000\n",
            "Epoch 24/10000\n",
            "3/3 [==============================] - 0s 31ms/step - loss: 0.1016 - accuracy: 0.9583 - val_loss: 0.1372 - val_accuracy: 1.0000\n",
            "Epoch 25/10000\n",
            "3/3 [==============================] - 0s 31ms/step - loss: 0.1012 - accuracy: 0.9583 - val_loss: 0.1378 - val_accuracy: 1.0000\n",
            "Epoch 26/10000\n",
            "3/3 [==============================] - 0s 31ms/step - loss: 0.1010 - accuracy: 0.9479 - val_loss: 0.1377 - val_accuracy: 1.0000\n",
            "Epoch 27/10000\n",
            "3/3 [==============================] - 0s 31ms/step - loss: 0.1015 - accuracy: 0.9375 - val_loss: 0.1356 - val_accuracy: 1.0000\n",
            "Epoch 28/10000\n",
            "3/3 [==============================] - 0s 31ms/step - loss: 0.1007 - accuracy: 0.9583 - val_loss: 0.1365 - val_accuracy: 1.0000\n",
            "Epoch 29/10000\n",
            "3/3 [==============================] - 0s 27ms/step - loss: 0.1005 - accuracy: 0.9479 - val_loss: 0.1356 - val_accuracy: 1.0000\n",
            "Epoch 30/10000\n",
            "3/3 [==============================] - 0s 31ms/step - loss: 0.1009 - accuracy: 0.9583 - val_loss: 0.1342 - val_accuracy: 1.0000\n",
            "Epoch 31/10000\n",
            "3/3 [==============================] - 0s 24ms/step - loss: 0.1002 - accuracy: 0.9583 - val_loss: 0.1345 - val_accuracy: 1.0000\n",
            "Epoch 32/10000\n",
            "3/3 [==============================] - 0s 25ms/step - loss: 0.1003 - accuracy: 0.9583 - val_loss: 0.1352 - val_accuracy: 1.0000\n",
            "Epoch 33/10000\n",
            "3/3 [==============================] - 0s 25ms/step - loss: 0.1010 - accuracy: 0.9479 - val_loss: 0.1349 - val_accuracy: 1.0000\n",
            "Epoch 34/10000\n",
            "3/3 [==============================] - 0s 25ms/step - loss: 0.1004 - accuracy: 0.9479 - val_loss: 0.1348 - val_accuracy: 1.0000\n",
            "Epoch 35/10000\n",
            "3/3 [==============================] - 0s 31ms/step - loss: 0.1006 - accuracy: 0.9479 - val_loss: 0.1343 - val_accuracy: 1.0000\n",
            "Epoch 36/10000\n",
            "3/3 [==============================] - 0s 31ms/step - loss: 0.1002 - accuracy: 0.9583 - val_loss: 0.1349 - val_accuracy: 1.0000\n",
            "Epoch 37/10000\n",
            "3/3 [==============================] - 0s 37ms/step - loss: 0.0997 - accuracy: 0.9583 - val_loss: 0.1355 - val_accuracy: 1.0000\n",
            "Epoch 38/10000\n",
            "3/3 [==============================] - 0s 33ms/step - loss: 0.1006 - accuracy: 0.9375 - val_loss: 0.1336 - val_accuracy: 1.0000\n",
            "Epoch 39/10000\n",
            "3/3 [==============================] - 0s 30ms/step - loss: 0.0993 - accuracy: 0.9479 - val_loss: 0.1329 - val_accuracy: 1.0000\n",
            "Epoch 40/10000\n",
            "3/3 [==============================] - 0s 27ms/step - loss: 0.0997 - accuracy: 0.9479 - val_loss: 0.1327 - val_accuracy: 1.0000\n",
            "Epoch 41/10000\n",
            "3/3 [==============================] - 0s 24ms/step - loss: 0.0992 - accuracy: 0.9583 - val_loss: 0.1327 - val_accuracy: 1.0000\n",
            "Epoch 42/10000\n",
            "3/3 [==============================] - 0s 32ms/step - loss: 0.0991 - accuracy: 0.9583 - val_loss: 0.1338 - val_accuracy: 1.0000\n",
            "Epoch 43/10000\n",
            "3/3 [==============================] - 0s 33ms/step - loss: 0.0988 - accuracy: 0.9583 - val_loss: 0.1342 - val_accuracy: 1.0000\n",
            "Epoch 44/10000\n",
            "3/3 [==============================] - 0s 34ms/step - loss: 0.0990 - accuracy: 0.9479 - val_loss: 0.1339 - val_accuracy: 1.0000\n",
            "Epoch 45/10000\n",
            "3/3 [==============================] - 0s 27ms/step - loss: 0.0986 - accuracy: 0.9583 - val_loss: 0.1332 - val_accuracy: 1.0000\n",
            "Epoch 46/10000\n",
            "3/3 [==============================] - 0s 17ms/step - loss: 0.0989 - accuracy: 0.9479 - val_loss: 0.1345 - val_accuracy: 1.0000\n",
            "Epoch 47/10000\n",
            "3/3 [==============================] - 0s 17ms/step - loss: 0.0988 - accuracy: 0.9479 - val_loss: 0.1309 - val_accuracy: 1.0000\n",
            "Epoch 48/10000\n",
            "3/3 [==============================] - 0s 25ms/step - loss: 0.0984 - accuracy: 0.9479 - val_loss: 0.1306 - val_accuracy: 1.0000\n",
            "Epoch 49/10000\n",
            "3/3 [==============================] - 0s 17ms/step - loss: 0.1004 - accuracy: 0.9583 - val_loss: 0.1306 - val_accuracy: 1.0000\n",
            "Epoch 50/10000\n",
            "3/3 [==============================] - 0s 19ms/step - loss: 0.1005 - accuracy: 0.9583 - val_loss: 0.1314 - val_accuracy: 1.0000\n",
            "Epoch 51/10000\n",
            "3/3 [==============================] - 0s 18ms/step - loss: 0.0979 - accuracy: 0.9479 - val_loss: 0.1313 - val_accuracy: 1.0000\n",
            "Epoch 52/10000\n",
            "3/3 [==============================] - 0s 27ms/step - loss: 0.0977 - accuracy: 0.9583 - val_loss: 0.1312 - val_accuracy: 1.0000\n",
            "Epoch 53/10000\n",
            "3/3 [==============================] - 0s 17ms/step - loss: 0.0976 - accuracy: 0.9583 - val_loss: 0.1311 - val_accuracy: 1.0000\n",
            "Epoch 54/10000\n",
            "3/3 [==============================] - 0s 17ms/step - loss: 0.0981 - accuracy: 0.9479 - val_loss: 0.1320 - val_accuracy: 1.0000\n",
            "Epoch 55/10000\n",
            "3/3 [==============================] - 0s 17ms/step - loss: 0.0974 - accuracy: 0.9479 - val_loss: 0.1310 - val_accuracy: 1.0000\n",
            "Epoch 56/10000\n",
            "3/3 [==============================] - 0s 18ms/step - loss: 0.0984 - accuracy: 0.9479 - val_loss: 0.1319 - val_accuracy: 1.0000\n",
            "Epoch 57/10000\n",
            "3/3 [==============================] - 0s 26ms/step - loss: 0.0977 - accuracy: 0.9479 - val_loss: 0.1311 - val_accuracy: 1.0000\n",
            "Epoch 58/10000\n",
            "3/3 [==============================] - 0s 18ms/step - loss: 0.0979 - accuracy: 0.9479 - val_loss: 0.1292 - val_accuracy: 1.0000\n",
            "Epoch 59/10000\n",
            "3/3 [==============================] - 0s 18ms/step - loss: 0.0983 - accuracy: 0.9583 - val_loss: 0.1305 - val_accuracy: 1.0000\n",
            "Epoch 60/10000\n",
            "3/3 [==============================] - 0s 18ms/step - loss: 0.0975 - accuracy: 0.9479 - val_loss: 0.1297 - val_accuracy: 1.0000\n",
            "Epoch 61/10000\n",
            "3/3 [==============================] - 0s 29ms/step - loss: 0.0977 - accuracy: 0.9479 - val_loss: 0.1290 - val_accuracy: 1.0000\n",
            "Epoch 62/10000\n",
            "3/3 [==============================] - 0s 26ms/step - loss: 0.0980 - accuracy: 0.9583 - val_loss: 0.1287 - val_accuracy: 1.0000\n",
            "Epoch 63/10000\n",
            "3/3 [==============================] - 0s 18ms/step - loss: 0.0986 - accuracy: 0.9583 - val_loss: 0.1287 - val_accuracy: 1.0000\n",
            "Epoch 64/10000\n",
            "3/3 [==============================] - 0s 18ms/step - loss: 0.0967 - accuracy: 0.9583 - val_loss: 0.1292 - val_accuracy: 1.0000\n",
            "Epoch 65/10000\n",
            "3/3 [==============================] - 0s 17ms/step - loss: 0.0969 - accuracy: 0.9583 - val_loss: 0.1287 - val_accuracy: 1.0000\n",
            "Epoch 66/10000\n",
            "3/3 [==============================] - 0s 17ms/step - loss: 0.0975 - accuracy: 0.9583 - val_loss: 0.1296 - val_accuracy: 1.0000\n",
            "Epoch 67/10000\n",
            "3/3 [==============================] - 0s 17ms/step - loss: 0.0978 - accuracy: 0.9479 - val_loss: 0.1281 - val_accuracy: 1.0000\n",
            "Epoch 68/10000\n",
            "3/3 [==============================] - 0s 17ms/step - loss: 0.0969 - accuracy: 0.9583 - val_loss: 0.1281 - val_accuracy: 1.0000\n",
            "Epoch 69/10000\n",
            "3/3 [==============================] - 0s 17ms/step - loss: 0.0966 - accuracy: 0.9479 - val_loss: 0.1273 - val_accuracy: 1.0000\n",
            "Epoch 70/10000\n",
            "3/3 [==============================] - 0s 17ms/step - loss: 0.0969 - accuracy: 0.9583 - val_loss: 0.1272 - val_accuracy: 1.0000\n",
            "Epoch 71/10000\n",
            "3/3 [==============================] - 0s 17ms/step - loss: 0.0961 - accuracy: 0.9583 - val_loss: 0.1275 - val_accuracy: 1.0000\n",
            "Epoch 72/10000\n",
            "3/3 [==============================] - 0s 29ms/step - loss: 0.0975 - accuracy: 0.9479 - val_loss: 0.1274 - val_accuracy: 1.0000\n",
            "Epoch 73/10000\n",
            "3/3 [==============================] - 0s 18ms/step - loss: 0.0961 - accuracy: 0.9479 - val_loss: 0.1269 - val_accuracy: 1.0000\n",
            "Epoch 74/10000\n",
            "3/3 [==============================] - 0s 17ms/step - loss: 0.0959 - accuracy: 0.9583 - val_loss: 0.1277 - val_accuracy: 1.0000\n",
            "Epoch 75/10000\n",
            "3/3 [==============================] - 0s 18ms/step - loss: 0.0968 - accuracy: 0.9583 - val_loss: 0.1283 - val_accuracy: 1.0000\n",
            "Epoch 76/10000\n",
            "3/3 [==============================] - 0s 17ms/step - loss: 0.0984 - accuracy: 0.9375 - val_loss: 0.1280 - val_accuracy: 1.0000\n",
            "Epoch 77/10000\n",
            "3/3 [==============================] - 0s 17ms/step - loss: 0.0965 - accuracy: 0.9479 - val_loss: 0.1274 - val_accuracy: 1.0000\n",
            "Epoch 78/10000\n",
            "3/3 [==============================] - 0s 17ms/step - loss: 0.0956 - accuracy: 0.9583 - val_loss: 0.1272 - val_accuracy: 1.0000\n",
            "Epoch 79/10000\n",
            "3/3 [==============================] - 0s 17ms/step - loss: 0.0962 - accuracy: 0.9583 - val_loss: 0.1274 - val_accuracy: 1.0000\n",
            "Epoch 80/10000\n",
            "3/3 [==============================] - 0s 26ms/step - loss: 0.0965 - accuracy: 0.9583 - val_loss: 0.1265 - val_accuracy: 1.0000\n",
            "Epoch 81/10000\n",
            "3/3 [==============================] - 0s 18ms/step - loss: 0.0953 - accuracy: 0.9583 - val_loss: 0.1267 - val_accuracy: 1.0000\n",
            "Epoch 82/10000\n",
            "3/3 [==============================] - 0s 17ms/step - loss: 0.0953 - accuracy: 0.9479 - val_loss: 0.1262 - val_accuracy: 1.0000\n",
            "Epoch 83/10000\n",
            "3/3 [==============================] - 0s 17ms/step - loss: 0.0955 - accuracy: 0.9583 - val_loss: 0.1273 - val_accuracy: 1.0000\n",
            "Epoch 84/10000\n",
            "3/3 [==============================] - 0s 18ms/step - loss: 0.0963 - accuracy: 0.9375 - val_loss: 0.1256 - val_accuracy: 1.0000\n",
            "Epoch 85/10000\n",
            "3/3 [==============================] - 0s 17ms/step - loss: 0.0964 - accuracy: 0.9583 - val_loss: 0.1256 - val_accuracy: 1.0000\n",
            "Epoch 86/10000\n",
            "3/3 [==============================] - 0s 16ms/step - loss: 0.0951 - accuracy: 0.9583 - val_loss: 0.1258 - val_accuracy: 1.0000\n",
            "Epoch 87/10000\n",
            "3/3 [==============================] - 0s 17ms/step - loss: 0.0961 - accuracy: 0.9479 - val_loss: 0.1246 - val_accuracy: 1.0000\n",
            "Epoch 88/10000\n",
            "3/3 [==============================] - 0s 26ms/step - loss: 0.0947 - accuracy: 0.9583 - val_loss: 0.1250 - val_accuracy: 1.0000\n",
            "Epoch 89/10000\n",
            "3/3 [==============================] - 0s 18ms/step - loss: 0.0964 - accuracy: 0.9479 - val_loss: 0.1244 - val_accuracy: 1.0000\n",
            "Epoch 90/10000\n",
            "3/3 [==============================] - 0s 18ms/step - loss: 0.0953 - accuracy: 0.9479 - val_loss: 0.1237 - val_accuracy: 1.0000\n",
            "Epoch 91/10000\n",
            "3/3 [==============================] - 0s 18ms/step - loss: 0.0945 - accuracy: 0.9583 - val_loss: 0.1238 - val_accuracy: 1.0000\n",
            "Epoch 92/10000\n",
            "3/3 [==============================] - 0s 20ms/step - loss: 0.0947 - accuracy: 0.9583 - val_loss: 0.1236 - val_accuracy: 1.0000\n",
            "Epoch 93/10000\n",
            "3/3 [==============================] - 0s 17ms/step - loss: 0.0946 - accuracy: 0.9583 - val_loss: 0.1249 - val_accuracy: 1.0000\n",
            "Epoch 94/10000\n",
            "3/3 [==============================] - 0s 19ms/step - loss: 0.0942 - accuracy: 0.9583 - val_loss: 0.1250 - val_accuracy: 1.0000\n",
            "Epoch 95/10000\n",
            "3/3 [==============================] - 0s 31ms/step - loss: 0.0949 - accuracy: 0.9583 - val_loss: 0.1252 - val_accuracy: 1.0000\n",
            "Epoch 96/10000\n",
            "3/3 [==============================] - 0s 19ms/step - loss: 0.0957 - accuracy: 0.9479 - val_loss: 0.1234 - val_accuracy: 1.0000\n",
            "Epoch 97/10000\n",
            "3/3 [==============================] - 0s 18ms/step - loss: 0.0948 - accuracy: 0.9583 - val_loss: 0.1247 - val_accuracy: 1.0000\n",
            "Epoch 98/10000\n",
            "3/3 [==============================] - 0s 18ms/step - loss: 0.0940 - accuracy: 0.9583 - val_loss: 0.1239 - val_accuracy: 1.0000\n",
            "Epoch 99/10000\n",
            "3/3 [==============================] - 0s 18ms/step - loss: 0.0961 - accuracy: 0.9479 - val_loss: 0.1242 - val_accuracy: 1.0000\n",
            "Epoch 100/10000\n",
            "3/3 [==============================] - 0s 18ms/step - loss: 0.0944 - accuracy: 0.9583 - val_loss: 0.1242 - val_accuracy: 1.0000\n",
            "Epoch 101/10000\n",
            "3/3 [==============================] - 0s 17ms/step - loss: 0.0938 - accuracy: 0.9479 - val_loss: 0.1232 - val_accuracy: 1.0000\n",
            "Epoch 102/10000\n",
            "3/3 [==============================] - 0s 18ms/step - loss: 0.0938 - accuracy: 0.9583 - val_loss: 0.1228 - val_accuracy: 1.0000\n",
            "Epoch 103/10000\n",
            "3/3 [==============================] - 0s 17ms/step - loss: 0.0939 - accuracy: 0.9583 - val_loss: 0.1231 - val_accuracy: 1.0000\n",
            "Epoch 104/10000\n",
            "3/3 [==============================] - 0s 17ms/step - loss: 0.0948 - accuracy: 0.9583 - val_loss: 0.1225 - val_accuracy: 1.0000\n",
            "Epoch 105/10000\n",
            "3/3 [==============================] - 0s 17ms/step - loss: 0.0960 - accuracy: 0.9583 - val_loss: 0.1220 - val_accuracy: 1.0000\n",
            "Epoch 106/10000\n",
            "3/3 [==============================] - 0s 17ms/step - loss: 0.0947 - accuracy: 0.9479 - val_loss: 0.1215 - val_accuracy: 1.0000\n",
            "Epoch 107/10000\n",
            "3/3 [==============================] - 0s 17ms/step - loss: 0.0932 - accuracy: 0.9583 - val_loss: 0.1217 - val_accuracy: 1.0000\n",
            "Epoch 108/10000\n",
            "3/3 [==============================] - 0s 17ms/step - loss: 0.0942 - accuracy: 0.9479 - val_loss: 0.1214 - val_accuracy: 1.0000\n",
            "Epoch 109/10000\n",
            "3/3 [==============================] - 0s 20ms/step - loss: 0.0938 - accuracy: 0.9583 - val_loss: 0.1220 - val_accuracy: 1.0000\n",
            "Epoch 110/10000\n",
            "3/3 [==============================] - 0s 17ms/step - loss: 0.0933 - accuracy: 0.9583 - val_loss: 0.1225 - val_accuracy: 1.0000\n",
            "Epoch 111/10000\n",
            "3/3 [==============================] - 0s 17ms/step - loss: 0.0933 - accuracy: 0.9583 - val_loss: 0.1216 - val_accuracy: 1.0000\n",
            "Epoch 112/10000\n",
            "3/3 [==============================] - 0s 27ms/step - loss: 0.0935 - accuracy: 0.9583 - val_loss: 0.1224 - val_accuracy: 1.0000\n",
            "Epoch 113/10000\n",
            "3/3 [==============================] - 0s 19ms/step - loss: 0.0934 - accuracy: 0.9479 - val_loss: 0.1213 - val_accuracy: 1.0000\n",
            "Epoch 114/10000\n",
            "3/3 [==============================] - 0s 18ms/step - loss: 0.0932 - accuracy: 0.9583 - val_loss: 0.1207 - val_accuracy: 1.0000\n",
            "Epoch 115/10000\n",
            "3/3 [==============================] - 0s 18ms/step - loss: 0.0927 - accuracy: 0.9583 - val_loss: 0.1208 - val_accuracy: 1.0000\n",
            "Epoch 116/10000\n",
            "3/3 [==============================] - 0s 26ms/step - loss: 0.0926 - accuracy: 0.9583 - val_loss: 0.1215 - val_accuracy: 1.0000\n",
            "Epoch 117/10000\n",
            "3/3 [==============================] - 0s 18ms/step - loss: 0.0926 - accuracy: 0.9583 - val_loss: 0.1218 - val_accuracy: 1.0000\n",
            "Epoch 118/10000\n",
            "3/3 [==============================] - 0s 27ms/step - loss: 0.0931 - accuracy: 0.9583 - val_loss: 0.1197 - val_accuracy: 1.0000\n",
            "Epoch 119/10000\n",
            "3/3 [==============================] - 0s 19ms/step - loss: 0.0928 - accuracy: 0.9479 - val_loss: 0.1188 - val_accuracy: 1.0000\n",
            "Epoch 120/10000\n",
            "3/3 [==============================] - 0s 17ms/step - loss: 0.0934 - accuracy: 0.9583 - val_loss: 0.1204 - val_accuracy: 1.0000\n",
            "Epoch 121/10000\n",
            "3/3 [==============================] - 0s 17ms/step - loss: 0.0944 - accuracy: 0.9583 - val_loss: 0.1212 - val_accuracy: 1.0000\n",
            "Epoch 122/10000\n",
            "3/3 [==============================] - 0s 16ms/step - loss: 0.0925 - accuracy: 0.9583 - val_loss: 0.1217 - val_accuracy: 1.0000\n",
            "Epoch 123/10000\n",
            "3/3 [==============================] - 0s 16ms/step - loss: 0.0948 - accuracy: 0.9583 - val_loss: 0.1213 - val_accuracy: 1.0000\n",
            "Epoch 124/10000\n",
            "3/3 [==============================] - 0s 17ms/step - loss: 0.0921 - accuracy: 0.9583 - val_loss: 0.1212 - val_accuracy: 1.0000\n",
            "Epoch 125/10000\n",
            "3/3 [==============================] - 0s 17ms/step - loss: 0.0934 - accuracy: 0.9479 - val_loss: 0.1206 - val_accuracy: 1.0000\n",
            "Epoch 126/10000\n",
            "3/3 [==============================] - 0s 21ms/step - loss: 0.0923 - accuracy: 0.9583 - val_loss: 0.1201 - val_accuracy: 1.0000\n",
            "Epoch 127/10000\n",
            "3/3 [==============================] - 0s 17ms/step - loss: 0.0920 - accuracy: 0.9583 - val_loss: 0.1206 - val_accuracy: 1.0000\n",
            "Epoch 128/10000\n",
            "3/3 [==============================] - 0s 17ms/step - loss: 0.0917 - accuracy: 0.9583 - val_loss: 0.1203 - val_accuracy: 1.0000\n",
            "Epoch 129/10000\n",
            "3/3 [==============================] - 0s 17ms/step - loss: 0.0923 - accuracy: 0.9583 - val_loss: 0.1202 - val_accuracy: 1.0000\n"
          ]
        },
        {
          "output_type": "execute_result",
          "data": {
            "text/plain": [
              "<keras.callbacks.History at 0x7fe0d004f7c0>"
            ]
          },
          "metadata": {},
          "execution_count": 24
        }
      ]
    },
    {
      "cell_type": "markdown",
      "source": [
        "## 테스트 데이터로 모델 평가하기"
      ],
      "metadata": {
        "id": "Ohl_U7ohPVzO"
      }
    },
    {
      "cell_type": "code",
      "source": [
        "# TODO: 테스트 데이터와 정답으로 모델을 평가합니다.\n",
        "# Hint: https://keras.io/api/models/model_training_apis/#evaluate-method\n",
        "model.evaluate(test_X, test_y)"
      ],
      "metadata": {
        "id": "XR6xBHGVPU8U",
        "colab": {
          "base_uri": "https://localhost:8080/"
        },
        "outputId": "8f6ad2f4-0fe8-4c5b-a05a-354a17a27d26"
      },
      "execution_count": 26,
      "outputs": [
        {
          "output_type": "stream",
          "name": "stdout",
          "text": [
            "1/1 [==============================] - 0s 25ms/step - loss: 0.1022 - accuracy: 0.9667\n"
          ]
        },
        {
          "output_type": "execute_result",
          "data": {
            "text/plain": [
              "[0.10223186761140823, 0.9666666388511658]"
            ]
          },
          "metadata": {},
          "execution_count": 26
        }
      ]
    },
    {
      "cell_type": "markdown",
      "source": [
        "## 새로운 모델 만들어보기\n",
        "테스트 데이터에서 96% 미만의 정확도가 나온 경우 모델 만들기부터 모든 것을 자유롭게 다시 수행하세요."
      ],
      "metadata": {
        "id": "u4pa7rpzPoT5"
      }
    }
  ]
}