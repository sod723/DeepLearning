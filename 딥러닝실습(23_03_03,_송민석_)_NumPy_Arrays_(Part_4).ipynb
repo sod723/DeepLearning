{
  "nbformat": 4,
  "nbformat_minor": 0,
  "metadata": {
    "colab": {
      "provenance": []
    },
    "kernelspec": {
      "name": "python3",
      "display_name": "Python 3"
    },
    "language_info": {
      "name": "python"
    }
  },
  "cells": [
    {
      "cell_type": "markdown",
      "source": [
        "# NumPy Arrays - Part 4<br>\n",
        "\n",
        "by uramoon@kw.ac.kr<br>\n",
        "원본 출처: Introduction to Deep Learning at Carnegie Mellon University (https://deeplearning.cs.cmu.edu/S22/index.html)"
      ],
      "metadata": {
        "id": "MdE1jk2Ek8s5"
      }
    },
    {
      "cell_type": "code",
      "execution_count": 1,
      "metadata": {
        "id": "JsBJNZ7-k6Fn"
      },
      "outputs": [],
      "source": [
        "# Import the NumPy \n",
        "import numpy as np"
      ]
    },
    {
      "cell_type": "markdown",
      "source": [
        "## Reshaping Arrays (배열의 모양을 다르게 해석하기)<br>\n",
        "\n",
        "Array reshaping은 배열안의 데이터는 그대로 두고 모양을 바꿔 해석을 다르게 하는 것입니다.\n",
        "\n",
        "예를 들어 (4,) 모양의 1차원 배열 [1, 2, 3, 4]는 (4, 1) 모양의 2차원 배열 [[1], [2], [3], [4]], <br> 또는 (2, 2) 모양의 2차원 배열 [[1, 2], [3, 4]] 및 (1, 4) 모양의 2차원 배열 [[1, 2, 3, 4]]로 형태를 바꿔 해석할 수도 있습니다."
      ],
      "metadata": {
        "id": "5o4Of13sk_vc"
      }
    },
    {
      "cell_type": "markdown",
      "source": [
        "### 동일 차원으로 reshaping"
      ],
      "metadata": {
        "id": "O4a8i5qLlwgq"
      }
    },
    {
      "cell_type": "code",
      "source": [
        "s = np.random.rand(3, 4, 5)\n",
        "print(f\"원래 모양: {s.shape}\")"
      ],
      "metadata": {
        "id": "KMz5d2gOl0Eb",
        "outputId": "750a91dd-49cd-40ac-b5b4-cf7eda114da1",
        "colab": {
          "base_uri": "https://localhost:8080/"
        }
      },
      "execution_count": 2,
      "outputs": [
        {
          "output_type": "stream",
          "name": "stdout",
          "text": [
            "원래 모양: (3, 4, 5)\n"
          ]
        }
      ]
    },
    {
      "cell_type": "code",
      "source": [],
      "metadata": {
        "id": "hMcD0Pq5T0yc"
      },
      "execution_count": null,
      "outputs": []
    },
    {
      "cell_type": "markdown",
      "source": [
        "***TODO: s의 전체 원소 개수 구하기***\n",
        "* Q: 어떻게 계산할 수 있을까요?\n",
        "* A: (3 * 4 * 5= 60)"
      ],
      "metadata": {
        "id": "s1mp1lJDoaeK"
      }
    },
    {
      "cell_type": "code",
      "source": [
        "s.size"
      ],
      "metadata": {
        "id": "11CYWGKMl3RM",
        "outputId": "3e1621a1-f603-4577-d2ba-e75d4eca9a6b",
        "colab": {
          "base_uri": "https://localhost:8080/"
        }
      },
      "execution_count": 3,
      "outputs": [
        {
          "output_type": "execute_result",
          "data": {
            "text/plain": [
              "60"
            ]
          },
          "metadata": {},
          "execution_count": 3
        }
      ]
    },
    {
      "cell_type": "code",
      "source": [
        "# s 내용 확인하기\n",
        "print(s)"
      ],
      "metadata": {
        "id": "dICkdQ4Bl55_",
        "outputId": "75a977cb-0b3d-4f92-bace-3fc8ab0fda32",
        "colab": {
          "base_uri": "https://localhost:8080/"
        }
      },
      "execution_count": 4,
      "outputs": [
        {
          "output_type": "stream",
          "name": "stdout",
          "text": [
            "[[[0.65392478 0.21712082 0.73588349 0.86088565 0.11052408]\n",
            "  [0.50936276 0.69658208 0.91920565 0.48327638 0.6130248 ]\n",
            "  [0.28110062 0.16777829 0.06903175 0.58300481 0.06758554]\n",
            "  [0.17259058 0.83022629 0.87411216 0.75884227 0.2784306 ]]\n",
            "\n",
            " [[0.83531438 0.45353227 0.14845481 0.12499071 0.69739524]\n",
            "  [0.81110422 0.9984923  0.09830826 0.81730964 0.56906697]\n",
            "  [0.3043856  0.50831238 0.58767243 0.64916253 0.4618935 ]\n",
            "  [0.75723091 0.51807737 0.38306646 0.52943058 0.22265236]]\n",
            "\n",
            " [[0.94717995 0.63406934 0.73680865 0.7897106  0.29339432]\n",
            "  [0.74333256 0.95294144 0.99249195 0.76572217 0.85861329]\n",
            "  [0.4380713  0.68700809 0.75733375 0.93577598 0.92624861]\n",
            "  [0.71829943 0.1934346  0.6841501  0.37107827 0.67447842]]]\n"
          ]
        }
      ]
    },
    {
      "cell_type": "code",
      "source": [
        "# TODO: s를 (2, 6, 5)로 reshape하여 s1에 저장하기\n",
        "s1 = s.reshape(2, 6, 5)\n",
        "print(f\"s1의 모양: {s1.shape}\")"
      ],
      "metadata": {
        "id": "rEp81Dn3l9uP",
        "outputId": "f06cffdc-9978-448c-bdb9-27a9f583cea7",
        "colab": {
          "base_uri": "https://localhost:8080/"
        }
      },
      "execution_count": 5,
      "outputs": [
        {
          "output_type": "stream",
          "name": "stdout",
          "text": [
            "s1의 모양: (2, 6, 5)\n"
          ]
        }
      ]
    },
    {
      "cell_type": "code",
      "source": [
        "# s와 s1의 각 원소값과 위치는 동일한 것을 확인해보세요.\n",
        "print(s1)"
      ],
      "metadata": {
        "id": "XUAejbTjmCkQ",
        "outputId": "e5b0de4a-1ed1-40da-e4b7-bf55d354ffd0",
        "colab": {
          "base_uri": "https://localhost:8080/"
        }
      },
      "execution_count": 6,
      "outputs": [
        {
          "output_type": "stream",
          "name": "stdout",
          "text": [
            "[[[0.65392478 0.21712082 0.73588349 0.86088565 0.11052408]\n",
            "  [0.50936276 0.69658208 0.91920565 0.48327638 0.6130248 ]\n",
            "  [0.28110062 0.16777829 0.06903175 0.58300481 0.06758554]\n",
            "  [0.17259058 0.83022629 0.87411216 0.75884227 0.2784306 ]\n",
            "  [0.83531438 0.45353227 0.14845481 0.12499071 0.69739524]\n",
            "  [0.81110422 0.9984923  0.09830826 0.81730964 0.56906697]]\n",
            "\n",
            " [[0.3043856  0.50831238 0.58767243 0.64916253 0.4618935 ]\n",
            "  [0.75723091 0.51807737 0.38306646 0.52943058 0.22265236]\n",
            "  [0.94717995 0.63406934 0.73680865 0.7897106  0.29339432]\n",
            "  [0.74333256 0.95294144 0.99249195 0.76572217 0.85861329]\n",
            "  [0.4380713  0.68700809 0.75733375 0.93577598 0.92624861]\n",
            "  [0.71829943 0.1934346  0.6841501  0.37107827 0.67447842]]]\n"
          ]
        }
      ]
    },
    {
      "cell_type": "markdown",
      "source": [
        "### 다른 차원으로 reshaping"
      ],
      "metadata": {
        "id": "2h9NzVWqmFIJ"
      }
    },
    {
      "cell_type": "code",
      "source": [
        "# TODO: 0부터 119까지 120개의 정수로 이루어진 1차원 배열을 간단하게 만들어보세요.\n",
        "r = np.arange(120)"
      ],
      "metadata": {
        "id": "kd7rm9F8mHjg"
      },
      "execution_count": 10,
      "outputs": []
    },
    {
      "cell_type": "code",
      "source": [
        "print(f\"원래 모양: {r.shape}\")"
      ],
      "metadata": {
        "id": "JxsZO9FlmJab",
        "outputId": "0b44c2b7-d53d-45fb-9b5a-36d4ea892054",
        "colab": {
          "base_uri": "https://localhost:8080/"
        }
      },
      "execution_count": 11,
      "outputs": [
        {
          "output_type": "stream",
          "name": "stdout",
          "text": [
            "원래 모양: (120,)\n"
          ]
        }
      ]
    },
    {
      "cell_type": "code",
      "source": [
        "# TODO: (120,) -> (3, 4, 10)\n",
        "# 원소개수는 120개로 동일합니다.\n",
        "r1 = r.reshape(3,4,10)\n",
        "print(f\"r1의 모양: {r1.shape}\")"
      ],
      "metadata": {
        "id": "yXX5yQiSmPLi",
        "outputId": "972791dd-3ab4-4751-bcd1-a26a7baef84e",
        "colab": {
          "base_uri": "https://localhost:8080/"
        }
      },
      "execution_count": 13,
      "outputs": [
        {
          "output_type": "stream",
          "name": "stdout",
          "text": [
            "r1의 모양: (3, 4, 10)\n"
          ]
        }
      ]
    },
    {
      "cell_type": "code",
      "source": [
        "# r과 r1을 비교해보세요.\n",
        "print(r)\n",
        "print(r1)"
      ],
      "metadata": {
        "id": "qTEazsfjmWBW",
        "outputId": "b0a81bd6-a204-4212-d497-3665b0aaa691",
        "colab": {
          "base_uri": "https://localhost:8080/"
        }
      },
      "execution_count": 14,
      "outputs": [
        {
          "output_type": "stream",
          "name": "stdout",
          "text": [
            "[  0   1   2   3   4   5   6   7   8   9  10  11  12  13  14  15  16  17\n",
            "  18  19  20  21  22  23  24  25  26  27  28  29  30  31  32  33  34  35\n",
            "  36  37  38  39  40  41  42  43  44  45  46  47  48  49  50  51  52  53\n",
            "  54  55  56  57  58  59  60  61  62  63  64  65  66  67  68  69  70  71\n",
            "  72  73  74  75  76  77  78  79  80  81  82  83  84  85  86  87  88  89\n",
            "  90  91  92  93  94  95  96  97  98  99 100 101 102 103 104 105 106 107\n",
            " 108 109 110 111 112 113 114 115 116 117 118 119]\n",
            "[[[  0   1   2   3   4   5   6   7   8   9]\n",
            "  [ 10  11  12  13  14  15  16  17  18  19]\n",
            "  [ 20  21  22  23  24  25  26  27  28  29]\n",
            "  [ 30  31  32  33  34  35  36  37  38  39]]\n",
            "\n",
            " [[ 40  41  42  43  44  45  46  47  48  49]\n",
            "  [ 50  51  52  53  54  55  56  57  58  59]\n",
            "  [ 60  61  62  63  64  65  66  67  68  69]\n",
            "  [ 70  71  72  73  74  75  76  77  78  79]]\n",
            "\n",
            " [[ 80  81  82  83  84  85  86  87  88  89]\n",
            "  [ 90  91  92  93  94  95  96  97  98  99]\n",
            "  [100 101 102 103 104 105 106 107 108 109]\n",
            "  [110 111 112 113 114 115 116 117 118 119]]]\n"
          ]
        }
      ]
    },
    {
      "cell_type": "code",
      "source": [
        "# TODO: r1을 reshape하여 r2에 저장하세요.\n",
        "# (3, 4, 10) -> (6, 20)\n",
        "r2 = r1.reshape(6,20)\n",
        "print(f\"r2의 모양: {r2.shape}\")"
      ],
      "metadata": {
        "id": "uGUy-vPkmZOU",
        "outputId": "ac23d834-bdb4-41ae-f660-da98ec176069",
        "colab": {
          "base_uri": "https://localhost:8080/"
        }
      },
      "execution_count": 15,
      "outputs": [
        {
          "output_type": "stream",
          "name": "stdout",
          "text": [
            "r2의 모양: (6, 20)\n"
          ]
        }
      ]
    },
    {
      "cell_type": "code",
      "source": [
        "# r2와 r1, r을 비교해보세요.\n",
        "print(r1)\n",
        "print(r2)"
      ],
      "metadata": {
        "id": "U21IEB5Vmb--",
        "outputId": "1ee549d7-b334-47e9-c69e-f19d12573a9a",
        "colab": {
          "base_uri": "https://localhost:8080/"
        }
      },
      "execution_count": 16,
      "outputs": [
        {
          "output_type": "stream",
          "name": "stdout",
          "text": [
            "[[[  0   1   2   3   4   5   6   7   8   9]\n",
            "  [ 10  11  12  13  14  15  16  17  18  19]\n",
            "  [ 20  21  22  23  24  25  26  27  28  29]\n",
            "  [ 30  31  32  33  34  35  36  37  38  39]]\n",
            "\n",
            " [[ 40  41  42  43  44  45  46  47  48  49]\n",
            "  [ 50  51  52  53  54  55  56  57  58  59]\n",
            "  [ 60  61  62  63  64  65  66  67  68  69]\n",
            "  [ 70  71  72  73  74  75  76  77  78  79]]\n",
            "\n",
            " [[ 80  81  82  83  84  85  86  87  88  89]\n",
            "  [ 90  91  92  93  94  95  96  97  98  99]\n",
            "  [100 101 102 103 104 105 106 107 108 109]\n",
            "  [110 111 112 113 114 115 116 117 118 119]]]\n",
            "[[  0   1   2   3   4   5   6   7   8   9  10  11  12  13  14  15  16  17\n",
            "   18  19]\n",
            " [ 20  21  22  23  24  25  26  27  28  29  30  31  32  33  34  35  36  37\n",
            "   38  39]\n",
            " [ 40  41  42  43  44  45  46  47  48  49  50  51  52  53  54  55  56  57\n",
            "   58  59]\n",
            " [ 60  61  62  63  64  65  66  67  68  69  70  71  72  73  74  75  76  77\n",
            "   78  79]\n",
            " [ 80  81  82  83  84  85  86  87  88  89  90  91  92  93  94  95  96  97\n",
            "   98  99]\n",
            " [100 101 102 103 104 105 106 107 108 109 110 111 112 113 114 115 116 117\n",
            "  118 119]]\n"
          ]
        }
      ]
    },
    {
      "cell_type": "markdown",
      "source": [
        "## 배열 펼치기 (Flattening)\n",
        "배열 펼치기는 다차원 배열을 일차원으로 만들어줍니다.<br>\n",
        "일반적인 다층 퍼셉트론 인공 신경망은 일차원 배열을 입력으로 받기 때문에<br> MNIST 데이터셋을 사용하면 28 x 28 2차원 배열을 길이 784의 일차원 배열로 만들어 사용합니다."
      ],
      "metadata": {
        "id": "RpaG2yDgm4XH"
      }
    },
    {
      "cell_type": "code",
      "source": [
        "k = np.random.rand(5, 6)\n",
        "k"
      ],
      "metadata": {
        "id": "-EcIxVhPnf-1",
        "outputId": "1d610e47-390c-42ed-b66e-0f2069b8f68f",
        "colab": {
          "base_uri": "https://localhost:8080/"
        }
      },
      "execution_count": 17,
      "outputs": [
        {
          "output_type": "execute_result",
          "data": {
            "text/plain": [
              "array([[0.64640465, 0.21461514, 0.80959157, 0.83936112, 0.47375952,\n",
              "        0.35758676],\n",
              "       [0.64179528, 0.99535088, 0.92456001, 0.00539442, 0.6304778 ,\n",
              "        0.43785407],\n",
              "       [0.43756692, 0.90245854, 0.85640323, 0.33679057, 0.47508738,\n",
              "        0.08867289],\n",
              "       [0.15127567, 0.92105475, 0.46462124, 0.12967916, 0.55272392,\n",
              "        0.28080413],\n",
              "       [0.51846883, 0.94507563, 0.51111159, 0.55183713, 0.47492139,\n",
              "        0.94739144]])"
            ]
          },
          "metadata": {},
          "execution_count": 17
        }
      ]
    },
    {
      "cell_type": "markdown",
      "source": [
        "### 기본 순서대로 펼치기"
      ],
      "metadata": {
        "id": "vo3DsO7Znk7D"
      }
    },
    {
      "cell_type": "code",
      "source": [
        "# k와 k1을 비교해보세요.\n",
        "k1 = k.flatten() \n",
        "k1"
      ],
      "metadata": {
        "id": "RasJm2OgniU1",
        "outputId": "8a8b2e63-3afd-4c0d-89d8-1998b46167e8",
        "colab": {
          "base_uri": "https://localhost:8080/"
        }
      },
      "execution_count": 18,
      "outputs": [
        {
          "output_type": "execute_result",
          "data": {
            "text/plain": [
              "array([0.64640465, 0.21461514, 0.80959157, 0.83936112, 0.47375952,\n",
              "       0.35758676, 0.64179528, 0.99535088, 0.92456001, 0.00539442,\n",
              "       0.6304778 , 0.43785407, 0.43756692, 0.90245854, 0.85640323,\n",
              "       0.33679057, 0.47508738, 0.08867289, 0.15127567, 0.92105475,\n",
              "       0.46462124, 0.12967916, 0.55272392, 0.28080413, 0.51846883,\n",
              "       0.94507563, 0.51111159, 0.55183713, 0.47492139, 0.94739144])"
            ]
          },
          "metadata": {},
          "execution_count": 18
        }
      ]
    },
    {
      "cell_type": "code",
      "source": [
        "k1.shape"
      ],
      "metadata": {
        "id": "0Qp88_a7npWg",
        "outputId": "c7deea84-71e7-43da-de00-49fbbc1b45e6",
        "colab": {
          "base_uri": "https://localhost:8080/"
        }
      },
      "execution_count": 19,
      "outputs": [
        {
          "output_type": "execute_result",
          "data": {
            "text/plain": [
              "(30,)"
            ]
          },
          "metadata": {},
          "execution_count": 19
        }
      ]
    },
    {
      "cell_type": "markdown",
      "source": [
        "## 배열 이어 붙이기\n",
        "https://numpy.org/doc/stable/reference/generated/numpy.concatenate.html"
      ],
      "metadata": {
        "id": "xm8EHjaIn1hZ"
      }
    },
    {
      "cell_type": "code",
      "source": [
        "# 2차원 배열인 array1과 array2 생성\n",
        "array1 = np.array([[1, 2], [3, 4]])\n",
        "print(\"Array 1 is \\n\", array1, \" with dimensions \", array1.shape, \"\\n\")\n",
        "\n",
        "array2 = np.array([[5, 6]])\n",
        "print(\"Array 2 is \\n\", array2, \" with dimensions \", array2.shape, \"\\n\")"
      ],
      "metadata": {
        "id": "hRMcI_MvoH8I",
        "outputId": "5f618a5c-1469-40b6-a038-8d830d4a027f",
        "colab": {
          "base_uri": "https://localhost:8080/"
        }
      },
      "execution_count": 20,
      "outputs": [
        {
          "output_type": "stream",
          "name": "stdout",
          "text": [
            "Array 1 is \n",
            " [[1 2]\n",
            " [3 4]]  with dimensions  (2, 2) \n",
            "\n",
            "Array 2 is \n",
            " [[5 6]]  with dimensions  (1, 2) \n",
            "\n"
          ]
        }
      ]
    },
    {
      "cell_type": "markdown",
      "source": [
        "배열을 이어붙일 때에는 기준이 되는 축 이외에 모양이 동일해야 합니다.<br>\n",
        "1. (2, 2)와 (1, 2) 이어 붙일 때 0번 인덱스로 이어붙이면 (3, 2) 배열 탄생\n",
        "2. (2, 2)와 (1, 2) 이어 붙일 때 1번 인덱스로 이어붙이면 0번 인덱스의 모양이 서로 다르므로 이어붙이기 실패"
      ],
      "metadata": {
        "id": "Fd0IA5TboYWU"
      }
    },
    {
      "cell_type": "code",
      "source": [
        "# TODO: 0번 인덱스를 기준으로 array1과 array2를 이어붙이세요.\n",
        "concatenated_array1 = np.concatenate((array1, array2), axis =0)\n",
        "print(\"Concatenated array 1 along axis 0 (row-wise for 2-d arrays) is \\n\", concatenated_array1, \"with dimensions \", concatenated_array1.shape, '\\n')"
      ],
      "metadata": {
        "id": "2cAvPXwjo1c4",
        "outputId": "37343cd2-f917-4389-fe7e-800e3ed01be5",
        "colab": {
          "base_uri": "https://localhost:8080/"
        }
      },
      "execution_count": 23,
      "outputs": [
        {
          "output_type": "stream",
          "name": "stdout",
          "text": [
            "Concatenated array 1 along axis 0 (row-wise for 2-d arrays) is \n",
            " [[1 2]\n",
            " [3 4]\n",
            " [5 6]] with dimensions  (3, 2) \n",
            "\n"
          ]
        }
      ]
    },
    {
      "cell_type": "code",
      "source": [
        "# TODO: 1번 인덱스를 기준으로 array1과 array2를 이어붙이세요. (실패합니다. 에러 메시지를 확인하세요.)\n",
        "concatenated_array2 = np.concatenate((array1, array2), axis = 1)\n",
        "print(\"Concatenated array 2 along axis 0 (column-wise for 2-d arrays) is \\n\", concatenated_array2, \"with dimensions \", concatenated_array2.shape)"
      ],
      "metadata": {
        "id": "aOCDXVggrJHk",
        "outputId": "e1658b4f-bc5e-4827-c1d8-06b72860f5d9",
        "colab": {
          "base_uri": "https://localhost:8080/",
          "height": 259
        }
      },
      "execution_count": 25,
      "outputs": [
        {
          "output_type": "error",
          "ename": "ValueError",
          "evalue": "ignored",
          "traceback": [
            "\u001b[0;31m---------------------------------------------------------------------------\u001b[0m",
            "\u001b[0;31mValueError\u001b[0m                                Traceback (most recent call last)",
            "\u001b[0;32m<ipython-input-25-28af04b3ee91>\u001b[0m in \u001b[0;36m<module>\u001b[0;34m\u001b[0m\n\u001b[1;32m      1\u001b[0m \u001b[0;31m# TODO: 1번 인덱스를 기준으로 array1과 array2를 이어붙이세요. (실패합니다. 에러 메시지를 확인하세요.)\u001b[0m\u001b[0;34m\u001b[0m\u001b[0;34m\u001b[0m\u001b[0;34m\u001b[0m\u001b[0m\n\u001b[0;32m----> 2\u001b[0;31m \u001b[0mconcatenated_array2\u001b[0m \u001b[0;34m=\u001b[0m \u001b[0mnp\u001b[0m\u001b[0;34m.\u001b[0m\u001b[0mconcatenate\u001b[0m\u001b[0;34m(\u001b[0m\u001b[0;34m(\u001b[0m\u001b[0marray1\u001b[0m\u001b[0;34m,\u001b[0m \u001b[0marray2\u001b[0m\u001b[0;34m)\u001b[0m\u001b[0;34m,\u001b[0m \u001b[0maxis\u001b[0m \u001b[0;34m=\u001b[0m \u001b[0;36m1\u001b[0m\u001b[0;34m)\u001b[0m\u001b[0;34m\u001b[0m\u001b[0;34m\u001b[0m\u001b[0m\n\u001b[0m\u001b[1;32m      3\u001b[0m \u001b[0mprint\u001b[0m\u001b[0;34m(\u001b[0m\u001b[0;34m\"Concatenated array 2 along axis 0 (column-wise for 2-d arrays) is \\n\"\u001b[0m\u001b[0;34m,\u001b[0m \u001b[0mconcatenated_array2\u001b[0m\u001b[0;34m,\u001b[0m \u001b[0;34m\"with dimensions \"\u001b[0m\u001b[0;34m,\u001b[0m \u001b[0mconcatenated_array2\u001b[0m\u001b[0;34m.\u001b[0m\u001b[0mshape\u001b[0m\u001b[0;34m)\u001b[0m\u001b[0;34m\u001b[0m\u001b[0;34m\u001b[0m\u001b[0m\n",
            "\u001b[0;32m/usr/local/lib/python3.8/dist-packages/numpy/core/overrides.py\u001b[0m in \u001b[0;36mconcatenate\u001b[0;34m(*args, **kwargs)\u001b[0m\n",
            "\u001b[0;31mValueError\u001b[0m: all the input array dimensions for the concatenation axis must match exactly, but along dimension 0, the array at index 0 has size 2 and the array at index 1 has size 1"
          ]
        }
      ]
    },
    {
      "cell_type": "code",
      "source": [
        "# TODO: (3, 4, 5) 형태에 3 미만의 무작위 정수로 채워진 배열을 만드세요.\n",
        "# https://numpy.org/doc/stable/reference/random/generated/numpy.random.randint.html\n",
        "array1 = np.random.randint(3,size = (3,4,5))\n",
        "print(\"Array 1 is \\n\", array1, \" with dimensions \", array1.shape, \"\\n\")"
      ],
      "metadata": {
        "id": "7q245PFzpcru",
        "outputId": "acbd86e8-9d1e-43dc-991e-dece89f146e8",
        "colab": {
          "base_uri": "https://localhost:8080/"
        }
      },
      "execution_count": 26,
      "outputs": [
        {
          "output_type": "stream",
          "name": "stdout",
          "text": [
            "Array 1 is \n",
            " [[[0 1 0 0 1]\n",
            "  [2 0 1 0 1]\n",
            "  [1 0 2 2 0]\n",
            "  [2 1 1 1 0]]\n",
            "\n",
            " [[0 0 1 1 0]\n",
            "  [1 1 2 1 0]\n",
            "  [1 2 1 1 0]\n",
            "  [2 1 2 1 2]]\n",
            "\n",
            " [[0 1 1 0 0]\n",
            "  [1 0 2 0 0]\n",
            "  [2 0 1 0 1]\n",
            "  [0 2 1 2 2]]]  with dimensions  (3, 4, 5) \n",
            "\n"
          ]
        }
      ]
    },
    {
      "cell_type": "code",
      "source": [
        "# TODO: (3, 4, 5) 형태에 4 미만의 무작위 정수로 채워진 배열을 만드세요.\n",
        "array2 = np.random.randint(4, size = (3,4,5))\n",
        "print(\"Array 2 is \\n\", array2, \" with dimensions \", array2.shape, \"\\n\")"
      ],
      "metadata": {
        "id": "m5iEk018rkG4",
        "outputId": "1cb7c494-25b9-4bdf-add0-c174c65c00bf",
        "colab": {
          "base_uri": "https://localhost:8080/"
        }
      },
      "execution_count": 27,
      "outputs": [
        {
          "output_type": "stream",
          "name": "stdout",
          "text": [
            "Array 2 is \n",
            " [[[2 2 0 3 0]\n",
            "  [1 0 2 3 1]\n",
            "  [1 0 0 3 0]\n",
            "  [2 0 1 1 3]]\n",
            "\n",
            " [[3 3 1 0 1]\n",
            "  [0 2 1 1 3]\n",
            "  [3 2 0 1 3]\n",
            "  [1 3 2 0 2]]\n",
            "\n",
            " [[0 3 3 3 2]\n",
            "  [1 3 1 1 3]\n",
            "  [2 3 2 2 1]\n",
            "  [0 2 2 2 0]]]  with dimensions  (3, 4, 5) \n",
            "\n"
          ]
        }
      ]
    },
    {
      "cell_type": "markdown",
      "source": [
        "***TODO: 0번 인덱스를 기준으로 이어붙이기***\n",
        "* Q: 어떤 모양일까요? (코딩으로 결과 확인 전에 작성해보세요.)\n",
        "* A: (4,5) 배열이 6묶음인 형태일 것 같다."
      ],
      "metadata": {
        "id": "EaUNbC5sr8gy"
      }
    },
    {
      "cell_type": "code",
      "source": [
        "# TODO: 0번 인덱스를 기준으로 이어붙이기\n",
        "concatenated_array1 = np.concatenate((array1, array2), 0)\n",
        "print(\"Concatenated array 1 is \\n\", concatenated_array1, \"\\n\\n\", \"and the dimensions of the concatenated array 1 are: \\n\", concatenated_array1.shape)"
      ],
      "metadata": {
        "id": "kapJeOHXqgGW",
        "outputId": "01e41806-1de5-4ee8-e2d8-28fd3b6d8c0c",
        "colab": {
          "base_uri": "https://localhost:8080/"
        }
      },
      "execution_count": 28,
      "outputs": [
        {
          "output_type": "stream",
          "name": "stdout",
          "text": [
            "Concatenated array 1 is \n",
            " [[[0 1 0 0 1]\n",
            "  [2 0 1 0 1]\n",
            "  [1 0 2 2 0]\n",
            "  [2 1 1 1 0]]\n",
            "\n",
            " [[0 0 1 1 0]\n",
            "  [1 1 2 1 0]\n",
            "  [1 2 1 1 0]\n",
            "  [2 1 2 1 2]]\n",
            "\n",
            " [[0 1 1 0 0]\n",
            "  [1 0 2 0 0]\n",
            "  [2 0 1 0 1]\n",
            "  [0 2 1 2 2]]\n",
            "\n",
            " [[2 2 0 3 0]\n",
            "  [1 0 2 3 1]\n",
            "  [1 0 0 3 0]\n",
            "  [2 0 1 1 3]]\n",
            "\n",
            " [[3 3 1 0 1]\n",
            "  [0 2 1 1 3]\n",
            "  [3 2 0 1 3]\n",
            "  [1 3 2 0 2]]\n",
            "\n",
            " [[0 3 3 3 2]\n",
            "  [1 3 1 1 3]\n",
            "  [2 3 2 2 1]\n",
            "  [0 2 2 2 0]]] \n",
            "\n",
            " and the dimensions of the concatenated array 1 are: \n",
            " (6, 4, 5)\n"
          ]
        }
      ]
    },
    {
      "cell_type": "markdown",
      "source": [
        "***TODO: 1번 인덱스를 기준으로 이어붙이기***\n",
        "* Q: 어떤 모양일까요? (코딩으로 결과 확인 전에 작성해보세요.)\n",
        "* A: 3개의 묶음에서 행이 늘어난 형태일 것 같다."
      ],
      "metadata": {
        "id": "iZNFj2LnsQ6U"
      }
    },
    {
      "cell_type": "code",
      "source": [
        "# TODO: 1번 인덱스를 기준으로 이어붙이기\n",
        "concatenated_array2 = np.concatenate((array1, array2), 1)\n",
        "print(\"Concatenated array 2 is \\n\", concatenated_array2, \"\\n\\n\", \"and the dimensions of the concatenated array 2 are: \\n\", concatenated_array2.shape)"
      ],
      "metadata": {
        "id": "iFZden1jsUGs",
        "outputId": "2319e043-51fd-43b2-f91b-91fec1d7d59a",
        "colab": {
          "base_uri": "https://localhost:8080/"
        }
      },
      "execution_count": 29,
      "outputs": [
        {
          "output_type": "stream",
          "name": "stdout",
          "text": [
            "Concatenated array 2 is \n",
            " [[[0 1 0 0 1]\n",
            "  [2 0 1 0 1]\n",
            "  [1 0 2 2 0]\n",
            "  [2 1 1 1 0]\n",
            "  [2 2 0 3 0]\n",
            "  [1 0 2 3 1]\n",
            "  [1 0 0 3 0]\n",
            "  [2 0 1 1 3]]\n",
            "\n",
            " [[0 0 1 1 0]\n",
            "  [1 1 2 1 0]\n",
            "  [1 2 1 1 0]\n",
            "  [2 1 2 1 2]\n",
            "  [3 3 1 0 1]\n",
            "  [0 2 1 1 3]\n",
            "  [3 2 0 1 3]\n",
            "  [1 3 2 0 2]]\n",
            "\n",
            " [[0 1 1 0 0]\n",
            "  [1 0 2 0 0]\n",
            "  [2 0 1 0 1]\n",
            "  [0 2 1 2 2]\n",
            "  [0 3 3 3 2]\n",
            "  [1 3 1 1 3]\n",
            "  [2 3 2 2 1]\n",
            "  [0 2 2 2 0]]] \n",
            "\n",
            " and the dimensions of the concatenated array 2 are: \n",
            " (3, 8, 5)\n"
          ]
        }
      ]
    },
    {
      "cell_type": "markdown",
      "source": [
        "***TODO: 2번 인덱스를 기준으로 이어붙이기***\n",
        "* Q: 어떤 모양일까요? (코딩으로 결과 확인 전에 작성해보세요.)\n",
        "* A: 각 묶음에서 열이 늘어난 형태일 것 같다."
      ],
      "metadata": {
        "id": "Kb_mSmntsXJv"
      }
    },
    {
      "cell_type": "code",
      "source": [
        "# TODO: 2번 인덱스를 기준으로 이어붙이기\n",
        "concatenated_array3 = np.concatenate((array1, array2), 2)\n",
        "print(\"Concatenated array 3 is \\n\", concatenated_array3, \"\\n\\n\", \"and the dimensions of the concatenated array 3 are: \\n\", concatenated_array3.shape)"
      ],
      "metadata": {
        "id": "1SladNrFsbAq",
        "outputId": "024701e2-3243-497c-e3ed-42b1266851e7",
        "colab": {
          "base_uri": "https://localhost:8080/"
        }
      },
      "execution_count": 30,
      "outputs": [
        {
          "output_type": "stream",
          "name": "stdout",
          "text": [
            "Concatenated array 3 is \n",
            " [[[0 1 0 0 1 2 2 0 3 0]\n",
            "  [2 0 1 0 1 1 0 2 3 1]\n",
            "  [1 0 2 2 0 1 0 0 3 0]\n",
            "  [2 1 1 1 0 2 0 1 1 3]]\n",
            "\n",
            " [[0 0 1 1 0 3 3 1 0 1]\n",
            "  [1 1 2 1 0 0 2 1 1 3]\n",
            "  [1 2 1 1 0 3 2 0 1 3]\n",
            "  [2 1 2 1 2 1 3 2 0 2]]\n",
            "\n",
            " [[0 1 1 0 0 0 3 3 3 2]\n",
            "  [1 0 2 0 0 1 3 1 1 3]\n",
            "  [2 0 1 0 1 2 3 2 2 1]\n",
            "  [0 2 1 2 2 0 2 2 2 0]]] \n",
            "\n",
            " and the dimensions of the concatenated array 3 are: \n",
            " (3, 4, 10)\n"
          ]
        }
      ]
    }
  ]
}