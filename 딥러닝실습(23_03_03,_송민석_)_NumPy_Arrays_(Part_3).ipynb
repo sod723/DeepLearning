{
  "nbformat": 4,
  "nbformat_minor": 0,
  "metadata": {
    "colab": {
      "provenance": []
    },
    "kernelspec": {
      "name": "python3",
      "display_name": "Python 3"
    },
    "language_info": {
      "name": "python"
    }
  },
  "cells": [
    {
      "cell_type": "markdown",
      "source": [
        "# NumPy Arrays - Part 3<br>\n",
        "NumPy - 대규모의 다차원 배열을 쉽게 처리할 때 사용하는 파이썬 라이브러리<br>\n",
        "\n",
        "원본 출처: Introduction to Deep Learning at Carnegie Mellon University (https://deeplearning.cs.cmu.edu/S22/index.html)"
      ],
      "metadata": {
        "id": "6lftPq60eQHf"
      }
    },
    {
      "cell_type": "code",
      "execution_count": 1,
      "metadata": {
        "id": "mYtDfXUjeNpz"
      },
      "outputs": [],
      "source": [
        "# Import the NumPy \n",
        "import numpy as np"
      ]
    },
    {
      "cell_type": "markdown",
      "source": [
        "## 1. 데이터 읽어오기"
      ],
      "metadata": {
        "id": "OZpy5ioQeTOo"
      }
    },
    {
      "cell_type": "markdown",
      "source": [
        "### a. 인덱싱: NumPy 배열에서 값 읽어오기"
      ],
      "metadata": {
        "id": "zpzke-V6eajK"
      }
    },
    {
      "cell_type": "code",
      "source": [
        "# TODO: 무작위 값으로 채워진 4 x 5 x 6 배열을 만들어보세요. (5 x 6 행렬이 4개 묶음 있는 것으로 해석할 수 있음)\n",
        "n = np.random.rand(4, 5, 6)\n",
        "n.shape"
      ],
      "metadata": {
        "id": "r6zIS_dhelNd",
        "outputId": "1a625643-c95f-48f1-d9eb-2cd5900245c1",
        "colab": {
          "base_uri": "https://localhost:8080/"
        }
      },
      "execution_count": 2,
      "outputs": [
        {
          "output_type": "execute_result",
          "data": {
            "text/plain": [
              "(4, 5, 6)"
            ]
          },
          "metadata": {},
          "execution_count": 2
        }
      ]
    },
    {
      "cell_type": "markdown",
      "source": [
        "나중에 다룰 MNIST (필기체 인식) 데이터셋의 모양은 (60000, 28, 28)인데\n",
        "28 (행의 수, 높이) x 28 (열의 수, 너비)의 그림 60000만장이 있는 것으로 해석됩니다."
      ],
      "metadata": {
        "id": "sHiTWnqJ9brp"
      }
    },
    {
      "cell_type": "code",
      "source": [
        "# TODO: n에서 두 번째 묶음의 세 번째 행, 네 번째 열의 값은? (인덱스는 0에서 시작함)\n",
        "\n",
        "n[1][2][3]"
      ],
      "metadata": {
        "id": "HN_8Ea0pexSd",
        "outputId": "ddd7ca86-5ec4-4907-cdc1-1cf041077404",
        "colab": {
          "base_uri": "https://localhost:8080/"
        }
      },
      "execution_count": 3,
      "outputs": [
        {
          "output_type": "execute_result",
          "data": {
            "text/plain": [
              "0.651946069846237"
            ]
          },
          "metadata": {},
          "execution_count": 3
        }
      ]
    },
    {
      "cell_type": "markdown",
      "source": [
        "### b. 슬라이싱: NumPy 배열의 일부를 가져오기\n",
        "\n",
        "시작(포함):끝(미포함)으로 연속된 항목을 슬라이싱 <br>\n",
        ":만 쓰면 전체"
      ],
      "metadata": {
        "id": "PAaBZXXXed7s"
      }
    },
    {
      "cell_type": "code",
      "source": [
        "# 첫 번째 묶음의 모든 행렬 가져오기\n",
        "print(n[0, :, :]) # same as: n[0], 정답이므로 수정할 필요 없음"
      ],
      "metadata": {
        "id": "L9Q2XHHJfksz",
        "outputId": "af7ee9cc-06fc-4666-a9b6-abeb88f08106",
        "colab": {
          "base_uri": "https://localhost:8080/"
        }
      },
      "execution_count": 4,
      "outputs": [
        {
          "output_type": "stream",
          "name": "stdout",
          "text": [
            "[[0.37961403 0.35343582 0.18431072 0.91449883 0.02803589 0.65904709]\n",
            " [0.31086334 0.8942623  0.70057089 0.94234077 0.93477234 0.77186048]\n",
            " [0.17019914 0.43063838 0.62551194 0.40197565 0.63986615 0.69801393]\n",
            " [0.44553565 0.29985994 0.83327442 0.79536693 0.77079176 0.16533487]\n",
            " [0.45013649 0.2751294  0.34306423 0.43522541 0.84796643 0.86028351]]\n"
          ]
        }
      ]
    },
    {
      "cell_type": "code",
      "source": [
        "# TODO: 첫 번째 묶음에서 [0, 3) 행, [0, 4) 열 가져오기, 즉 3 x 4 배열이 나와야 함\n",
        "print(n[0,0:3,0:4])"
      ],
      "metadata": {
        "id": "us7ZbaWNfoCM",
        "outputId": "ddd23be1-0130-44f2-ba20-ad140f55965b",
        "colab": {
          "base_uri": "https://localhost:8080/"
        }
      },
      "execution_count": 5,
      "outputs": [
        {
          "output_type": "stream",
          "name": "stdout",
          "text": [
            "[[0.37961403 0.35343582 0.18431072 0.91449883]\n",
            " [0.31086334 0.8942623  0.70057089 0.94234077]\n",
            " [0.17019914 0.43063838 0.62551194 0.40197565]]\n"
          ]
        }
      ]
    },
    {
      "cell_type": "code",
      "source": [
        "# TODO: 전체 묶음에서 4번 째 행, 5번째 열 값들 가져오기\n",
        "print(n[:,3 ,4 ]) "
      ],
      "metadata": {
        "id": "Vu1fbcCdfwTb",
        "outputId": "49062bf8-bb17-45d9-9b5e-aa8160074cd5",
        "colab": {
          "base_uri": "https://localhost:8080/"
        }
      },
      "execution_count": 6,
      "outputs": [
        {
          "output_type": "stream",
          "name": "stdout",
          "text": [
            "[0.77079176 0.9634853  0.6167636  0.97377801]\n"
          ]
        }
      ]
    },
    {
      "cell_type": "markdown",
      "source": [
        "### c. Slicing at Interval\n",
        "시작::증가폭(스텝)으로 띄엄띄엄 슬라이싱<br>\n",
        "예) a[7::2]인 경우 a[7], a[9], a[11], ... 을 가져와서 배열로 만듦"
      ],
      "metadata": {
        "id": "x5XCMrnifzxx"
      }
    },
    {
      "cell_type": "code",
      "source": [
        "# TODO: 0번 묶음, 2번 묶음, 4번 묶음, ... 슬라이싱 (n은 3번 묶음까지만 있어서 두 개의 묶음만 출력됨)\n",
        "print(n[0::2]) "
      ],
      "metadata": {
        "id": "1n6mZkqif9_T",
        "outputId": "99082d23-a980-48a7-c09e-cfa089343cfb",
        "colab": {
          "base_uri": "https://localhost:8080/"
        }
      },
      "execution_count": 7,
      "outputs": [
        {
          "output_type": "stream",
          "name": "stdout",
          "text": [
            "[[[0.37961403 0.35343582 0.18431072 0.91449883 0.02803589 0.65904709]\n",
            "  [0.31086334 0.8942623  0.70057089 0.94234077 0.93477234 0.77186048]\n",
            "  [0.17019914 0.43063838 0.62551194 0.40197565 0.63986615 0.69801393]\n",
            "  [0.44553565 0.29985994 0.83327442 0.79536693 0.77079176 0.16533487]\n",
            "  [0.45013649 0.2751294  0.34306423 0.43522541 0.84796643 0.86028351]]\n",
            "\n",
            " [[0.78988638 0.6725412  0.07289771 0.9558491  0.2961084  0.26667978]\n",
            "  [0.49153406 0.38544842 0.7943033  0.73479234 0.21160078 0.57107296]\n",
            "  [0.27437412 0.38436003 0.95440233 0.4035846  0.54286219 0.02259375]\n",
            "  [0.49827203 0.16159007 0.10387547 0.39826394 0.6167636  0.84939246]\n",
            "  [0.56522046 0.23389181 0.49685155 0.56585447 0.96297473 0.93662906]]]\n"
          ]
        }
      ]
    },
    {
      "cell_type": "markdown",
      "source": [
        "원래 n의 모습과 비교해가며 아래의 결과는 어떻게 만들어진 것인지 이해하고 넘어가세요."
      ],
      "metadata": {
        "id": "n6-gq4BR-3gz"
      }
    },
    {
      "cell_type": "code",
      "source": [
        "print(n[0::2, 1:4, 1::2]) "
      ],
      "metadata": {
        "id": "SAx6WFBPgCbG",
        "outputId": "a605f1f9-d93f-48c0-bffa-7d81e1221d02",
        "colab": {
          "base_uri": "https://localhost:8080/"
        }
      },
      "execution_count": 8,
      "outputs": [
        {
          "output_type": "stream",
          "name": "stdout",
          "text": [
            "[[[0.8942623  0.94234077 0.77186048]\n",
            "  [0.43063838 0.40197565 0.69801393]\n",
            "  [0.29985994 0.79536693 0.16533487]]\n",
            "\n",
            " [[0.38544842 0.73479234 0.57107296]\n",
            "  [0.38436003 0.4035846  0.02259375]\n",
            "  [0.16159007 0.39826394 0.84939246]]]\n"
          ]
        }
      ]
    },
    {
      "cell_type": "markdown",
      "source": [
        "## 2. 데이터 수정하기"
      ],
      "metadata": {
        "id": "0HXKLxUNgUu5"
      }
    },
    {
      "cell_type": "code",
      "source": [
        "# 배열 복사하기\n",
        "n_copy = np.copy(n)"
      ],
      "metadata": {
        "id": "pPKNAGrtgaP4"
      },
      "execution_count": 9,
      "outputs": []
    },
    {
      "cell_type": "markdown",
      "source": [
        "### a. 하나의 값 수정하기"
      ],
      "metadata": {
        "id": "urMfsMrCgIxu"
      }
    },
    {
      "cell_type": "code",
      "source": [
        "# 복사한 배열과 n이 같은지 하나의 항목 확인\n",
        "print(n_copy[2, 4, 1] == n[2, 4, 1])"
      ],
      "metadata": {
        "id": "B5LbQnWhgevJ",
        "outputId": "b327a3f1-e746-4f44-85f5-5862d769777d",
        "colab": {
          "base_uri": "https://localhost:8080/"
        }
      },
      "execution_count": 10,
      "outputs": [
        {
          "output_type": "stream",
          "name": "stdout",
          "text": [
            "True\n"
          ]
        }
      ]
    },
    {
      "cell_type": "code",
      "source": [
        "# TODO: 복사한 배열 n_copy[2, 4, 1]의 값을 0.005로 변경\n",
        "n_copy[2,4,1]=0.005\n",
        "\n",
        "# 여전히 내용이 같은지 확인\n",
        "print(n_copy[2, 4, 1] == n[2, 4, 1])"
      ],
      "metadata": {
        "id": "2kLxN9FC_CBq",
        "outputId": "80a5bcb7-8d38-4a29-9277-c27e69a536c7",
        "colab": {
          "base_uri": "https://localhost:8080/"
        }
      },
      "execution_count": 11,
      "outputs": [
        {
          "output_type": "stream",
          "name": "stdout",
          "text": [
            "False\n"
          ]
        }
      ]
    },
    {
      "cell_type": "markdown",
      "source": [
        "n_copy는 n을 복사한 것이지만 n과 다른 위치에 독립적으로 존재한다. 만약 copy 함수로 복사하지 않고 m = n으로 m을 만든다음 m[2, 4, 1] 값을 수정하면 어떻게 될까? "
      ],
      "metadata": {
        "id": "IFmfB2Sy_LBp"
      }
    },
    {
      "cell_type": "code",
      "source": [
        "print('Before: ', n[2, 4, 1])\n",
        "m = n\n",
        "m[2, 4, 1] = 0.5\n",
        "print('After: ', n[2, 4, 1])"
      ],
      "metadata": {
        "id": "UEdqzyNAg0wh",
        "outputId": "36cfa432-4eed-4ad3-eec6-b2678652c987",
        "colab": {
          "base_uri": "https://localhost:8080/"
        }
      },
      "execution_count": 12,
      "outputs": [
        {
          "output_type": "stream",
          "name": "stdout",
          "text": [
            "Before:  0.23389180700681\n",
            "After:  0.5\n"
          ]
        }
      ]
    },
    {
      "cell_type": "code",
      "source": [
        "# n, m, n_copy가 저장된 장소 출력\n",
        "print(id(n))\n",
        "print(id(m))\n",
        "print(id(n_copy))"
      ],
      "metadata": {
        "id": "Q-PQLVO0_xLt",
        "outputId": "6ab62a0f-e31d-480d-8a36-81fce4150923",
        "colab": {
          "base_uri": "https://localhost:8080/"
        }
      },
      "execution_count": 13,
      "outputs": [
        {
          "output_type": "stream",
          "name": "stdout",
          "text": [
            "140050662059536\n",
            "140050662059536\n",
            "140050634332176\n"
          ]
        }
      ]
    },
    {
      "cell_type": "markdown",
      "source": [
        "### b. 여러 항목의 값을 같은 값으로 수정하기"
      ],
      "metadata": {
        "id": "s3oD5YFChL6l"
      }
    },
    {
      "cell_type": "code",
      "source": [
        "n_copy = np.copy(n)\n",
        "\n",
        "# n_copy 3번째 묶음의 4번째 행의 값 확인\n",
        "print(n_copy[2, 3])"
      ],
      "metadata": {
        "id": "032j547jhO3Y",
        "outputId": "a4a38e67-4ff5-47ac-ced6-b6ec13da710d",
        "colab": {
          "base_uri": "https://localhost:8080/"
        }
      },
      "execution_count": 14,
      "outputs": [
        {
          "output_type": "stream",
          "name": "stdout",
          "text": [
            "[0.49827203 0.16159007 0.10387547 0.39826394 0.6167636  0.84939246]\n"
          ]
        }
      ]
    },
    {
      "cell_type": "code",
      "source": [
        "# TODO: n_copy 3번째 묶음, 4번째 행의 값을 모두 0.5로 바꾸기\n",
        "n_copy[2, 3] = 0.5\n",
        "\n",
        "# n_copy 3번째 묶음의 4번째 열의 값 확인\n",
        "print(n_copy[2, 3])"
      ],
      "metadata": {
        "id": "XquPn1uhAYbA",
        "outputId": "213f58e5-8ebb-4c7d-986a-5d3007de0db2",
        "colab": {
          "base_uri": "https://localhost:8080/"
        }
      },
      "execution_count": 15,
      "outputs": [
        {
          "output_type": "stream",
          "name": "stdout",
          "text": [
            "[0.5 0.5 0.5 0.5 0.5 0.5]\n"
          ]
        }
      ]
    }
  ]
}