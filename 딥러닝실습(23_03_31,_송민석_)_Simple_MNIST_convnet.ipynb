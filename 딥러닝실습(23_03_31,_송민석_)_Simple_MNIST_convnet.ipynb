{
  "cells": [
    {
      "cell_type": "markdown",
      "metadata": {
        "id": "ArOjRcYF1iJV"
      },
      "source": [
        "# Simple MNIST convnet\n",
        "by uramoon@kw.ac.kr\n",
        "\n",
        "원본 출처<br>\n",
        "**Author:** [fchollet](https://twitter.com/fchollet) (<a href=\"https://raw.githubusercontent.com/ronreiter/interactive-tutorials/master/LICENSE\">Apache 2.0 License</a>)<br>\n",
        "**Date created:** 2015/06/19<br>\n",
        "**Last modified:** 2020/04/21<br>\n",
        "**Description:** A simple convnet that achieves ~99% test accuracy on MNIST."
      ]
    },
    {
      "cell_type": "markdown",
      "source": [
        "상단 메뉴 런타임 - 런타임 유형 변경에서 **GPU**를 선택하고 진행하세요."
      ],
      "metadata": {
        "id": "vwLA7xE9Pq8N"
      }
    },
    {
      "cell_type": "markdown",
      "metadata": {
        "id": "45H8fP9Y1iJY"
      },
      "source": [
        "## Setup"
      ]
    },
    {
      "cell_type": "code",
      "execution_count": null,
      "metadata": {
        "id": "jdgsqtqJ1iJY"
      },
      "outputs": [],
      "source": [
        "import numpy as np\n",
        "from tensorflow import keras\n",
        "from tensorflow.keras import layers"
      ]
    },
    {
      "cell_type": "markdown",
      "metadata": {
        "id": "Wa5mXEAT1iJZ"
      },
      "source": [
        "## TODO 1: Feature scaling"
      ]
    },
    {
      "cell_type": "code",
      "execution_count": null,
      "metadata": {
        "id": "EukNZ4871iJZ",
        "colab": {
          "base_uri": "https://localhost:8080/"
        },
        "outputId": "313ec4ff-9a26-435c-ddf7-5e1bcfc0c283"
      },
      "outputs": [
        {
          "output_type": "stream",
          "name": "stdout",
          "text": [
            "Downloading data from https://storage.googleapis.com/tensorflow/tf-keras-datasets/mnist.npz\n",
            "11490434/11490434 [==============================] - 2s 0us/step\n"
          ]
        }
      ],
      "source": [
        "# Model / data parameters\n",
        "num_classes = 10            # 레이블의 개수 (0, 1, 2, ..., 9, 10개) \n",
        "input_shape = (28, 28, 1)   # CNN은 2차원 정보를 활용합니다. (28 x 28 흑백 이미지 한 장, 기존 MLP는 784개 픽셀의 명암을 사용)\n",
        "\n",
        "# the data, split between train and test sets\n",
        "# X를 이미지, y를 이미지에 대한 레이블로 표현합니다.\n",
        "# X_train[0]은 첫 번째 훈련 그림, y_train[0]은 첫 번째 훈련 그림의 정답 ([0, 9]에 속한 숫자 하나)\n",
        "(X_train, y_train), (X_test, y_test) = keras.datasets.mnist.load_data()\n",
        "\n",
        "# 각 픽셀 값을 [0, 255] -> [0, 1]로 변환하세요.\n",
        "X_train = X_train.astype(\"float32\") / 256\n",
        "X_test = X_test.astype(\"float32\") / 256"
      ]
    },
    {
      "cell_type": "markdown",
      "source": [
        "## TODO 2: Input shape"
      ],
      "metadata": {
        "id": "YWnoMeIYTcnD"
      }
    },
    {
      "cell_type": "code",
      "source": [
        "# 훈련용 이미지의 shape을 출력하세요. (6만장의 28 x 28 이미지)\n",
        "print(X_train.shape)"
      ],
      "metadata": {
        "id": "5RTLJgz5RBJ0",
        "colab": {
          "base_uri": "https://localhost:8080/"
        },
        "outputId": "7eb39f5e-fe3d-4b25-c89f-fdabbe6b20ae"
      },
      "execution_count": null,
      "outputs": [
        {
          "output_type": "stream",
          "name": "stdout",
          "text": [
            "(60000, 28, 28)\n"
          ]
        }
      ]
    },
    {
      "cell_type": "markdown",
      "source": [
        "## TODO 3: Shape expanding"
      ],
      "metadata": {
        "id": "wJ3L-zu1TjFW"
      }
    },
    {
      "cell_type": "code",
      "source": [
        "# Make sure images have shape (28, 28, 1) \n",
        "# CNN은 한 장의 이미지 모양을 (가로, 세로, 채널 수)로 만들어야 합니다.\n",
        "# 컬러 이미지는 R, G, B 세 장의 채널이지만 MNIST는 흑백이라 한 장의 채널이 필요합니다.\n",
        "# 최종적으로 6만장의 28 x 28 이미지 흑백 채널 하나가 필요합니다.\n",
        "# 가장 마지막 자리에 차원 하나 늘리기: (60000, 28, 28) -> (60000, 28, 28, 1), \n",
        "# 차원 늘리기 대신 reshape 함수도 사용 가능\n",
        "\n",
        "# expand_dims는 NumPy 배열의 특정 위치에 차원을 늘려줍니다.\n",
        "# 파이썬에서 인덱싱할 때 가장 마지막 위치를 나타내는 (음의) 정수를 기입하세요.\n",
        "X_train = np.expand_dims(X_train, -1)\n",
        "X_test = np.expand_dims(X_test, -1)\n",
        "print(\"X_train shape:\", X_train.shape)\n",
        "print(X_train.shape[0], \"train samples\")\n",
        "print(X_test.shape[0], \"test samples\")"
      ],
      "metadata": {
        "id": "QdQuL31jQuPG",
        "colab": {
          "base_uri": "https://localhost:8080/"
        },
        "outputId": "42cb2a41-184a-47b8-aa63-760734330868"
      },
      "execution_count": null,
      "outputs": [
        {
          "output_type": "stream",
          "name": "stdout",
          "text": [
            "X_train shape: (60000, 28, 28, 1)\n",
            "60000 train samples\n",
            "10000 test samples\n"
          ]
        }
      ]
    },
    {
      "cell_type": "markdown",
      "metadata": {
        "id": "5crne86l1iJa"
      },
      "source": [
        "## Build the model"
      ]
    },
    {
      "cell_type": "code",
      "source": [
        "model = keras.Sequential(\n",
        "    [\n",
        "        keras.Input(shape=input_shape),\n",
        "        layers.Conv2D(32, kernel_size=(3, 3), activation=\"relu\"), # 3 by 3 크기로 이차원 이미지를 Scan 하는 유닛이 32개 있음\n",
        "        layers.MaxPooling2D(pool_size=(2, 2)),                    # 2 by 2 크기의 이미지를 하나의 값으로 요약\n",
        "        layers.Conv2D(64, kernel_size=(3, 3), activation=\"relu\"), # 3 by 3 크기로 이차원 이미지를 Scan 하는 유닛이 64개 있음\n",
        "        layers.MaxPooling2D(pool_size=(2, 2)),                    # 2 by 2 크기의 이미지를 하나의 값으로 요약\n",
        "        layers.Flatten(),                                 # MLP에 사용되는 입력처럼 1차원 배열로 만들어주는 층\n",
        "        layers.Dense(num_classes, activation=\"softmax\"),  # CNN의 출력층은 MLP와 동일합니다.\n",
        "    ]\n",
        ")\n",
        "\n",
        "model.summary()"
      ],
      "metadata": {
        "id": "cHowQ6H2KQ7T",
        "colab": {
          "base_uri": "https://localhost:8080/"
        },
        "outputId": "8c8545fd-adbd-4fc3-8e77-583cc9b7daf1"
      },
      "execution_count": null,
      "outputs": [
        {
          "output_type": "stream",
          "name": "stdout",
          "text": [
            "Model: \"sequential\"\n",
            "_________________________________________________________________\n",
            " Layer (type)                Output Shape              Param #   \n",
            "=================================================================\n",
            " conv2d (Conv2D)             (None, 26, 26, 32)        320       \n",
            "                                                                 \n",
            " max_pooling2d (MaxPooling2D  (None, 13, 13, 32)       0         \n",
            " )                                                               \n",
            "                                                                 \n",
            " conv2d_1 (Conv2D)           (None, 11, 11, 64)        18496     \n",
            "                                                                 \n",
            " max_pooling2d_1 (MaxPooling  (None, 5, 5, 64)         0         \n",
            " 2D)                                                             \n",
            "                                                                 \n",
            " flatten (Flatten)           (None, 1600)              0         \n",
            "                                                                 \n",
            " dense (Dense)               (None, 10)                16010     \n",
            "                                                                 \n",
            "=================================================================\n",
            "Total params: 34,826\n",
            "Trainable params: 34,826\n",
            "Non-trainable params: 0\n",
            "_________________________________________________________________\n"
          ]
        }
      ]
    },
    {
      "cell_type": "markdown",
      "source": [
        "##TODO 4: Model training"
      ],
      "metadata": {
        "id": "wVtff9FzUzLW"
      }
    },
    {
      "cell_type": "code",
      "execution_count": null,
      "metadata": {
        "id": "U8l6slYJ1iJc",
        "colab": {
          "base_uri": "https://localhost:8080/"
        },
        "outputId": "3710f718-42ba-471e-aba7-8e90a5f21b9f"
      },
      "outputs": [
        {
          "output_type": "stream",
          "name": "stdout",
          "text": [
            "Epoch 1/10000\n",
            "375/375 [==============================] - 13s 5ms/step - loss: 0.3149 - accuracy: 0.9130 - val_loss: 0.0982 - val_accuracy: 0.9705\n",
            "Epoch 2/10000\n",
            "375/375 [==============================] - 2s 5ms/step - loss: 0.0818 - accuracy: 0.9750 - val_loss: 0.0691 - val_accuracy: 0.9793\n",
            "Epoch 3/10000\n",
            "375/375 [==============================] - 2s 4ms/step - loss: 0.0591 - accuracy: 0.9824 - val_loss: 0.0569 - val_accuracy: 0.9829\n",
            "Epoch 4/10000\n",
            "375/375 [==============================] - 2s 4ms/step - loss: 0.0469 - accuracy: 0.9854 - val_loss: 0.0557 - val_accuracy: 0.9838\n",
            "Epoch 5/10000\n",
            "375/375 [==============================] - 2s 6ms/step - loss: 0.0423 - accuracy: 0.9873 - val_loss: 0.0594 - val_accuracy: 0.9821\n",
            "Epoch 6/10000\n",
            "375/375 [==============================] - 2s 5ms/step - loss: 0.0356 - accuracy: 0.9886 - val_loss: 0.0508 - val_accuracy: 0.9843\n",
            "Epoch 7/10000\n",
            "375/375 [==============================] - 2s 4ms/step - loss: 0.0298 - accuracy: 0.9909 - val_loss: 0.0471 - val_accuracy: 0.9848\n",
            "Epoch 8/10000\n",
            "375/375 [==============================] - 2s 4ms/step - loss: 0.0272 - accuracy: 0.9915 - val_loss: 0.0428 - val_accuracy: 0.9876\n",
            "Epoch 9/10000\n",
            "375/375 [==============================] - 2s 5ms/step - loss: 0.0229 - accuracy: 0.9928 - val_loss: 0.0422 - val_accuracy: 0.9874\n",
            "Epoch 10/10000\n",
            "375/375 [==============================] - 2s 5ms/step - loss: 0.0200 - accuracy: 0.9935 - val_loss: 0.0439 - val_accuracy: 0.9871\n",
            "Epoch 11/10000\n",
            "375/375 [==============================] - 2s 4ms/step - loss: 0.0168 - accuracy: 0.9947 - val_loss: 0.0455 - val_accuracy: 0.9871\n",
            "Epoch 12/10000\n",
            "375/375 [==============================] - 2s 5ms/step - loss: 0.0149 - accuracy: 0.9952 - val_loss: 0.0443 - val_accuracy: 0.9871\n",
            "Epoch 13/10000\n",
            "375/375 [==============================] - 2s 5ms/step - loss: 0.0121 - accuracy: 0.9966 - val_loss: 0.0427 - val_accuracy: 0.9885\n",
            "Epoch 14/10000\n",
            "375/375 [==============================] - 2s 5ms/step - loss: 0.0111 - accuracy: 0.9965 - val_loss: 0.0495 - val_accuracy: 0.9879\n",
            "Epoch 15/10000\n",
            "375/375 [==============================] - 2s 4ms/step - loss: 0.0101 - accuracy: 0.9968 - val_loss: 0.0450 - val_accuracy: 0.9872\n",
            "Epoch 16/10000\n",
            "375/375 [==============================] - 2s 4ms/step - loss: 0.0080 - accuracy: 0.9978 - val_loss: 0.0521 - val_accuracy: 0.9879\n",
            "Epoch 17/10000\n",
            "375/375 [==============================] - 2s 4ms/step - loss: 0.0081 - accuracy: 0.9972 - val_loss: 0.0546 - val_accuracy: 0.9881\n",
            "Epoch 18/10000\n",
            "375/375 [==============================] - 2s 4ms/step - loss: 0.0070 - accuracy: 0.9977 - val_loss: 0.0505 - val_accuracy: 0.9885\n",
            "Epoch 19/10000\n",
            "375/375 [==============================] - 2s 5ms/step - loss: 0.0039 - accuracy: 0.9990 - val_loss: 0.0503 - val_accuracy: 0.9887\n",
            "Epoch 20/10000\n",
            "375/375 [==============================] - 2s 5ms/step - loss: 0.0052 - accuracy: 0.9983 - val_loss: 0.0564 - val_accuracy: 0.9880\n",
            "Epoch 21/10000\n",
            "375/375 [==============================] - 2s 5ms/step - loss: 0.0052 - accuracy: 0.9983 - val_loss: 0.0555 - val_accuracy: 0.9875\n",
            "Epoch 22/10000\n",
            "375/375 [==============================] - 2s 4ms/step - loss: 0.0059 - accuracy: 0.9981 - val_loss: 0.0507 - val_accuracy: 0.9891\n",
            "Epoch 23/10000\n",
            "375/375 [==============================] - 2s 5ms/step - loss: 0.0024 - accuracy: 0.9994 - val_loss: 0.0560 - val_accuracy: 0.9892\n",
            "Epoch 24/10000\n",
            "375/375 [==============================] - 2s 5ms/step - loss: 0.0014 - accuracy: 0.9997 - val_loss: 0.0582 - val_accuracy: 0.9894\n"
          ]
        },
        {
          "output_type": "execute_result",
          "data": {
            "text/plain": [
              "<keras.callbacks.History at 0x7fc3f02b05e0>"
            ]
          },
          "metadata": {},
          "execution_count": 6
        }
      ],
      "source": [
        "from tensorflow.keras.callbacks import EarlyStopping\n",
        "\n",
        "batch_size = 128\n",
        "epochs = 10000\n",
        "\n",
        "model.compile(loss=\"sparse_categorical_crossentropy\", optimizer=\"Adam\", metrics=[\"accuracy\"])\n",
        "\n",
        "# TODO: 자유롭게 설정하세요.\n",
        "# https://keras.io/api/callbacks/early_stopping/\n",
        "es = EarlyStopping(patience=15, restore_best_weights=False)\n",
        "\n",
        "# 훈련 데이터의 20%는 사용하지 않고 남겨두었다가 Epoch이 끝날 때마다 남겨둔 데이터로 성능을 평가하여 출력해보세요.\n",
        "# 따로 테스트를 하지 않더라도 테스트 했을 때의 성능을 짐작할 수 있게 도와줍니다.\n",
        "# Hint: https://keras.io/api/models/model_training_apis/ 에서 fit method 참조\n",
        "model.fit(X_train, y_train, batch_size=batch_size, epochs=epochs, callbacks=es, validation_split=0.2)"
      ]
    },
    {
      "cell_type": "markdown",
      "metadata": {
        "id": "mBq6ZYNk1iJc"
      },
      "source": [
        "## Evaluate the trained model\n",
        "\n",
        "Test 정확도가 99% 미만이면 TODO4부터 다시 수행하세요."
      ]
    },
    {
      "cell_type": "code",
      "execution_count": null,
      "metadata": {
        "id": "3MiZmVp71iJc",
        "colab": {
          "base_uri": "https://localhost:8080/"
        },
        "outputId": "6e2919aa-a817-45f0-936f-053728843c4f"
      },
      "outputs": [
        {
          "output_type": "stream",
          "name": "stdout",
          "text": [
            "Test loss: 0.04849518463015556\n",
            "Test accuracy: 0.9901999831199646\n"
          ]
        }
      ],
      "source": [
        "score = model.evaluate(X_test, y_test, verbose=0)\n",
        "print(\"Test loss:\", score[0])\n",
        "print(\"Test accuracy:\", score[1])"
      ]
    },
    {
      "cell_type": "markdown",
      "source": [
        "## 우리가 만든 테스트 데이터 읽어오기\n",
        "좌측 파일 메뉴를 활용하여 test_images.npy, test_labels.npy 파일을 Colab에 업로드하세요.\n"
      ],
      "metadata": {
        "id": "AxovfB3oWDbc"
      }
    },
    {
      "cell_type": "code",
      "source": [
        "our_test_images = np.load('our_test_images.npy')\n",
        "our_test_labels = np.load('our_test_labels.npy')"
      ],
      "metadata": {
        "id": "3YK47PmO6wLr"
      },
      "execution_count": null,
      "outputs": []
    },
    {
      "cell_type": "markdown",
      "source": [
        "잘 읽어왔는지 9장을 무작위로 그려봅니다."
      ],
      "metadata": {
        "id": "e7DlsOFXPOFF"
      }
    },
    {
      "cell_type": "code",
      "source": [
        "%matplotlib inline\n",
        "import matplotlib.pyplot as plt\n",
        "import random\n",
        "\n",
        "plt.figure(figsize=(10, 10))\n",
        "for i in range(9):\n",
        "  ax = plt.subplot(3, 3, i + 1)\n",
        "  rand = random.randint(0, len(our_test_images) - 1)\n",
        "  plt.imshow(our_test_images[rand].reshape(28, 28))\n",
        "  plt.title(our_test_labels[rand])\n",
        "  plt.axis(\"off\")"
      ],
      "metadata": {
        "id": "4ZChHb00PNh-",
        "colab": {
          "base_uri": "https://localhost:8080/",
          "height": 829
        },
        "outputId": "636213d6-3391-4ef4-f69e-63dd4bfcf275"
      },
      "execution_count": null,
      "outputs": [
        {
          "output_type": "display_data",
          "data": {
            "text/plain": [
              "<Figure size 1000x1000 with 9 Axes>"
            ],
            "image/png": "[encoded data removed]"
          },
          "metadata": {}
        }
      ]
    },
    {
      "cell_type": "markdown",
      "source": [
        "## TODO5: 테스트 이미지 모양 변환"
      ],
      "metadata": {
        "id": "8HxdM3IxSVBo"
      }
    },
    {
      "cell_type": "code",
      "source": [
        "# TODO: 현재 our_test_images의 모양을 출력해봅시다.\n",
        "print(our_test_images.shape)"
      ],
      "metadata": {
        "id": "O4C5esE2SY88",
        "colab": {
          "base_uri": "https://localhost:8080/"
        },
        "outputId": "dd58e88c-5389-48cd-ad91-63c71640faa6"
      },
      "execution_count": null,
      "outputs": [
        {
          "output_type": "stream",
          "name": "stdout",
          "text": [
            "(30, 784)\n"
          ]
        }
      ]
    },
    {
      "cell_type": "code",
      "source": [
        "# TODO: 우리가 만든 모델의 입력층에 들어갈 수 있도록 our_test_images 모양을 바꿔봅시다.\n",
        "# Hint: reshape 함수를 사용하시면 쉽습니다.\n",
        "our_test_images = our_test_images.reshape(-1, 28, 28, 1)"
      ],
      "metadata": {
        "id": "gZ7U-Kd9Sc8C"
      },
      "execution_count": null,
      "outputs": []
    },
    {
      "cell_type": "markdown",
      "source": [
        "## TODO 6: 우리가 만든 테스트 데이터로 모델 평가\n",
        "evaluate 함수를 사용합니다. 예측이 잘 되나요?<br>\n",
        "다음 시간에 이 문제를 해결할 것입니다."
      ],
      "metadata": {
        "id": "iNbHa0qIci6n"
      }
    },
    {
      "cell_type": "code",
      "source": [
        "model.evaluate(our_test_images, our_test_labels)"
      ],
      "metadata": {
        "id": "6rNvMkdS69Ov",
        "colab": {
          "base_uri": "https://localhost:8080/"
        },
        "outputId": "82764c80-8bd6-4b26-bb40-46e7580a1566"
      },
      "execution_count": null,
      "outputs": [
        {
          "output_type": "stream",
          "name": "stdout",
          "text": [
            "1/1 [==============================] - 0s 33ms/step - loss: 3.1965 - accuracy: 0.4000\n"
          ]
        },
        {
          "output_type": "execute_result",
          "data": {
            "text/plain": [
              "[3.1965339183807373, 0.4000000059604645]"
            ]
          },
          "metadata": {},
          "execution_count": 20
        }
      ]
    }
  ],
  "metadata": {
    "colab": {
      "provenance": []
    },
    "kernelspec": {
      "display_name": "Python 3",
      "language": "python",
      "name": "python3"
    },
    "language_info": {
      "codemirror_mode": {
        "name": "ipython",
        "version": 3
      },
      "file_extension": ".py",
      "mimetype": "text/x-python",
      "name": "python",
      "nbconvert_exporter": "python",
      "pygments_lexer": "ipython3",
      "version": "3.7.0"
    },
    "accelerator": "GPU",
    "gpuClass": "standard"
  },
  "nbformat": 4,
  "nbformat_minor": 0
}