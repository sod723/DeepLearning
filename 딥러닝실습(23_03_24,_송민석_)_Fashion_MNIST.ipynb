{
  "nbformat": 4,
  "nbformat_minor": 0,
  "metadata": {
    "colab": {
      "provenance": [],
      "toc_visible": true
    },
    "kernelspec": {
      "name": "python3",
      "display_name": "Python 3"
    },
    "language_info": {
      "name": "python"
    },
    "accelerator": "GPU",
    "gpuClass": "standard"
  },
  "cells": [
    {
      "cell_type": "markdown",
      "source": [
        "# Fashion MNIST\n",
        "by uramoon@kw.ac.kr (<a href=\"https://raw.githubusercontent.com/ronreiter/interactive-tutorials/master/LICENSE\">Apache 2.0 License</a>)\n",
        "\n",
        "Fashion MNIST는 MNIST와 동일한 입출력 구조를 지니고 있으나 숫자 대신 의류의 종류를 예측합니다.\n",
        "\n",
        "This is a dataset of 60,000 28x28 grayscale images of 10 fashion categories, along with a test set of 10,000 images. This dataset can be used as a drop-in replacement for MNIST.\n",
        "\n",
        "The classes are:\n",
        "\n",
        "0:\tT-shirt/top\n",
        "1:\tTrouser\n",
        "2:\tPullover\n",
        "3:\tDress\n",
        "4:\tCoat\n",
        "5:\tSandal\n",
        "6:\tShirt\n",
        "7:\tSneaker\n",
        "8:\tBag\n",
        "9:\tAnkle boot"
      ],
      "metadata": {
        "id": "NwO-ecrU9AM9"
      }
    },
    {
      "cell_type": "code",
      "source": [
        "# 데이터셋 불러오기\n",
        "from keras.datasets import fashion_mnist\n",
        "(train_images, train_labels), (test_images, test_labels) = fashion_mnist.load_data()"
      ],
      "metadata": {
        "id": "B1OaRlMf9jRU"
      },
      "execution_count": 27,
      "outputs": []
    },
    {
      "cell_type": "markdown",
      "source": [
        "## TODO 1: 훈련 데이터 살펴보기\n",
        "\n",
        "1. 훈련 데이터의 처음 세 장을 그려보세요."
      ],
      "metadata": {
        "id": "EqBkp2ez9fQ8"
      }
    },
    {
      "cell_type": "code",
      "execution_count": 28,
      "metadata": {
        "id": "hEkGwLFZ87ld",
        "outputId": "c29332a5-1a75-4f52-cf4f-41e11ba96d9f",
        "colab": {
          "base_uri": "https://localhost:8080/",
          "height": 293
        }
      },
      "outputs": [
        {
          "output_type": "display_data",
          "data": {
            "text/plain": [
              "<Figure size 1080x720 with 3 Axes>"
            ],
            "image/png": "[encoded data removed]"
          },
          "metadata": {
            "needs_background": "light"
          }
        }
      ],
      "source": [
        "# TODO: 아래 빈 칸을 채우세요.\n",
        "import matplotlib.pyplot as plt\n",
        "class_names = ['T-shirt/top', 'Trouser', 'Pullover', 'Dress', 'Coat', 'Sandal', 'Shirt', 'Sneaker', 'Bag', 'Ankle boot']\n",
        "\n",
        "plt.figure(figsize=(15, 10))\n",
        "for idx in range(3):\n",
        "  plt.subplot(1, 3, idx+1)        # 행은 1개, 열은 3개, 몇 번째 그림을 그릴 것인지 기재 (1부터 시작하는 숫자)\n",
        "  plt.imshow(train_images[idx], cmap='gray')  # 이미지 흑백으로 그리기\n",
        "  plt.title(class_names[train_labels[idx]])                # 그림 제목으로 정답 (label)을 표시해보세요. 예: 숫자가 아닌 Shirt, Bag 등\n",
        "  plt.axis('off')\n",
        "plt.show()"
      ]
    },
    {
      "cell_type": "markdown",
      "source": [
        "## TODO 2: 데이터 전처리 (모양 바꾸기, 정규화, 레이블 변환)\n",
        "레이블 변환은 하지 않고 TODO3의 loss에 'categorical_crossentropy' 대신 'sparse_categorical_crossentropy'를 사용해도 됩니다."
      ],
      "metadata": {
        "id": "B3TOlelE-xcp"
      }
    },
    {
      "cell_type": "code",
      "source": [
        "from keras.utils import to_categorical\n",
        "\n",
        "train_images = train_images.reshape((60000, 28 * 28))\n",
        "train_images = train_images.astype('float32') / 255\n",
        "\n",
        "test_images = test_images.reshape((10000, 28 * 28))\n",
        "test_images = test_images.astype('float32') / 255\n",
        "\n",
        "# train_labels = to_categorical(train_labels)\n",
        "# test_labels = to_categorical(test_labels)\n"
      ],
      "metadata": {
        "id": "iA2028gB_ADz"
      },
      "execution_count": 29,
      "outputs": []
    },
    {
      "cell_type": "markdown",
      "source": [
        "## TODO 3: 모델 훈련 (모델 생성, compile, fit, evaluate)\n",
        "테스트 데이터에 대해 88% 이상의 정확도를 보이는 모델을 만들어 보세요."
      ],
      "metadata": {
        "id": "LhIzvWKy_IdS"
      }
    },
    {
      "cell_type": "code",
      "source": [
        "from keras import models\n",
        "from keras import layers\n",
        "from keras.callbacks import EarlyStopping\n",
        "\n",
        "network = models.Sequential()\n",
        "network.add(layers.Input(784,)) # (784)는 784라는 정수, (784,)는 길이 784인 일차원 배열을 의미\n",
        "network.add(layers.Dense(512, activation='relu')) \n",
        "network.add(layers.Dense(256, activation='relu')) \n",
        "network.add(layers.Dense(10, activation='softmax')) \n",
        "\n",
        "network.compile(optimizer='rmsprop',              \n",
        "                loss='sparse_categorical_crossentropy',  \n",
        "                metrics=['accuracy'])\n",
        "\n",
        "network.fit(train_images, train_labels, batch_size=128, epochs=10000, \n",
        "            callbacks=EarlyStopping(patience=7),                 \n",
        "            validation_split=0.1)                                    \n",
        "test_loss, test_acc = network.evaluate(test_images, test_labels)\n",
        "print(f'Test Accuracy:{test_acc * 100:.2f}%')"
      ],
      "metadata": {
        "id": "6mik0RUu_jqx",
        "outputId": "5b6fb2d6-256a-4082-e557-14d7ff3edc17",
        "colab": {
          "base_uri": "https://localhost:8080/"
        }
      },
      "execution_count": 30,
      "outputs": [
        {
          "output_type": "stream",
          "name": "stdout",
          "text": [
            "Epoch 1/10000\n",
            "422/422 [==============================] - 3s 4ms/step - loss: 0.5549 - accuracy: 0.7973 - val_loss: 0.4547 - val_accuracy: 0.8168\n",
            "Epoch 2/10000\n",
            "422/422 [==============================] - 1s 3ms/step - loss: 0.3830 - accuracy: 0.8588 - val_loss: 0.3911 - val_accuracy: 0.8550\n",
            "Epoch 3/10000\n",
            "422/422 [==============================] - 1s 3ms/step - loss: 0.3408 - accuracy: 0.8736 - val_loss: 0.3268 - val_accuracy: 0.8797\n",
            "Epoch 4/10000\n",
            "422/422 [==============================] - 1s 3ms/step - loss: 0.3111 - accuracy: 0.8834 - val_loss: 0.3782 - val_accuracy: 0.8650\n",
            "Epoch 5/10000\n",
            "422/422 [==============================] - 1s 3ms/step - loss: 0.2916 - accuracy: 0.8928 - val_loss: 0.3551 - val_accuracy: 0.8780\n",
            "Epoch 6/10000\n",
            "422/422 [==============================] - 1s 3ms/step - loss: 0.2746 - accuracy: 0.8965 - val_loss: 0.3136 - val_accuracy: 0.8848\n",
            "Epoch 7/10000\n",
            "422/422 [==============================] - 1s 3ms/step - loss: 0.2592 - accuracy: 0.9019 - val_loss: 0.3194 - val_accuracy: 0.8873\n",
            "Epoch 8/10000\n",
            "422/422 [==============================] - 2s 4ms/step - loss: 0.2506 - accuracy: 0.9061 - val_loss: 0.3309 - val_accuracy: 0.8883\n",
            "Epoch 9/10000\n",
            "422/422 [==============================] - 2s 4ms/step - loss: 0.2406 - accuracy: 0.9097 - val_loss: 0.3401 - val_accuracy: 0.8815\n",
            "Epoch 10/10000\n",
            "422/422 [==============================] - 1s 3ms/step - loss: 0.2287 - accuracy: 0.9133 - val_loss: 0.3428 - val_accuracy: 0.8895\n",
            "Epoch 11/10000\n",
            "422/422 [==============================] - 2s 4ms/step - loss: 0.2221 - accuracy: 0.9162 - val_loss: 0.3307 - val_accuracy: 0.8905\n",
            "Epoch 12/10000\n",
            "422/422 [==============================] - 2s 4ms/step - loss: 0.2116 - accuracy: 0.9200 - val_loss: 0.3818 - val_accuracy: 0.8785\n",
            "Epoch 13/10000\n",
            "422/422 [==============================] - 1s 3ms/step - loss: 0.2074 - accuracy: 0.9220 - val_loss: 0.3531 - val_accuracy: 0.8903\n",
            "313/313 [==============================] - 1s 2ms/step - loss: 0.3674 - accuracy: 0.8908\n",
            "Test Accuracy:89.08%\n"
          ]
        }
      ]
    },
    {
      "cell_type": "markdown",
      "source": [
        "## TODO 4: 틀린 예제 확인하기\n",
        "TODO 3에서 만든 모델이 잘못 분류하는 그림을 테스트 데이터에서 하나 이상 찾아 그려보세요. <br>\n",
        "(원래 레이블과 모델이 예측한 레이블은 그림 제목에 표시)"
      ],
      "metadata": {
        "id": "Mmsyn3xHURoa"
      }
    },
    {
      "cell_type": "code",
      "source": [
        "import numpy as np\n",
        "\n",
        "predictions = network.predict(test_images)\n",
        "predicted_labels = np.argmax(predictions, axis=1)\n",
        "\n",
        "misclassified = np.where(predicted_labels != np.argmax(test_labels))[0]\n",
        "\n",
        "index = misclassified[0]\n",
        "plt.imshow(test_images[index].reshape(28, 28), cmap='gray')\n",
        "plt.title(f'True Label: {np.argmax(test_labels[index])}, Predicted Label: {predicted_labels[index]}')\n",
        "plt.axis('off')\n",
        "plt.show()\n"
      ],
      "metadata": {
        "id": "SSJ93bbgUhpg",
        "outputId": "7762f11c-d435-40d2-eb03-7919cae045a1",
        "colab": {
          "base_uri": "https://localhost:8080/",
          "height": 282
        }
      },
      "execution_count": 32,
      "outputs": [
        {
          "output_type": "stream",
          "name": "stdout",
          "text": [
            "313/313 [==============================] - 1s 2ms/step\n"
          ]
        },
        {
          "output_type": "display_data",
          "data": {
            "text/plain": [
              "<Figure size 432x288 with 1 Axes>"
            ],
            "image/png": "[encoded data removed]"
          },
          "metadata": {
            "needs_background": "light"
          }
        }
      ]
    }
  ]
}